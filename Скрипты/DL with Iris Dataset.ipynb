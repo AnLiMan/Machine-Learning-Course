{
  "cells": [
    {
      "cell_type": "markdown",
      "id": "f61fc24a",
      "metadata": {
        "papermill": {
          "duration": 0.00774,
          "end_time": "2023-11-01T11:38:41.431045",
          "exception": false,
          "start_time": "2023-11-01T11:38:41.423305",
          "status": "completed"
        },
        "tags": [],
        "id": "f61fc24a"
      },
      "source": [
        "# Import libraries and modules"
      ]
    },
    {
      "cell_type": "code",
      "execution_count": 1,
      "id": "a4285c70",
      "metadata": {
        "execution": {
          "iopub.execute_input": "2023-11-01T11:38:41.447709Z",
          "iopub.status.busy": "2023-11-01T11:38:41.447061Z",
          "iopub.status.idle": "2023-11-01T11:38:51.189931Z",
          "shell.execute_reply": "2023-11-01T11:38:51.189102Z"
        },
        "papermill": {
          "duration": 9.753849,
          "end_time": "2023-11-01T11:38:51.192359",
          "exception": false,
          "start_time": "2023-11-01T11:38:41.438510",
          "status": "completed"
        },
        "tags": [],
        "id": "a4285c70"
      },
      "outputs": [],
      "source": [
        "import pandas as pd\n",
        "import numpy as np\n",
        "from sklearn.preprocessing import LabelEncoder, MinMaxScaler\n",
        "from sklearn.model_selection import train_test_split\n",
        "import tensorflow.keras as keras\n",
        "from tensorflow.keras.models import Sequential\n",
        "from tensorflow.keras.layers import Dense, Dropout"
      ]
    },
    {
      "cell_type": "markdown",
      "id": "ed214852",
      "metadata": {
        "papermill": {
          "duration": 0.006898,
          "end_time": "2023-11-01T11:38:51.206873",
          "exception": false,
          "start_time": "2023-11-01T11:38:51.199975",
          "status": "completed"
        },
        "tags": [],
        "id": "ed214852"
      },
      "source": [
        "# Read the dataset file"
      ]
    },
    {
      "cell_type": "code",
      "execution_count": 60,
      "id": "1a9bee15",
      "metadata": {
        "execution": {
          "iopub.execute_input": "2023-11-01T11:38:51.223006Z",
          "iopub.status.busy": "2023-11-01T11:38:51.222354Z",
          "iopub.status.idle": "2023-11-01T11:38:51.255616Z",
          "shell.execute_reply": "2023-11-01T11:38:51.254852Z"
        },
        "papermill": {
          "duration": 0.043822,
          "end_time": "2023-11-01T11:38:51.257845",
          "exception": false,
          "start_time": "2023-11-01T11:38:51.214023",
          "status": "completed"
        },
        "tags": [],
        "id": "1a9bee15"
      },
      "outputs": [],
      "source": [
        "data = pd.read_csv('https://raw.githubusercontent.com/AnLiMan/Machine-Learning-Course/main/Datasets/Iris.csv')"
      ]
    },
    {
      "cell_type": "markdown",
      "id": "72b6dd80",
      "metadata": {
        "papermill": {
          "duration": 0.007065,
          "end_time": "2023-11-01T11:38:51.272490",
          "exception": false,
          "start_time": "2023-11-01T11:38:51.265425",
          "status": "completed"
        },
        "tags": [],
        "id": "72b6dd80"
      },
      "source": [
        "# Display the first five rows of the dataframe"
      ]
    },
    {
      "cell_type": "code",
      "execution_count": 61,
      "id": "6454cb9b",
      "metadata": {
        "execution": {
          "iopub.execute_input": "2023-11-01T11:38:51.289083Z",
          "iopub.status.busy": "2023-11-01T11:38:51.288468Z",
          "iopub.status.idle": "2023-11-01T11:38:51.299900Z",
          "shell.execute_reply": "2023-11-01T11:38:51.298696Z"
        },
        "papermill": {
          "duration": 0.022194,
          "end_time": "2023-11-01T11:38:51.302023",
          "exception": false,
          "start_time": "2023-11-01T11:38:51.279829",
          "status": "completed"
        },
        "tags": [],
        "colab": {
          "base_uri": "https://localhost:8080/"
        },
        "id": "6454cb9b",
        "outputId": "73f3da4b-aa34-4ae4-fa46-1dc09f06a167"
      },
      "outputs": [
        {
          "output_type": "stream",
          "name": "stdout",
          "text": [
            "   Id  SepalLengthCm  SepalWidthCm  PetalLengthCm  PetalWidthCm      Species\n",
            "0   1            5.1           3.5            1.4           0.2  Iris-setosa\n",
            "1   2            4.9           3.0            1.4           0.2  Iris-setosa\n",
            "2   3            4.7           3.2            1.3           0.2  Iris-setosa\n",
            "3   4            4.6           3.1            1.5           0.2  Iris-setosa\n",
            "4   5            5.0           3.6            1.4           0.2  Iris-setosa\n"
          ]
        }
      ],
      "source": [
        "print(data.head())"
      ]
    },
    {
      "cell_type": "markdown",
      "id": "21cea90e",
      "metadata": {
        "papermill": {
          "duration": 0.00722,
          "end_time": "2023-11-01T11:38:51.316828",
          "exception": false,
          "start_time": "2023-11-01T11:38:51.309608",
          "status": "completed"
        },
        "tags": [],
        "id": "21cea90e"
      },
      "source": [
        "# Display the information of the dataframe"
      ]
    },
    {
      "cell_type": "code",
      "execution_count": 62,
      "id": "1b333ffe",
      "metadata": {
        "execution": {
          "iopub.execute_input": "2023-11-01T11:38:51.333936Z",
          "iopub.status.busy": "2023-11-01T11:38:51.333323Z",
          "iopub.status.idle": "2023-11-01T11:38:51.353111Z",
          "shell.execute_reply": "2023-11-01T11:38:51.351082Z"
        },
        "papermill": {
          "duration": 0.031594,
          "end_time": "2023-11-01T11:38:51.355905",
          "exception": false,
          "start_time": "2023-11-01T11:38:51.324311",
          "status": "completed"
        },
        "tags": [],
        "colab": {
          "base_uri": "https://localhost:8080/"
        },
        "id": "1b333ffe",
        "outputId": "13b69b30-6e07-4874-a86c-fb92fbf5efb2"
      },
      "outputs": [
        {
          "output_type": "stream",
          "name": "stdout",
          "text": [
            "<class 'pandas.core.frame.DataFrame'>\n",
            "RangeIndex: 150 entries, 0 to 149\n",
            "Data columns (total 6 columns):\n",
            " #   Column         Non-Null Count  Dtype  \n",
            "---  ------         --------------  -----  \n",
            " 0   Id             150 non-null    int64  \n",
            " 1   SepalLengthCm  150 non-null    float64\n",
            " 2   SepalWidthCm   150 non-null    float64\n",
            " 3   PetalLengthCm  150 non-null    float64\n",
            " 4   PetalWidthCm   150 non-null    float64\n",
            " 5   Species        150 non-null    object \n",
            "dtypes: float64(4), int64(1), object(1)\n",
            "memory usage: 7.2+ KB\n",
            "None\n"
          ]
        }
      ],
      "source": [
        "print(data.info())"
      ]
    },
    {
      "cell_type": "markdown",
      "id": "db99b8ae",
      "metadata": {
        "papermill": {
          "duration": 0.007516,
          "end_time": "2023-11-01T11:38:51.371205",
          "exception": false,
          "start_time": "2023-11-01T11:38:51.363689",
          "status": "completed"
        },
        "tags": [],
        "id": "db99b8ae"
      },
      "source": [
        "# Display the shape of the dataframe"
      ]
    },
    {
      "cell_type": "code",
      "execution_count": 63,
      "id": "1fc346ce",
      "metadata": {
        "execution": {
          "iopub.execute_input": "2023-11-01T11:38:51.388209Z",
          "iopub.status.busy": "2023-11-01T11:38:51.387808Z",
          "iopub.status.idle": "2023-11-01T11:38:51.393738Z",
          "shell.execute_reply": "2023-11-01T11:38:51.392368Z"
        },
        "papermill": {
          "duration": 0.017033,
          "end_time": "2023-11-01T11:38:51.395932",
          "exception": false,
          "start_time": "2023-11-01T11:38:51.378899",
          "status": "completed"
        },
        "tags": [],
        "colab": {
          "base_uri": "https://localhost:8080/"
        },
        "id": "1fc346ce",
        "outputId": "af563afc-0f82-4569-e2f6-50fc2108d9de"
      },
      "outputs": [
        {
          "output_type": "stream",
          "name": "stdout",
          "text": [
            "(150, 6)\n"
          ]
        }
      ],
      "source": [
        "print(data.shape)"
      ]
    },
    {
      "cell_type": "markdown",
      "id": "a0401222",
      "metadata": {
        "papermill": {
          "duration": 0.00731,
          "end_time": "2023-11-01T11:38:51.411112",
          "exception": false,
          "start_time": "2023-11-01T11:38:51.403802",
          "status": "completed"
        },
        "tags": [],
        "id": "a0401222"
      },
      "source": [
        "# There is no null values and check for missing values"
      ]
    },
    {
      "cell_type": "code",
      "execution_count": 64,
      "id": "a7aebff2",
      "metadata": {
        "execution": {
          "iopub.execute_input": "2023-11-01T11:38:51.428672Z",
          "iopub.status.busy": "2023-11-01T11:38:51.428008Z",
          "iopub.status.idle": "2023-11-01T11:38:51.434884Z",
          "shell.execute_reply": "2023-11-01T11:38:51.433809Z"
        },
        "papermill": {
          "duration": 0.018291,
          "end_time": "2023-11-01T11:38:51.436887",
          "exception": false,
          "start_time": "2023-11-01T11:38:51.418596",
          "status": "completed"
        },
        "tags": [],
        "colab": {
          "base_uri": "https://localhost:8080/"
        },
        "id": "a7aebff2",
        "outputId": "e11d567f-3c01-4b23-cc3e-57a1c0e46dd3"
      },
      "outputs": [
        {
          "output_type": "stream",
          "name": "stdout",
          "text": [
            "Id               0\n",
            "SepalLengthCm    0\n",
            "SepalWidthCm     0\n",
            "PetalLengthCm    0\n",
            "PetalWidthCm     0\n",
            "Species          0\n",
            "dtype: int64\n"
          ]
        }
      ],
      "source": [
        "print(data.isna().sum())"
      ]
    },
    {
      "cell_type": "markdown",
      "id": "250e4ae2",
      "metadata": {
        "papermill": {
          "duration": 0.007455,
          "end_time": "2023-11-01T11:38:51.451962",
          "exception": false,
          "start_time": "2023-11-01T11:38:51.444507",
          "status": "completed"
        },
        "tags": [],
        "id": "250e4ae2"
      },
      "source": [
        "# Check for duplicates"
      ]
    },
    {
      "cell_type": "code",
      "execution_count": 65,
      "id": "fcb5c642",
      "metadata": {
        "execution": {
          "iopub.execute_input": "2023-11-01T11:38:51.469592Z",
          "iopub.status.busy": "2023-11-01T11:38:51.468968Z",
          "iopub.status.idle": "2023-11-01T11:38:51.484130Z",
          "shell.execute_reply": "2023-11-01T11:38:51.482718Z"
        },
        "papermill": {
          "duration": 0.026756,
          "end_time": "2023-11-01T11:38:51.486619",
          "exception": false,
          "start_time": "2023-11-01T11:38:51.459863",
          "status": "completed"
        },
        "tags": [],
        "colab": {
          "base_uri": "https://localhost:8080/"
        },
        "id": "fcb5c642",
        "outputId": "73960d7b-0cbf-44ba-e590-d75f0638e2c8"
      },
      "outputs": [
        {
          "output_type": "stream",
          "name": "stdout",
          "text": [
            "False    150\n",
            "dtype: int64\n",
            "Empty DataFrame\n",
            "Columns: [Id, SepalLengthCm, SepalWidthCm, PetalLengthCm, PetalWidthCm, Species]\n",
            "Index: []\n"
          ]
        }
      ],
      "source": [
        "print(data.duplicated(keep = False).value_counts())\n",
        "print(data[data.duplicated(keep = False)])"
      ]
    },
    {
      "cell_type": "markdown",
      "id": "7da2c647",
      "metadata": {
        "papermill": {
          "duration": 0.007387,
          "end_time": "2023-11-01T11:38:51.502064",
          "exception": false,
          "start_time": "2023-11-01T11:38:51.494677",
          "status": "completed"
        },
        "tags": [],
        "id": "7da2c647"
      },
      "source": [
        "# Drop duplicates"
      ]
    },
    {
      "cell_type": "code",
      "execution_count": 66,
      "id": "5281cc76",
      "metadata": {
        "execution": {
          "iopub.execute_input": "2023-11-01T11:38:51.519199Z",
          "iopub.status.busy": "2023-11-01T11:38:51.518807Z",
          "iopub.status.idle": "2023-11-01T11:38:51.526863Z",
          "shell.execute_reply": "2023-11-01T11:38:51.525708Z"
        },
        "papermill": {
          "duration": 0.019194,
          "end_time": "2023-11-01T11:38:51.528876",
          "exception": false,
          "start_time": "2023-11-01T11:38:51.509682",
          "status": "completed"
        },
        "tags": [],
        "colab": {
          "base_uri": "https://localhost:8080/"
        },
        "id": "5281cc76",
        "outputId": "ab964d80-74f6-46c3-dac5-c0852cac46b7"
      },
      "outputs": [
        {
          "output_type": "stream",
          "name": "stdout",
          "text": [
            "(150, 6)\n"
          ]
        }
      ],
      "source": [
        "data = data.drop_duplicates(keep = 'first').copy()\n",
        "print(data.shape)"
      ]
    },
    {
      "cell_type": "markdown",
      "id": "bb777925",
      "metadata": {
        "papermill": {
          "duration": 0.007486,
          "end_time": "2023-11-01T11:38:51.544034",
          "exception": false,
          "start_time": "2023-11-01T11:38:51.536548",
          "status": "completed"
        },
        "tags": [],
        "id": "bb777925"
      },
      "source": [
        "# Reset the index of the dataframe"
      ]
    },
    {
      "cell_type": "code",
      "execution_count": 67,
      "id": "dc53fbe9",
      "metadata": {
        "execution": {
          "iopub.execute_input": "2023-11-01T11:38:51.561136Z",
          "iopub.status.busy": "2023-11-01T11:38:51.560750Z",
          "iopub.status.idle": "2023-11-01T11:38:51.565763Z",
          "shell.execute_reply": "2023-11-01T11:38:51.564696Z"
        },
        "papermill": {
          "duration": 0.016165,
          "end_time": "2023-11-01T11:38:51.567877",
          "exception": false,
          "start_time": "2023-11-01T11:38:51.551712",
          "status": "completed"
        },
        "tags": [],
        "id": "dc53fbe9"
      },
      "outputs": [],
      "source": [
        "data = data.reset_index(drop = True)"
      ]
    },
    {
      "cell_type": "markdown",
      "id": "aad2d21d",
      "metadata": {
        "papermill": {
          "duration": 0.007782,
          "end_time": "2023-11-01T11:38:51.584198",
          "exception": false,
          "start_time": "2023-11-01T11:38:51.576416",
          "status": "completed"
        },
        "tags": [],
        "id": "aad2d21d"
      },
      "source": [
        "# Split the dataframe into X(features) and y(target or labels)"
      ]
    },
    {
      "cell_type": "code",
      "execution_count": 97,
      "id": "41e7e6f3",
      "metadata": {
        "execution": {
          "iopub.execute_input": "2023-11-01T11:38:51.601996Z",
          "iopub.status.busy": "2023-11-01T11:38:51.601448Z",
          "iopub.status.idle": "2023-11-01T11:38:51.608441Z",
          "shell.execute_reply": "2023-11-01T11:38:51.607501Z"
        },
        "papermill": {
          "duration": 0.018439,
          "end_time": "2023-11-01T11:38:51.610613",
          "exception": false,
          "start_time": "2023-11-01T11:38:51.592174",
          "status": "completed"
        },
        "tags": [],
        "id": "41e7e6f3"
      },
      "outputs": [],
      "source": [
        "X = data.iloc[:, 1:5].values\n",
        "y = data['Species'].values"
      ]
    },
    {
      "cell_type": "markdown",
      "id": "e323106b",
      "metadata": {
        "papermill": {
          "duration": 0.007849,
          "end_time": "2023-11-01T11:38:51.626718",
          "exception": false,
          "start_time": "2023-11-01T11:38:51.618869",
          "status": "completed"
        },
        "tags": [],
        "id": "e323106b"
      },
      "source": [
        "# Output the shape of X and y"
      ]
    },
    {
      "cell_type": "code",
      "execution_count": 98,
      "id": "fcd23768",
      "metadata": {
        "execution": {
          "iopub.execute_input": "2023-11-01T11:38:51.644267Z",
          "iopub.status.busy": "2023-11-01T11:38:51.643912Z",
          "iopub.status.idle": "2023-11-01T11:38:51.650179Z",
          "shell.execute_reply": "2023-11-01T11:38:51.648476Z"
        },
        "papermill": {
          "duration": 0.01775,
          "end_time": "2023-11-01T11:38:51.652613",
          "exception": false,
          "start_time": "2023-11-01T11:38:51.634863",
          "status": "completed"
        },
        "tags": [],
        "colab": {
          "base_uri": "https://localhost:8080/"
        },
        "id": "fcd23768",
        "outputId": "c846f308-1e90-471e-b075-1fd506b1a49a"
      },
      "outputs": [
        {
          "output_type": "stream",
          "name": "stdout",
          "text": [
            "(150, 4)\n",
            "(150,)\n"
          ]
        }
      ],
      "source": [
        "print(X.shape)\n",
        "print(y.shape)"
      ]
    },
    {
      "cell_type": "code",
      "source": [
        "print(X)"
      ],
      "metadata": {
        "colab": {
          "base_uri": "https://localhost:8080/"
        },
        "id": "xupRW0h3fGfS",
        "outputId": "d619e006-147f-4add-e3bf-c00c5ecf9c63"
      },
      "id": "xupRW0h3fGfS",
      "execution_count": 99,
      "outputs": [
        {
          "output_type": "stream",
          "name": "stdout",
          "text": [
            "[[5.1 3.5 1.4 0.2]\n",
            " [4.9 3.  1.4 0.2]\n",
            " [4.7 3.2 1.3 0.2]\n",
            " [4.6 3.1 1.5 0.2]\n",
            " [5.  3.6 1.4 0.2]\n",
            " [5.4 3.9 1.7 0.4]\n",
            " [4.6 3.4 1.4 0.3]\n",
            " [5.  3.4 1.5 0.2]\n",
            " [4.4 2.9 1.4 0.2]\n",
            " [4.9 3.1 1.5 0.1]\n",
            " [5.4 3.7 1.5 0.2]\n",
            " [4.8 3.4 1.6 0.2]\n",
            " [4.8 3.  1.4 0.1]\n",
            " [4.3 3.  1.1 0.1]\n",
            " [5.8 4.  1.2 0.2]\n",
            " [5.7 4.4 1.5 0.4]\n",
            " [5.4 3.9 1.3 0.4]\n",
            " [5.1 3.5 1.4 0.3]\n",
            " [5.7 3.8 1.7 0.3]\n",
            " [5.1 3.8 1.5 0.3]\n",
            " [5.4 3.4 1.7 0.2]\n",
            " [5.1 3.7 1.5 0.4]\n",
            " [4.6 3.6 1.  0.2]\n",
            " [5.1 3.3 1.7 0.5]\n",
            " [4.8 3.4 1.9 0.2]\n",
            " [5.  3.  1.6 0.2]\n",
            " [5.  3.4 1.6 0.4]\n",
            " [5.2 3.5 1.5 0.2]\n",
            " [5.2 3.4 1.4 0.2]\n",
            " [4.7 3.2 1.6 0.2]\n",
            " [4.8 3.1 1.6 0.2]\n",
            " [5.4 3.4 1.5 0.4]\n",
            " [5.2 4.1 1.5 0.1]\n",
            " [5.5 4.2 1.4 0.2]\n",
            " [4.9 3.1 1.5 0.1]\n",
            " [5.  3.2 1.2 0.2]\n",
            " [5.5 3.5 1.3 0.2]\n",
            " [4.9 3.1 1.5 0.1]\n",
            " [4.4 3.  1.3 0.2]\n",
            " [5.1 3.4 1.5 0.2]\n",
            " [5.  3.5 1.3 0.3]\n",
            " [4.5 2.3 1.3 0.3]\n",
            " [4.4 3.2 1.3 0.2]\n",
            " [5.  3.5 1.6 0.6]\n",
            " [5.1 3.8 1.9 0.4]\n",
            " [4.8 3.  1.4 0.3]\n",
            " [5.1 3.8 1.6 0.2]\n",
            " [4.6 3.2 1.4 0.2]\n",
            " [5.3 3.7 1.5 0.2]\n",
            " [5.  3.3 1.4 0.2]\n",
            " [7.  3.2 4.7 1.4]\n",
            " [6.4 3.2 4.5 1.5]\n",
            " [6.9 3.1 4.9 1.5]\n",
            " [5.5 2.3 4.  1.3]\n",
            " [6.5 2.8 4.6 1.5]\n",
            " [5.7 2.8 4.5 1.3]\n",
            " [6.3 3.3 4.7 1.6]\n",
            " [4.9 2.4 3.3 1. ]\n",
            " [6.6 2.9 4.6 1.3]\n",
            " [5.2 2.7 3.9 1.4]\n",
            " [5.  2.  3.5 1. ]\n",
            " [5.9 3.  4.2 1.5]\n",
            " [6.  2.2 4.  1. ]\n",
            " [6.1 2.9 4.7 1.4]\n",
            " [5.6 2.9 3.6 1.3]\n",
            " [6.7 3.1 4.4 1.4]\n",
            " [5.6 3.  4.5 1.5]\n",
            " [5.8 2.7 4.1 1. ]\n",
            " [6.2 2.2 4.5 1.5]\n",
            " [5.6 2.5 3.9 1.1]\n",
            " [5.9 3.2 4.8 1.8]\n",
            " [6.1 2.8 4.  1.3]\n",
            " [6.3 2.5 4.9 1.5]\n",
            " [6.1 2.8 4.7 1.2]\n",
            " [6.4 2.9 4.3 1.3]\n",
            " [6.6 3.  4.4 1.4]\n",
            " [6.8 2.8 4.8 1.4]\n",
            " [6.7 3.  5.  1.7]\n",
            " [6.  2.9 4.5 1.5]\n",
            " [5.7 2.6 3.5 1. ]\n",
            " [5.5 2.4 3.8 1.1]\n",
            " [5.5 2.4 3.7 1. ]\n",
            " [5.8 2.7 3.9 1.2]\n",
            " [6.  2.7 5.1 1.6]\n",
            " [5.4 3.  4.5 1.5]\n",
            " [6.  3.4 4.5 1.6]\n",
            " [6.7 3.1 4.7 1.5]\n",
            " [6.3 2.3 4.4 1.3]\n",
            " [5.6 3.  4.1 1.3]\n",
            " [5.5 2.5 4.  1.3]\n",
            " [5.5 2.6 4.4 1.2]\n",
            " [6.1 3.  4.6 1.4]\n",
            " [5.8 2.6 4.  1.2]\n",
            " [5.  2.3 3.3 1. ]\n",
            " [5.6 2.7 4.2 1.3]\n",
            " [5.7 3.  4.2 1.2]\n",
            " [5.7 2.9 4.2 1.3]\n",
            " [6.2 2.9 4.3 1.3]\n",
            " [5.1 2.5 3.  1.1]\n",
            " [5.7 2.8 4.1 1.3]\n",
            " [6.3 3.3 6.  2.5]\n",
            " [5.8 2.7 5.1 1.9]\n",
            " [7.1 3.  5.9 2.1]\n",
            " [6.3 2.9 5.6 1.8]\n",
            " [6.5 3.  5.8 2.2]\n",
            " [7.6 3.  6.6 2.1]\n",
            " [4.9 2.5 4.5 1.7]\n",
            " [7.3 2.9 6.3 1.8]\n",
            " [6.7 2.5 5.8 1.8]\n",
            " [7.2 3.6 6.1 2.5]\n",
            " [6.5 3.2 5.1 2. ]\n",
            " [6.4 2.7 5.3 1.9]\n",
            " [6.8 3.  5.5 2.1]\n",
            " [5.7 2.5 5.  2. ]\n",
            " [5.8 2.8 5.1 2.4]\n",
            " [6.4 3.2 5.3 2.3]\n",
            " [6.5 3.  5.5 1.8]\n",
            " [7.7 3.8 6.7 2.2]\n",
            " [7.7 2.6 6.9 2.3]\n",
            " [6.  2.2 5.  1.5]\n",
            " [6.9 3.2 5.7 2.3]\n",
            " [5.6 2.8 4.9 2. ]\n",
            " [7.7 2.8 6.7 2. ]\n",
            " [6.3 2.7 4.9 1.8]\n",
            " [6.7 3.3 5.7 2.1]\n",
            " [7.2 3.2 6.  1.8]\n",
            " [6.2 2.8 4.8 1.8]\n",
            " [6.1 3.  4.9 1.8]\n",
            " [6.4 2.8 5.6 2.1]\n",
            " [7.2 3.  5.8 1.6]\n",
            " [7.4 2.8 6.1 1.9]\n",
            " [7.9 3.8 6.4 2. ]\n",
            " [6.4 2.8 5.6 2.2]\n",
            " [6.3 2.8 5.1 1.5]\n",
            " [6.1 2.6 5.6 1.4]\n",
            " [7.7 3.  6.1 2.3]\n",
            " [6.3 3.4 5.6 2.4]\n",
            " [6.4 3.1 5.5 1.8]\n",
            " [6.  3.  4.8 1.8]\n",
            " [6.9 3.1 5.4 2.1]\n",
            " [6.7 3.1 5.6 2.4]\n",
            " [6.9 3.1 5.1 2.3]\n",
            " [5.8 2.7 5.1 1.9]\n",
            " [6.8 3.2 5.9 2.3]\n",
            " [6.7 3.3 5.7 2.5]\n",
            " [6.7 3.  5.2 2.3]\n",
            " [6.3 2.5 5.  1.9]\n",
            " [6.5 3.  5.2 2. ]\n",
            " [6.2 3.4 5.4 2.3]\n",
            " [5.9 3.  5.1 1.8]]\n"
          ]
        }
      ]
    },
    {
      "cell_type": "code",
      "source": [
        "print(y)"
      ],
      "metadata": {
        "colab": {
          "base_uri": "https://localhost:8080/"
        },
        "id": "z6VfUGV3fpHa",
        "outputId": "65e4adb8-51b1-4f0e-d709-3f01299eba5d"
      },
      "id": "z6VfUGV3fpHa",
      "execution_count": 101,
      "outputs": [
        {
          "output_type": "stream",
          "name": "stdout",
          "text": [
            "['Iris-setosa' 'Iris-setosa' 'Iris-setosa' 'Iris-setosa' 'Iris-setosa'\n",
            " 'Iris-setosa' 'Iris-setosa' 'Iris-setosa' 'Iris-setosa' 'Iris-setosa'\n",
            " 'Iris-setosa' 'Iris-setosa' 'Iris-setosa' 'Iris-setosa' 'Iris-setosa'\n",
            " 'Iris-setosa' 'Iris-setosa' 'Iris-setosa' 'Iris-setosa' 'Iris-setosa'\n",
            " 'Iris-setosa' 'Iris-setosa' 'Iris-setosa' 'Iris-setosa' 'Iris-setosa'\n",
            " 'Iris-setosa' 'Iris-setosa' 'Iris-setosa' 'Iris-setosa' 'Iris-setosa'\n",
            " 'Iris-setosa' 'Iris-setosa' 'Iris-setosa' 'Iris-setosa' 'Iris-setosa'\n",
            " 'Iris-setosa' 'Iris-setosa' 'Iris-setosa' 'Iris-setosa' 'Iris-setosa'\n",
            " 'Iris-setosa' 'Iris-setosa' 'Iris-setosa' 'Iris-setosa' 'Iris-setosa'\n",
            " 'Iris-setosa' 'Iris-setosa' 'Iris-setosa' 'Iris-setosa' 'Iris-setosa'\n",
            " 'Iris-versicolor' 'Iris-versicolor' 'Iris-versicolor' 'Iris-versicolor'\n",
            " 'Iris-versicolor' 'Iris-versicolor' 'Iris-versicolor' 'Iris-versicolor'\n",
            " 'Iris-versicolor' 'Iris-versicolor' 'Iris-versicolor' 'Iris-versicolor'\n",
            " 'Iris-versicolor' 'Iris-versicolor' 'Iris-versicolor' 'Iris-versicolor'\n",
            " 'Iris-versicolor' 'Iris-versicolor' 'Iris-versicolor' 'Iris-versicolor'\n",
            " 'Iris-versicolor' 'Iris-versicolor' 'Iris-versicolor' 'Iris-versicolor'\n",
            " 'Iris-versicolor' 'Iris-versicolor' 'Iris-versicolor' 'Iris-versicolor'\n",
            " 'Iris-versicolor' 'Iris-versicolor' 'Iris-versicolor' 'Iris-versicolor'\n",
            " 'Iris-versicolor' 'Iris-versicolor' 'Iris-versicolor' 'Iris-versicolor'\n",
            " 'Iris-versicolor' 'Iris-versicolor' 'Iris-versicolor' 'Iris-versicolor'\n",
            " 'Iris-versicolor' 'Iris-versicolor' 'Iris-versicolor' 'Iris-versicolor'\n",
            " 'Iris-versicolor' 'Iris-versicolor' 'Iris-versicolor' 'Iris-versicolor'\n",
            " 'Iris-versicolor' 'Iris-versicolor' 'Iris-virginica' 'Iris-virginica'\n",
            " 'Iris-virginica' 'Iris-virginica' 'Iris-virginica' 'Iris-virginica'\n",
            " 'Iris-virginica' 'Iris-virginica' 'Iris-virginica' 'Iris-virginica'\n",
            " 'Iris-virginica' 'Iris-virginica' 'Iris-virginica' 'Iris-virginica'\n",
            " 'Iris-virginica' 'Iris-virginica' 'Iris-virginica' 'Iris-virginica'\n",
            " 'Iris-virginica' 'Iris-virginica' 'Iris-virginica' 'Iris-virginica'\n",
            " 'Iris-virginica' 'Iris-virginica' 'Iris-virginica' 'Iris-virginica'\n",
            " 'Iris-virginica' 'Iris-virginica' 'Iris-virginica' 'Iris-virginica'\n",
            " 'Iris-virginica' 'Iris-virginica' 'Iris-virginica' 'Iris-virginica'\n",
            " 'Iris-virginica' 'Iris-virginica' 'Iris-virginica' 'Iris-virginica'\n",
            " 'Iris-virginica' 'Iris-virginica' 'Iris-virginica' 'Iris-virginica'\n",
            " 'Iris-virginica' 'Iris-virginica' 'Iris-virginica' 'Iris-virginica'\n",
            " 'Iris-virginica' 'Iris-virginica' 'Iris-virginica' 'Iris-virginica']\n"
          ]
        }
      ]
    },
    {
      "cell_type": "markdown",
      "id": "888963df",
      "metadata": {
        "papermill": {
          "duration": 0.007506,
          "end_time": "2023-11-01T11:38:51.667948",
          "exception": false,
          "start_time": "2023-11-01T11:38:51.660442",
          "status": "completed"
        },
        "tags": [],
        "id": "888963df"
      },
      "source": [
        "# Normalization on X"
      ]
    },
    {
      "cell_type": "code",
      "execution_count": 102,
      "id": "1983d93c",
      "metadata": {
        "execution": {
          "iopub.execute_input": "2023-11-01T11:38:51.685850Z",
          "iopub.status.busy": "2023-11-01T11:38:51.685210Z",
          "iopub.status.idle": "2023-11-01T11:38:51.691484Z",
          "shell.execute_reply": "2023-11-01T11:38:51.690357Z"
        },
        "papermill": {
          "duration": 0.01733,
          "end_time": "2023-11-01T11:38:51.693441",
          "exception": false,
          "start_time": "2023-11-01T11:38:51.676111",
          "status": "completed"
        },
        "tags": [],
        "id": "1983d93c"
      },
      "outputs": [],
      "source": [
        "scaler = MinMaxScaler()\n",
        "scaler.fit(X)\n",
        "X_scaled = scaler.fit_transform(X)"
      ]
    },
    {
      "cell_type": "code",
      "source": [
        "print(X_scaled)"
      ],
      "metadata": {
        "colab": {
          "base_uri": "https://localhost:8080/"
        },
        "id": "mIgzvVCPfy7I",
        "outputId": "4aef349b-d7de-42db-f8ea-5300c5e71f1f"
      },
      "id": "mIgzvVCPfy7I",
      "execution_count": 103,
      "outputs": [
        {
          "output_type": "stream",
          "name": "stdout",
          "text": [
            "[[0.22222222 0.625      0.06779661 0.04166667]\n",
            " [0.16666667 0.41666667 0.06779661 0.04166667]\n",
            " [0.11111111 0.5        0.05084746 0.04166667]\n",
            " [0.08333333 0.45833333 0.08474576 0.04166667]\n",
            " [0.19444444 0.66666667 0.06779661 0.04166667]\n",
            " [0.30555556 0.79166667 0.11864407 0.125     ]\n",
            " [0.08333333 0.58333333 0.06779661 0.08333333]\n",
            " [0.19444444 0.58333333 0.08474576 0.04166667]\n",
            " [0.02777778 0.375      0.06779661 0.04166667]\n",
            " [0.16666667 0.45833333 0.08474576 0.        ]\n",
            " [0.30555556 0.70833333 0.08474576 0.04166667]\n",
            " [0.13888889 0.58333333 0.10169492 0.04166667]\n",
            " [0.13888889 0.41666667 0.06779661 0.        ]\n",
            " [0.         0.41666667 0.01694915 0.        ]\n",
            " [0.41666667 0.83333333 0.03389831 0.04166667]\n",
            " [0.38888889 1.         0.08474576 0.125     ]\n",
            " [0.30555556 0.79166667 0.05084746 0.125     ]\n",
            " [0.22222222 0.625      0.06779661 0.08333333]\n",
            " [0.38888889 0.75       0.11864407 0.08333333]\n",
            " [0.22222222 0.75       0.08474576 0.08333333]\n",
            " [0.30555556 0.58333333 0.11864407 0.04166667]\n",
            " [0.22222222 0.70833333 0.08474576 0.125     ]\n",
            " [0.08333333 0.66666667 0.         0.04166667]\n",
            " [0.22222222 0.54166667 0.11864407 0.16666667]\n",
            " [0.13888889 0.58333333 0.15254237 0.04166667]\n",
            " [0.19444444 0.41666667 0.10169492 0.04166667]\n",
            " [0.19444444 0.58333333 0.10169492 0.125     ]\n",
            " [0.25       0.625      0.08474576 0.04166667]\n",
            " [0.25       0.58333333 0.06779661 0.04166667]\n",
            " [0.11111111 0.5        0.10169492 0.04166667]\n",
            " [0.13888889 0.45833333 0.10169492 0.04166667]\n",
            " [0.30555556 0.58333333 0.08474576 0.125     ]\n",
            " [0.25       0.875      0.08474576 0.        ]\n",
            " [0.33333333 0.91666667 0.06779661 0.04166667]\n",
            " [0.16666667 0.45833333 0.08474576 0.        ]\n",
            " [0.19444444 0.5        0.03389831 0.04166667]\n",
            " [0.33333333 0.625      0.05084746 0.04166667]\n",
            " [0.16666667 0.45833333 0.08474576 0.        ]\n",
            " [0.02777778 0.41666667 0.05084746 0.04166667]\n",
            " [0.22222222 0.58333333 0.08474576 0.04166667]\n",
            " [0.19444444 0.625      0.05084746 0.08333333]\n",
            " [0.05555556 0.125      0.05084746 0.08333333]\n",
            " [0.02777778 0.5        0.05084746 0.04166667]\n",
            " [0.19444444 0.625      0.10169492 0.20833333]\n",
            " [0.22222222 0.75       0.15254237 0.125     ]\n",
            " [0.13888889 0.41666667 0.06779661 0.08333333]\n",
            " [0.22222222 0.75       0.10169492 0.04166667]\n",
            " [0.08333333 0.5        0.06779661 0.04166667]\n",
            " [0.27777778 0.70833333 0.08474576 0.04166667]\n",
            " [0.19444444 0.54166667 0.06779661 0.04166667]\n",
            " [0.75       0.5        0.62711864 0.54166667]\n",
            " [0.58333333 0.5        0.59322034 0.58333333]\n",
            " [0.72222222 0.45833333 0.66101695 0.58333333]\n",
            " [0.33333333 0.125      0.50847458 0.5       ]\n",
            " [0.61111111 0.33333333 0.61016949 0.58333333]\n",
            " [0.38888889 0.33333333 0.59322034 0.5       ]\n",
            " [0.55555556 0.54166667 0.62711864 0.625     ]\n",
            " [0.16666667 0.16666667 0.38983051 0.375     ]\n",
            " [0.63888889 0.375      0.61016949 0.5       ]\n",
            " [0.25       0.29166667 0.49152542 0.54166667]\n",
            " [0.19444444 0.         0.42372881 0.375     ]\n",
            " [0.44444444 0.41666667 0.54237288 0.58333333]\n",
            " [0.47222222 0.08333333 0.50847458 0.375     ]\n",
            " [0.5        0.375      0.62711864 0.54166667]\n",
            " [0.36111111 0.375      0.44067797 0.5       ]\n",
            " [0.66666667 0.45833333 0.57627119 0.54166667]\n",
            " [0.36111111 0.41666667 0.59322034 0.58333333]\n",
            " [0.41666667 0.29166667 0.52542373 0.375     ]\n",
            " [0.52777778 0.08333333 0.59322034 0.58333333]\n",
            " [0.36111111 0.20833333 0.49152542 0.41666667]\n",
            " [0.44444444 0.5        0.6440678  0.70833333]\n",
            " [0.5        0.33333333 0.50847458 0.5       ]\n",
            " [0.55555556 0.20833333 0.66101695 0.58333333]\n",
            " [0.5        0.33333333 0.62711864 0.45833333]\n",
            " [0.58333333 0.375      0.55932203 0.5       ]\n",
            " [0.63888889 0.41666667 0.57627119 0.54166667]\n",
            " [0.69444444 0.33333333 0.6440678  0.54166667]\n",
            " [0.66666667 0.41666667 0.6779661  0.66666667]\n",
            " [0.47222222 0.375      0.59322034 0.58333333]\n",
            " [0.38888889 0.25       0.42372881 0.375     ]\n",
            " [0.33333333 0.16666667 0.47457627 0.41666667]\n",
            " [0.33333333 0.16666667 0.45762712 0.375     ]\n",
            " [0.41666667 0.29166667 0.49152542 0.45833333]\n",
            " [0.47222222 0.29166667 0.69491525 0.625     ]\n",
            " [0.30555556 0.41666667 0.59322034 0.58333333]\n",
            " [0.47222222 0.58333333 0.59322034 0.625     ]\n",
            " [0.66666667 0.45833333 0.62711864 0.58333333]\n",
            " [0.55555556 0.125      0.57627119 0.5       ]\n",
            " [0.36111111 0.41666667 0.52542373 0.5       ]\n",
            " [0.33333333 0.20833333 0.50847458 0.5       ]\n",
            " [0.33333333 0.25       0.57627119 0.45833333]\n",
            " [0.5        0.41666667 0.61016949 0.54166667]\n",
            " [0.41666667 0.25       0.50847458 0.45833333]\n",
            " [0.19444444 0.125      0.38983051 0.375     ]\n",
            " [0.36111111 0.29166667 0.54237288 0.5       ]\n",
            " [0.38888889 0.41666667 0.54237288 0.45833333]\n",
            " [0.38888889 0.375      0.54237288 0.5       ]\n",
            " [0.52777778 0.375      0.55932203 0.5       ]\n",
            " [0.22222222 0.20833333 0.33898305 0.41666667]\n",
            " [0.38888889 0.33333333 0.52542373 0.5       ]\n",
            " [0.55555556 0.54166667 0.84745763 1.        ]\n",
            " [0.41666667 0.29166667 0.69491525 0.75      ]\n",
            " [0.77777778 0.41666667 0.83050847 0.83333333]\n",
            " [0.55555556 0.375      0.77966102 0.70833333]\n",
            " [0.61111111 0.41666667 0.81355932 0.875     ]\n",
            " [0.91666667 0.41666667 0.94915254 0.83333333]\n",
            " [0.16666667 0.20833333 0.59322034 0.66666667]\n",
            " [0.83333333 0.375      0.89830508 0.70833333]\n",
            " [0.66666667 0.20833333 0.81355932 0.70833333]\n",
            " [0.80555556 0.66666667 0.86440678 1.        ]\n",
            " [0.61111111 0.5        0.69491525 0.79166667]\n",
            " [0.58333333 0.29166667 0.72881356 0.75      ]\n",
            " [0.69444444 0.41666667 0.76271186 0.83333333]\n",
            " [0.38888889 0.20833333 0.6779661  0.79166667]\n",
            " [0.41666667 0.33333333 0.69491525 0.95833333]\n",
            " [0.58333333 0.5        0.72881356 0.91666667]\n",
            " [0.61111111 0.41666667 0.76271186 0.70833333]\n",
            " [0.94444444 0.75       0.96610169 0.875     ]\n",
            " [0.94444444 0.25       1.         0.91666667]\n",
            " [0.47222222 0.08333333 0.6779661  0.58333333]\n",
            " [0.72222222 0.5        0.79661017 0.91666667]\n",
            " [0.36111111 0.33333333 0.66101695 0.79166667]\n",
            " [0.94444444 0.33333333 0.96610169 0.79166667]\n",
            " [0.55555556 0.29166667 0.66101695 0.70833333]\n",
            " [0.66666667 0.54166667 0.79661017 0.83333333]\n",
            " [0.80555556 0.5        0.84745763 0.70833333]\n",
            " [0.52777778 0.33333333 0.6440678  0.70833333]\n",
            " [0.5        0.41666667 0.66101695 0.70833333]\n",
            " [0.58333333 0.33333333 0.77966102 0.83333333]\n",
            " [0.80555556 0.41666667 0.81355932 0.625     ]\n",
            " [0.86111111 0.33333333 0.86440678 0.75      ]\n",
            " [1.         0.75       0.91525424 0.79166667]\n",
            " [0.58333333 0.33333333 0.77966102 0.875     ]\n",
            " [0.55555556 0.33333333 0.69491525 0.58333333]\n",
            " [0.5        0.25       0.77966102 0.54166667]\n",
            " [0.94444444 0.41666667 0.86440678 0.91666667]\n",
            " [0.55555556 0.58333333 0.77966102 0.95833333]\n",
            " [0.58333333 0.45833333 0.76271186 0.70833333]\n",
            " [0.47222222 0.41666667 0.6440678  0.70833333]\n",
            " [0.72222222 0.45833333 0.74576271 0.83333333]\n",
            " [0.66666667 0.45833333 0.77966102 0.95833333]\n",
            " [0.72222222 0.45833333 0.69491525 0.91666667]\n",
            " [0.41666667 0.29166667 0.69491525 0.75      ]\n",
            " [0.69444444 0.5        0.83050847 0.91666667]\n",
            " [0.66666667 0.54166667 0.79661017 1.        ]\n",
            " [0.66666667 0.41666667 0.71186441 0.91666667]\n",
            " [0.55555556 0.20833333 0.6779661  0.75      ]\n",
            " [0.61111111 0.41666667 0.71186441 0.79166667]\n",
            " [0.52777778 0.58333333 0.74576271 0.91666667]\n",
            " [0.44444444 0.41666667 0.69491525 0.70833333]]\n"
          ]
        }
      ]
    },
    {
      "cell_type": "markdown",
      "id": "3fb3c98b",
      "metadata": {
        "papermill": {
          "duration": 0.007451,
          "end_time": "2023-11-01T11:38:51.708793",
          "exception": false,
          "start_time": "2023-11-01T11:38:51.701342",
          "status": "completed"
        },
        "tags": [],
        "id": "3fb3c98b"
      },
      "source": [
        "# Convert target using LabelEncoder"
      ]
    },
    {
      "cell_type": "code",
      "execution_count": 104,
      "id": "ca365035",
      "metadata": {
        "execution": {
          "iopub.execute_input": "2023-11-01T11:38:51.725915Z",
          "iopub.status.busy": "2023-11-01T11:38:51.725534Z",
          "iopub.status.idle": "2023-11-01T11:38:51.730653Z",
          "shell.execute_reply": "2023-11-01T11:38:51.729556Z"
        },
        "papermill": {
          "duration": 0.016336,
          "end_time": "2023-11-01T11:38:51.732871",
          "exception": false,
          "start_time": "2023-11-01T11:38:51.716535",
          "status": "completed"
        },
        "tags": [],
        "id": "ca365035"
      },
      "outputs": [],
      "source": [
        "encoder = LabelEncoder()\n",
        "y_encoded = encoder.fit_transform(y)"
      ]
    },
    {
      "cell_type": "code",
      "source": [
        "print(y_encoded)"
      ],
      "metadata": {
        "colab": {
          "base_uri": "https://localhost:8080/"
        },
        "id": "F1YfSSmMgJUc",
        "outputId": "0fce187f-a80c-43d9-81e5-ffde98f8b373"
      },
      "id": "F1YfSSmMgJUc",
      "execution_count": 105,
      "outputs": [
        {
          "output_type": "stream",
          "name": "stdout",
          "text": [
            "[0 0 0 0 0 0 0 0 0 0 0 0 0 0 0 0 0 0 0 0 0 0 0 0 0 0 0 0 0 0 0 0 0 0 0 0 0\n",
            " 0 0 0 0 0 0 0 0 0 0 0 0 0 1 1 1 1 1 1 1 1 1 1 1 1 1 1 1 1 1 1 1 1 1 1 1 1\n",
            " 1 1 1 1 1 1 1 1 1 1 1 1 1 1 1 1 1 1 1 1 1 1 1 1 1 1 2 2 2 2 2 2 2 2 2 2 2\n",
            " 2 2 2 2 2 2 2 2 2 2 2 2 2 2 2 2 2 2 2 2 2 2 2 2 2 2 2 2 2 2 2 2 2 2 2 2 2\n",
            " 2 2]\n"
          ]
        }
      ]
    },
    {
      "cell_type": "markdown",
      "id": "dbadc47f",
      "metadata": {
        "papermill": {
          "duration": 0.007488,
          "end_time": "2023-11-01T11:38:51.748347",
          "exception": false,
          "start_time": "2023-11-01T11:38:51.740859",
          "status": "completed"
        },
        "tags": [],
        "id": "dbadc47f"
      },
      "source": [
        "# Categorically encoding the labels"
      ]
    },
    {
      "cell_type": "code",
      "execution_count": 106,
      "id": "a31a6224",
      "metadata": {
        "execution": {
          "iopub.execute_input": "2023-11-01T11:38:51.823137Z",
          "iopub.status.busy": "2023-11-01T11:38:51.822335Z",
          "iopub.status.idle": "2023-11-01T11:38:51.826811Z",
          "shell.execute_reply": "2023-11-01T11:38:51.825983Z"
        },
        "papermill": {
          "duration": 0.015534,
          "end_time": "2023-11-01T11:38:51.828759",
          "exception": false,
          "start_time": "2023-11-01T11:38:51.813225",
          "status": "completed"
        },
        "tags": [],
        "id": "a31a6224"
      },
      "outputs": [],
      "source": [
        "num_categories = 3\n",
        "y_onehot = keras.utils.to_categorical(y_encoded, num_categories)"
      ]
    },
    {
      "cell_type": "markdown",
      "id": "2bfdee45",
      "metadata": {
        "papermill": {
          "duration": 0.00766,
          "end_time": "2023-11-01T11:38:51.844355",
          "exception": false,
          "start_time": "2023-11-01T11:38:51.836695",
          "status": "completed"
        },
        "tags": [],
        "id": "2bfdee45"
      },
      "source": [
        "# Convert X_scaled and y_onehot into train and valid data"
      ]
    },
    {
      "cell_type": "code",
      "execution_count": 107,
      "id": "071c526e",
      "metadata": {
        "execution": {
          "iopub.execute_input": "2023-11-01T11:38:51.861645Z",
          "iopub.status.busy": "2023-11-01T11:38:51.861278Z",
          "iopub.status.idle": "2023-11-01T11:38:51.867286Z",
          "shell.execute_reply": "2023-11-01T11:38:51.866242Z"
        },
        "papermill": {
          "duration": 0.017247,
          "end_time": "2023-11-01T11:38:51.869517",
          "exception": false,
          "start_time": "2023-11-01T11:38:51.852270",
          "status": "completed"
        },
        "tags": [],
        "id": "071c526e"
      },
      "outputs": [],
      "source": [
        "X_train, X_valid, y_train, y_valid = train_test_split(X_scaled, y_onehot,\n",
        "                                                     test_size = 0.2,\n",
        "                                                     random_state = 42)"
      ]
    },
    {
      "cell_type": "code",
      "source": [
        "print(X_train)"
      ],
      "metadata": {
        "colab": {
          "base_uri": "https://localhost:8080/"
        },
        "id": "CiqJMIxugUzZ",
        "outputId": "4fceccce-f2d0-43ac-c4fa-a5bf84b7cb59"
      },
      "id": "CiqJMIxugUzZ",
      "execution_count": 108,
      "outputs": [
        {
          "output_type": "stream",
          "name": "stdout",
          "text": [
            "[[0.08333333 0.66666667 0.         0.04166667]\n",
            " [0.38888889 1.         0.08474576 0.125     ]\n",
            " [0.66666667 0.45833333 0.57627119 0.54166667]\n",
            " [0.13888889 0.58333333 0.10169492 0.04166667]\n",
            " [0.02777778 0.5        0.05084746 0.04166667]\n",
            " [0.55555556 0.20833333 0.6779661  0.75      ]\n",
            " [0.58333333 0.5        0.59322034 0.58333333]\n",
            " [0.25       0.625      0.08474576 0.04166667]\n",
            " [0.19444444 0.66666667 0.06779661 0.04166667]\n",
            " [0.25       0.875      0.08474576 0.        ]\n",
            " [0.41666667 0.29166667 0.69491525 0.75      ]\n",
            " [0.47222222 0.58333333 0.59322034 0.625     ]\n",
            " [0.66666667 0.45833333 0.62711864 0.58333333]\n",
            " [0.30555556 0.79166667 0.05084746 0.125     ]\n",
            " [0.30555556 0.70833333 0.08474576 0.04166667]\n",
            " [0.33333333 0.16666667 0.45762712 0.375     ]\n",
            " [0.55555556 0.33333333 0.69491525 0.58333333]\n",
            " [0.58333333 0.45833333 0.76271186 0.70833333]\n",
            " [0.63888889 0.41666667 0.57627119 0.54166667]\n",
            " [0.80555556 0.66666667 0.86440678 1.        ]\n",
            " [0.38888889 0.375      0.54237288 0.5       ]\n",
            " [0.91666667 0.41666667 0.94915254 0.83333333]\n",
            " [0.36111111 0.41666667 0.59322034 0.58333333]\n",
            " [0.22222222 0.625      0.06779661 0.04166667]\n",
            " [0.94444444 0.33333333 0.96610169 0.79166667]\n",
            " [0.41666667 0.29166667 0.52542373 0.375     ]\n",
            " [0.25       0.58333333 0.06779661 0.04166667]\n",
            " [0.19444444 0.625      0.05084746 0.08333333]\n",
            " [0.22222222 0.75       0.15254237 0.125     ]\n",
            " [0.19444444 0.         0.42372881 0.375     ]\n",
            " [0.55555556 0.29166667 0.66101695 0.70833333]\n",
            " [0.13888889 0.58333333 0.15254237 0.04166667]\n",
            " [0.19444444 0.41666667 0.10169492 0.04166667]\n",
            " [0.22222222 0.54166667 0.11864407 0.16666667]\n",
            " [0.36111111 0.29166667 0.54237288 0.5       ]\n",
            " [0.22222222 0.58333333 0.08474576 0.04166667]\n",
            " [0.38888889 0.41666667 0.54237288 0.45833333]\n",
            " [0.94444444 0.75       0.96610169 0.875     ]\n",
            " [0.08333333 0.5        0.06779661 0.04166667]\n",
            " [0.52777778 0.375      0.55932203 0.5       ]\n",
            " [0.38888889 0.20833333 0.6779661  0.79166667]\n",
            " [0.33333333 0.91666667 0.06779661 0.04166667]\n",
            " [0.47222222 0.41666667 0.6440678  0.70833333]\n",
            " [0.41666667 0.29166667 0.69491525 0.75      ]\n",
            " [0.47222222 0.08333333 0.50847458 0.375     ]\n",
            " [0.30555556 0.41666667 0.59322034 0.58333333]\n",
            " [0.52777778 0.58333333 0.74576271 0.91666667]\n",
            " [0.33333333 0.125      0.50847458 0.5       ]\n",
            " [0.30555556 0.79166667 0.11864407 0.125     ]\n",
            " [0.19444444 0.125      0.38983051 0.375     ]\n",
            " [0.58333333 0.29166667 0.72881356 0.75      ]\n",
            " [0.19444444 0.54166667 0.06779661 0.04166667]\n",
            " [0.19444444 0.5        0.03389831 0.04166667]\n",
            " [0.33333333 0.16666667 0.47457627 0.41666667]\n",
            " [0.66666667 0.41666667 0.6779661  0.66666667]\n",
            " [0.16666667 0.45833333 0.08474576 0.        ]\n",
            " [0.41666667 0.33333333 0.69491525 0.95833333]\n",
            " [0.19444444 0.58333333 0.08474576 0.04166667]\n",
            " [0.19444444 0.625      0.10169492 0.20833333]\n",
            " [0.44444444 0.5        0.6440678  0.70833333]\n",
            " [0.22222222 0.20833333 0.33898305 0.41666667]\n",
            " [0.72222222 0.5        0.79661017 0.91666667]\n",
            " [0.47222222 0.29166667 0.69491525 0.625     ]\n",
            " [0.5        0.25       0.77966102 0.54166667]\n",
            " [0.94444444 0.41666667 0.86440678 0.91666667]\n",
            " [0.33333333 0.20833333 0.50847458 0.5       ]\n",
            " [0.02777778 0.375      0.06779661 0.04166667]\n",
            " [0.         0.41666667 0.01694915 0.        ]\n",
            " [0.47222222 0.08333333 0.6779661  0.58333333]\n",
            " [0.80555556 0.5        0.84745763 0.70833333]\n",
            " [0.08333333 0.45833333 0.08474576 0.04166667]\n",
            " [0.22222222 0.625      0.06779661 0.08333333]\n",
            " [0.02777778 0.41666667 0.05084746 0.04166667]\n",
            " [0.55555556 0.20833333 0.66101695 0.58333333]\n",
            " [0.55555556 0.58333333 0.77966102 0.95833333]\n",
            " [0.08333333 0.58333333 0.06779661 0.08333333]\n",
            " [0.69444444 0.41666667 0.76271186 0.83333333]\n",
            " [0.55555556 0.54166667 0.84745763 1.        ]\n",
            " [0.11111111 0.5        0.05084746 0.04166667]\n",
            " [0.5        0.375      0.62711864 0.54166667]\n",
            " [0.61111111 0.33333333 0.61016949 0.58333333]\n",
            " [0.52777778 0.33333333 0.6440678  0.70833333]\n",
            " [0.75       0.5        0.62711864 0.54166667]\n",
            " [0.58333333 0.5        0.72881356 0.91666667]\n",
            " [0.22222222 0.75       0.10169492 0.04166667]\n",
            " [0.72222222 0.45833333 0.74576271 0.83333333]\n",
            " [0.44444444 0.41666667 0.54237288 0.58333333]\n",
            " [0.61111111 0.41666667 0.71186441 0.79166667]\n",
            " [0.38888889 0.25       0.42372881 0.375     ]\n",
            " [0.25       0.29166667 0.49152542 0.54166667]\n",
            " [0.5        0.41666667 0.61016949 0.54166667]\n",
            " [0.05555556 0.125      0.05084746 0.08333333]\n",
            " [0.63888889 0.375      0.61016949 0.5       ]\n",
            " [0.33333333 0.25       0.57627119 0.45833333]\n",
            " [0.27777778 0.70833333 0.08474576 0.04166667]\n",
            " [0.36111111 0.41666667 0.52542373 0.5       ]\n",
            " [0.83333333 0.375      0.89830508 0.70833333]\n",
            " [0.66666667 0.54166667 0.79661017 0.83333333]\n",
            " [0.22222222 0.70833333 0.08474576 0.125     ]\n",
            " [0.16666667 0.16666667 0.38983051 0.375     ]\n",
            " [0.66666667 0.54166667 0.79661017 1.        ]\n",
            " [0.80555556 0.41666667 0.81355932 0.625     ]\n",
            " [0.16666667 0.45833333 0.08474576 0.        ]\n",
            " [0.66666667 0.45833333 0.77966102 0.95833333]\n",
            " [0.16666667 0.41666667 0.06779661 0.04166667]\n",
            " [0.72222222 0.45833333 0.66101695 0.58333333]\n",
            " [0.86111111 0.33333333 0.86440678 0.75      ]\n",
            " [0.55555556 0.375      0.77966102 0.70833333]\n",
            " [0.38888889 0.33333333 0.52542373 0.5       ]\n",
            " [0.61111111 0.41666667 0.76271186 0.70833333]\n",
            " [0.55555556 0.125      0.57627119 0.5       ]\n",
            " [0.58333333 0.375      0.55932203 0.5       ]\n",
            " [0.36111111 0.33333333 0.66101695 0.79166667]\n",
            " [0.44444444 0.41666667 0.69491525 0.70833333]\n",
            " [0.30555556 0.58333333 0.11864407 0.04166667]\n",
            " [0.5        0.33333333 0.50847458 0.5       ]\n",
            " [0.16666667 0.20833333 0.59322034 0.66666667]\n",
            " [0.41666667 0.83333333 0.03389831 0.04166667]\n",
            " [0.41666667 0.25       0.50847458 0.45833333]\n",
            " [0.77777778 0.41666667 0.83050847 0.83333333]]\n"
          ]
        }
      ]
    },
    {
      "cell_type": "code",
      "source": [
        "print(y_train)"
      ],
      "metadata": {
        "colab": {
          "base_uri": "https://localhost:8080/"
        },
        "id": "_EBUs3P-gapJ",
        "outputId": "cc53ed1e-663d-4806-c2c5-4eeb1b924775"
      },
      "id": "_EBUs3P-gapJ",
      "execution_count": 109,
      "outputs": [
        {
          "output_type": "stream",
          "name": "stdout",
          "text": [
            "[[1. 0. 0.]\n",
            " [1. 0. 0.]\n",
            " [0. 1. 0.]\n",
            " [1. 0. 0.]\n",
            " [1. 0. 0.]\n",
            " [0. 0. 1.]\n",
            " [0. 1. 0.]\n",
            " [1. 0. 0.]\n",
            " [1. 0. 0.]\n",
            " [1. 0. 0.]\n",
            " [0. 0. 1.]\n",
            " [0. 1. 0.]\n",
            " [0. 1. 0.]\n",
            " [1. 0. 0.]\n",
            " [1. 0. 0.]\n",
            " [0. 1. 0.]\n",
            " [0. 0. 1.]\n",
            " [0. 0. 1.]\n",
            " [0. 1. 0.]\n",
            " [0. 0. 1.]\n",
            " [0. 1. 0.]\n",
            " [0. 0. 1.]\n",
            " [0. 1. 0.]\n",
            " [1. 0. 0.]\n",
            " [0. 0. 1.]\n",
            " [0. 1. 0.]\n",
            " [1. 0. 0.]\n",
            " [1. 0. 0.]\n",
            " [1. 0. 0.]\n",
            " [0. 1. 0.]\n",
            " [0. 0. 1.]\n",
            " [1. 0. 0.]\n",
            " [1. 0. 0.]\n",
            " [1. 0. 0.]\n",
            " [0. 1. 0.]\n",
            " [1. 0. 0.]\n",
            " [0. 1. 0.]\n",
            " [0. 0. 1.]\n",
            " [1. 0. 0.]\n",
            " [0. 1. 0.]\n",
            " [0. 0. 1.]\n",
            " [1. 0. 0.]\n",
            " [0. 0. 1.]\n",
            " [0. 0. 1.]\n",
            " [0. 1. 0.]\n",
            " [0. 1. 0.]\n",
            " [0. 0. 1.]\n",
            " [0. 1. 0.]\n",
            " [1. 0. 0.]\n",
            " [0. 1. 0.]\n",
            " [0. 0. 1.]\n",
            " [1. 0. 0.]\n",
            " [1. 0. 0.]\n",
            " [0. 1. 0.]\n",
            " [0. 1. 0.]\n",
            " [1. 0. 0.]\n",
            " [0. 0. 1.]\n",
            " [1. 0. 0.]\n",
            " [1. 0. 0.]\n",
            " [0. 1. 0.]\n",
            " [0. 1. 0.]\n",
            " [0. 0. 1.]\n",
            " [0. 1. 0.]\n",
            " [0. 0. 1.]\n",
            " [0. 0. 1.]\n",
            " [0. 1. 0.]\n",
            " [1. 0. 0.]\n",
            " [1. 0. 0.]\n",
            " [0. 0. 1.]\n",
            " [0. 0. 1.]\n",
            " [1. 0. 0.]\n",
            " [1. 0. 0.]\n",
            " [1. 0. 0.]\n",
            " [0. 1. 0.]\n",
            " [0. 0. 1.]\n",
            " [1. 0. 0.]\n",
            " [0. 0. 1.]\n",
            " [0. 0. 1.]\n",
            " [1. 0. 0.]\n",
            " [0. 1. 0.]\n",
            " [0. 1. 0.]\n",
            " [0. 0. 1.]\n",
            " [0. 1. 0.]\n",
            " [0. 0. 1.]\n",
            " [1. 0. 0.]\n",
            " [0. 0. 1.]\n",
            " [0. 1. 0.]\n",
            " [0. 0. 1.]\n",
            " [0. 1. 0.]\n",
            " [0. 1. 0.]\n",
            " [0. 1. 0.]\n",
            " [1. 0. 0.]\n",
            " [0. 1. 0.]\n",
            " [0. 1. 0.]\n",
            " [1. 0. 0.]\n",
            " [0. 1. 0.]\n",
            " [0. 0. 1.]\n",
            " [0. 0. 1.]\n",
            " [1. 0. 0.]\n",
            " [0. 1. 0.]\n",
            " [0. 0. 1.]\n",
            " [0. 0. 1.]\n",
            " [1. 0. 0.]\n",
            " [0. 0. 1.]\n",
            " [1. 0. 0.]\n",
            " [0. 1. 0.]\n",
            " [0. 0. 1.]\n",
            " [0. 0. 1.]\n",
            " [0. 1. 0.]\n",
            " [0. 0. 1.]\n",
            " [0. 1. 0.]\n",
            " [0. 1. 0.]\n",
            " [0. 0. 1.]\n",
            " [0. 0. 1.]\n",
            " [1. 0. 0.]\n",
            " [0. 1. 0.]\n",
            " [0. 0. 1.]\n",
            " [1. 0. 0.]\n",
            " [0. 1. 0.]\n",
            " [0. 0. 1.]]\n"
          ]
        }
      ]
    },
    {
      "cell_type": "markdown",
      "id": "b309772d",
      "metadata": {
        "papermill": {
          "duration": 0.007648,
          "end_time": "2023-11-01T11:38:51.885312",
          "exception": false,
          "start_time": "2023-11-01T11:38:51.877664",
          "status": "completed"
        },
        "tags": [],
        "id": "b309772d"
      },
      "source": [
        "# Define a model"
      ]
    },
    {
      "cell_type": "code",
      "execution_count": 110,
      "id": "0dec1de6",
      "metadata": {
        "execution": {
          "iopub.execute_input": "2023-11-01T11:38:51.902791Z",
          "iopub.status.busy": "2023-11-01T11:38:51.902402Z",
          "iopub.status.idle": "2023-11-01T11:38:52.103023Z",
          "shell.execute_reply": "2023-11-01T11:38:52.101923Z"
        },
        "papermill": {
          "duration": 0.212503,
          "end_time": "2023-11-01T11:38:52.105675",
          "exception": false,
          "start_time": "2023-11-01T11:38:51.893172",
          "status": "completed"
        },
        "tags": [],
        "id": "0dec1de6"
      },
      "outputs": [],
      "source": [
        "model = Sequential()\n",
        "model.add(Dense(units = 512, activation = 'relu', input_shape = (4,)))\n",
        "model.add(Dense(units = 512, activation = 'relu'))\n",
        "model.add(Dense(units = 512, activation = 'relu'))\n",
        "model.add(Dropout(0.2))\n",
        "model.add(Dense(units = num_categories, activation = 'softmax'))"
      ]
    },
    {
      "cell_type": "markdown",
      "id": "b6d8eaad",
      "metadata": {
        "papermill": {
          "duration": 0.00774,
          "end_time": "2023-11-01T11:38:52.121697",
          "exception": false,
          "start_time": "2023-11-01T11:38:52.113957",
          "status": "completed"
        },
        "tags": [],
        "id": "b6d8eaad"
      },
      "source": [
        "# Summarizing the model"
      ]
    },
    {
      "cell_type": "code",
      "execution_count": 111,
      "id": "bda37d2a",
      "metadata": {
        "execution": {
          "iopub.execute_input": "2023-11-01T11:38:52.139860Z",
          "iopub.status.busy": "2023-11-01T11:38:52.138718Z",
          "iopub.status.idle": "2023-11-01T11:38:52.160603Z",
          "shell.execute_reply": "2023-11-01T11:38:52.159537Z"
        },
        "papermill": {
          "duration": 0.03489,
          "end_time": "2023-11-01T11:38:52.164605",
          "exception": false,
          "start_time": "2023-11-01T11:38:52.129715",
          "status": "completed"
        },
        "tags": [],
        "colab": {
          "base_uri": "https://localhost:8080/"
        },
        "id": "bda37d2a",
        "outputId": "045c6618-ee81-4d9b-fc9c-7b18f49dd080"
      },
      "outputs": [
        {
          "output_type": "stream",
          "name": "stdout",
          "text": [
            "Model: \"sequential_7\"\n",
            "_________________________________________________________________\n",
            " Layer (type)                Output Shape              Param #   \n",
            "=================================================================\n",
            " dense_28 (Dense)            (None, 512)               2560      \n",
            "                                                                 \n",
            " dense_29 (Dense)            (None, 512)               262656    \n",
            "                                                                 \n",
            " dense_30 (Dense)            (None, 512)               262656    \n",
            "                                                                 \n",
            " dropout_7 (Dropout)         (None, 512)               0         \n",
            "                                                                 \n",
            " dense_31 (Dense)            (None, 3)                 1539      \n",
            "                                                                 \n",
            "=================================================================\n",
            "Total params: 529411 (2.02 MB)\n",
            "Trainable params: 529411 (2.02 MB)\n",
            "Non-trainable params: 0 (0.00 Byte)\n",
            "_________________________________________________________________\n"
          ]
        }
      ],
      "source": [
        "model.summary()"
      ]
    },
    {
      "cell_type": "markdown",
      "id": "ad000730",
      "metadata": {
        "papermill": {
          "duration": 0.008829,
          "end_time": "2023-11-01T11:38:52.182650",
          "exception": false,
          "start_time": "2023-11-01T11:38:52.173821",
          "status": "completed"
        },
        "tags": [],
        "id": "ad000730"
      },
      "source": [
        "# Compiling the model"
      ]
    },
    {
      "cell_type": "code",
      "execution_count": 112,
      "id": "7cbf2f3a",
      "metadata": {
        "execution": {
          "iopub.execute_input": "2023-11-01T11:38:52.203954Z",
          "iopub.status.busy": "2023-11-01T11:38:52.203507Z",
          "iopub.status.idle": "2023-11-01T11:38:52.221256Z",
          "shell.execute_reply": "2023-11-01T11:38:52.220146Z"
        },
        "papermill": {
          "duration": 0.031741,
          "end_time": "2023-11-01T11:38:52.223769",
          "exception": false,
          "start_time": "2023-11-01T11:38:52.192028",
          "status": "completed"
        },
        "tags": [],
        "id": "7cbf2f3a"
      },
      "outputs": [],
      "source": [
        "model.compile(loss = 'categorical_crossentropy', metrics = ['accuracy'])"
      ]
    },
    {
      "cell_type": "markdown",
      "id": "2f3a3a8d",
      "metadata": {
        "papermill": {
          "duration": 0.008791,
          "end_time": "2023-11-01T11:38:52.242019",
          "exception": false,
          "start_time": "2023-11-01T11:38:52.233228",
          "status": "completed"
        },
        "tags": [],
        "id": "2f3a3a8d"
      },
      "source": [
        "# Train the model"
      ]
    },
    {
      "cell_type": "code",
      "execution_count": 115,
      "id": "f30c0374",
      "metadata": {
        "execution": {
          "iopub.execute_input": "2023-11-01T11:38:52.261767Z",
          "iopub.status.busy": "2023-11-01T11:38:52.261344Z",
          "iopub.status.idle": "2023-11-01T11:38:54.873439Z",
          "shell.execute_reply": "2023-11-01T11:38:54.872352Z"
        },
        "papermill": {
          "duration": 2.624712,
          "end_time": "2023-11-01T11:38:54.875889",
          "exception": false,
          "start_time": "2023-11-01T11:38:52.251177",
          "status": "completed"
        },
        "tags": [],
        "colab": {
          "base_uri": "https://localhost:8080/"
        },
        "id": "f30c0374",
        "outputId": "979b357d-60de-48ec-afd3-6d025d780c94"
      },
      "outputs": [
        {
          "output_type": "stream",
          "name": "stdout",
          "text": [
            "Epoch 1/20\n",
            "4/4 [==============================] - 0s 74ms/step - loss: 0.2092 - accuracy: 0.9083 - val_loss: 0.2654 - val_accuracy: 0.9000\n",
            "Epoch 2/20\n",
            "4/4 [==============================] - 0s 60ms/step - loss: 0.2051 - accuracy: 0.9083 - val_loss: 0.1744 - val_accuracy: 0.9667\n",
            "Epoch 3/20\n",
            "4/4 [==============================] - 0s 65ms/step - loss: 0.1241 - accuracy: 0.9500 - val_loss: 0.1709 - val_accuracy: 0.9667\n",
            "Epoch 4/20\n",
            "4/4 [==============================] - 0s 49ms/step - loss: 0.2144 - accuracy: 0.9083 - val_loss: 0.4909 - val_accuracy: 0.7667\n",
            "Epoch 5/20\n",
            "4/4 [==============================] - 0s 39ms/step - loss: 0.2096 - accuracy: 0.9000 - val_loss: 0.1593 - val_accuracy: 0.9333\n",
            "Epoch 6/20\n",
            "4/4 [==============================] - 0s 20ms/step - loss: 0.1255 - accuracy: 0.9500 - val_loss: 0.1510 - val_accuracy: 0.9667\n",
            "Epoch 7/20\n",
            "4/4 [==============================] - 0s 20ms/step - loss: 0.1492 - accuracy: 0.9333 - val_loss: 0.2307 - val_accuracy: 0.9000\n",
            "Epoch 8/20\n",
            "4/4 [==============================] - 0s 19ms/step - loss: 0.1684 - accuracy: 0.9250 - val_loss: 0.1475 - val_accuracy: 0.9333\n",
            "Epoch 9/20\n",
            "4/4 [==============================] - 0s 22ms/step - loss: 0.0970 - accuracy: 0.9667 - val_loss: 0.2422 - val_accuracy: 0.8667\n",
            "Epoch 10/20\n",
            "4/4 [==============================] - 0s 19ms/step - loss: 0.2473 - accuracy: 0.9000 - val_loss: 0.1785 - val_accuracy: 0.9000\n",
            "Epoch 11/20\n",
            "4/4 [==============================] - 0s 26ms/step - loss: 0.1267 - accuracy: 0.9500 - val_loss: 0.1311 - val_accuracy: 0.9667\n",
            "Epoch 12/20\n",
            "4/4 [==============================] - 0s 25ms/step - loss: 0.1080 - accuracy: 0.9500 - val_loss: 0.1428 - val_accuracy: 0.9667\n",
            "Epoch 13/20\n",
            "4/4 [==============================] - 0s 24ms/step - loss: 0.1429 - accuracy: 0.9250 - val_loss: 0.1540 - val_accuracy: 0.9333\n",
            "Epoch 14/20\n",
            "4/4 [==============================] - 0s 21ms/step - loss: 0.1067 - accuracy: 0.9583 - val_loss: 0.2037 - val_accuracy: 0.9000\n",
            "Epoch 15/20\n",
            "4/4 [==============================] - 0s 19ms/step - loss: 0.1112 - accuracy: 0.9583 - val_loss: 0.2509 - val_accuracy: 0.8667\n",
            "Epoch 16/20\n",
            "4/4 [==============================] - 0s 26ms/step - loss: 0.2541 - accuracy: 0.9000 - val_loss: 0.1151 - val_accuracy: 0.9667\n",
            "Epoch 17/20\n",
            "4/4 [==============================] - 0s 28ms/step - loss: 0.0936 - accuracy: 0.9833 - val_loss: 0.1309 - val_accuracy: 0.9333\n",
            "Epoch 18/20\n",
            "4/4 [==============================] - 0s 20ms/step - loss: 0.0969 - accuracy: 0.9750 - val_loss: 0.2111 - val_accuracy: 0.8667\n",
            "Epoch 19/20\n",
            "4/4 [==============================] - 0s 19ms/step - loss: 0.2338 - accuracy: 0.8833 - val_loss: 0.1097 - val_accuracy: 0.9667\n",
            "Epoch 20/20\n",
            "4/4 [==============================] - 0s 21ms/step - loss: 0.0870 - accuracy: 0.9667 - val_loss: 0.1101 - val_accuracy: 0.9667\n"
          ]
        }
      ],
      "source": [
        "history = model.fit(X_train, y_train,\n",
        "          epochs = 20,\n",
        "          verbose = 1,\n",
        "          validation_data = (X_valid, y_valid))"
      ]
    },
    {
      "cell_type": "code",
      "source": [
        "import matplotlib.pyplot as plt\n",
        "plt.figure()\n",
        "\n",
        "# обобщение истории для точности\n",
        "plt.subplot(211)\n",
        "plt.plot(history.history['accuracy'])\n",
        "plt.plot(history.history['val_accuracy'])\n",
        "plt.title('model accuracy')\n",
        "plt.ylabel('accuracy')\n",
        "plt.xlabel('epoch')\n",
        "plt.legend(['train', 'test'], loc='upper left')\n",
        "\n",
        " # обобщение истории для потерь\n",
        "plt.subplot(212)\n",
        "plt.plot(history.history['loss'])\n",
        "plt.plot(history.history['val_loss'])\n",
        "plt.title('model loss')\n",
        "plt.ylabel('loss')\n",
        "plt.xlabel('epoch')\n",
        "plt.legend(['train', 'test'], loc='upper left')\n",
        "plt.show()"
      ],
      "metadata": {
        "colab": {
          "base_uri": "https://localhost:8080/",
          "height": 472
        },
        "id": "CE26g4DQgsY6",
        "outputId": "878d0501-5089-45a0-b867-e44ea5460175"
      },
      "id": "CE26g4DQgsY6",
      "execution_count": 122,
      "outputs": [
        {
          "output_type": "display_data",
          "data": {
            "text/plain": [
              "<Figure size 640x480 with 2 Axes>"
            ],
            "image/png": "[encoded data removed]"
          },
          "metadata": {}
        }
      ]
    },
    {
      "cell_type": "markdown",
      "id": "6131e87f",
      "metadata": {
        "papermill": {
          "duration": 0.012677,
          "end_time": "2023-11-01T11:38:54.902261",
          "exception": false,
          "start_time": "2023-11-01T11:38:54.889584",
          "status": "completed"
        },
        "tags": [],
        "id": "6131e87f"
      },
      "source": [
        "# Print actual and predicted value"
      ]
    },
    {
      "cell_type": "code",
      "execution_count": 117,
      "id": "551c1da0",
      "metadata": {
        "execution": {
          "iopub.execute_input": "2023-11-01T11:38:54.930417Z",
          "iopub.status.busy": "2023-11-01T11:38:54.930030Z",
          "iopub.status.idle": "2023-11-01T11:38:55.084236Z",
          "shell.execute_reply": "2023-11-01T11:38:55.083084Z"
        },
        "papermill": {
          "duration": 0.170546,
          "end_time": "2023-11-01T11:38:55.086298",
          "exception": false,
          "start_time": "2023-11-01T11:38:54.915752",
          "status": "completed"
        },
        "tags": [],
        "colab": {
          "base_uri": "https://localhost:8080/"
        },
        "id": "551c1da0",
        "outputId": "fee5dfbd-666d-4a68-a242-7f1edadb709d"
      },
      "outputs": [
        {
          "output_type": "stream",
          "name": "stdout",
          "text": [
            "1/1 [==============================] - 0s 71ms/step\n",
            "Actual:    [1 0 2 1 1 0 1 2 1 1 2 0 0 0 0 1 2 1 1 2 0 2 0 2 2 2 2 2 0 0]\n",
            "Predicted: [1 0 2 1 1 0 1 2 2 1 2 0 0 0 0 1 2 1 1 2 0 2 0 2 2 2 2 2 0 0]\n"
          ]
        }
      ],
      "source": [
        "y_pred = model.predict(X_valid)\n",
        "\n",
        "actual = np.argmax(y_valid, axis = 1)\n",
        "predicted = np.argmax(y_pred, axis = 1)\n",
        "\n",
        "print(f\"Actual:    {actual}\")\n",
        "print(f\"Predicted: {predicted}\")"
      ]
    }
  ],
  "metadata": {
    "kernelspec": {
      "display_name": "Python 3",
      "language": "python",
      "name": "python3"
    },
    "language_info": {
      "codemirror_mode": {
        "name": "ipython",
        "version": 3
      },
      "file_extension": ".py",
      "mimetype": "text/x-python",
      "name": "python",
      "nbconvert_exporter": "python",
      "pygments_lexer": "ipython3",
      "version": "3.10.12"
    },
    "papermill": {
      "default_parameters": {},
      "duration": 19.283487,
      "end_time": "2023-11-01T11:38:57.581498",
      "environment_variables": {},
      "exception": null,
      "input_path": "__notebook__.ipynb",
      "output_path": "__notebook__.ipynb",
      "parameters": {},
      "start_time": "2023-11-01T11:38:38.298011",
      "version": "2.4.0"
    },
    "colab": {
      "provenance": []
    }
  },
  "nbformat": 4,
  "nbformat_minor": 5
}