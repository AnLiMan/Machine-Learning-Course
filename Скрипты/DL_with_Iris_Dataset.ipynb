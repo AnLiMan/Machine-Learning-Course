{
  "cells": [
    {
      "cell_type": "markdown",
      "id": "f61fc24a",
      "metadata": {
        "papermill": {
          "duration": 0.00774,
          "end_time": "2023-11-01T11:38:41.431045",
          "exception": false,
          "start_time": "2023-11-01T11:38:41.423305",
          "status": "completed"
        },
        "tags": [],
        "id": "f61fc24a"
      },
      "source": [
        "# Библиотеки"
      ]
    },
    {
      "cell_type": "code",
      "execution_count": 32,
      "id": "a4285c70",
      "metadata": {
        "execution": {
          "iopub.execute_input": "2023-11-01T11:38:41.447709Z",
          "iopub.status.busy": "2023-11-01T11:38:41.447061Z",
          "iopub.status.idle": "2023-11-01T11:38:51.189931Z",
          "shell.execute_reply": "2023-11-01T11:38:51.189102Z"
        },
        "papermill": {
          "duration": 9.753849,
          "end_time": "2023-11-01T11:38:51.192359",
          "exception": false,
          "start_time": "2023-11-01T11:38:41.438510",
          "status": "completed"
        },
        "tags": [],
        "id": "a4285c70"
      },
      "outputs": [],
      "source": [
        "import pandas as pd\n",
        "import numpy as np\n",
        "from sklearn.preprocessing import LabelEncoder, MinMaxScaler\n",
        "from sklearn.model_selection import train_test_split\n",
        "import tensorflow.keras as keras\n",
        "from tensorflow.keras.models import Sequential\n",
        "from tensorflow.keras.layers import Dense, Dropout\n",
        "import matplotlib.pyplot as plt"
      ]
    },
    {
      "cell_type": "markdown",
      "source": [
        "# Работа с датасетом"
      ],
      "metadata": {
        "id": "jmbCbWu935Ad"
      },
      "id": "jmbCbWu935Ad"
    },
    {
      "cell_type": "markdown",
      "id": "ed214852",
      "metadata": {
        "papermill": {
          "duration": 0.006898,
          "end_time": "2023-11-01T11:38:51.206873",
          "exception": false,
          "start_time": "2023-11-01T11:38:51.199975",
          "status": "completed"
        },
        "tags": [],
        "id": "ed214852"
      },
      "source": [
        "### Загрузим датасет"
      ]
    },
    {
      "cell_type": "code",
      "execution_count": 2,
      "id": "1a9bee15",
      "metadata": {
        "execution": {
          "iopub.execute_input": "2023-11-01T11:38:51.223006Z",
          "iopub.status.busy": "2023-11-01T11:38:51.222354Z",
          "iopub.status.idle": "2023-11-01T11:38:51.255616Z",
          "shell.execute_reply": "2023-11-01T11:38:51.254852Z"
        },
        "papermill": {
          "duration": 0.043822,
          "end_time": "2023-11-01T11:38:51.257845",
          "exception": false,
          "start_time": "2023-11-01T11:38:51.214023",
          "status": "completed"
        },
        "tags": [],
        "id": "1a9bee15"
      },
      "outputs": [],
      "source": [
        "data = pd.read_csv('https://raw.githubusercontent.com/AnLiMan/Machine-Learning-Course/main/Datasets/Iris.csv')"
      ]
    },
    {
      "cell_type": "markdown",
      "id": "72b6dd80",
      "metadata": {
        "papermill": {
          "duration": 0.007065,
          "end_time": "2023-11-01T11:38:51.272490",
          "exception": false,
          "start_time": "2023-11-01T11:38:51.265425",
          "status": "completed"
        },
        "tags": [],
        "id": "72b6dd80"
      },
      "source": [
        "### Отобразим первые 5 элементов"
      ]
    },
    {
      "cell_type": "code",
      "execution_count": 3,
      "id": "6454cb9b",
      "metadata": {
        "execution": {
          "iopub.execute_input": "2023-11-01T11:38:51.289083Z",
          "iopub.status.busy": "2023-11-01T11:38:51.288468Z",
          "iopub.status.idle": "2023-11-01T11:38:51.299900Z",
          "shell.execute_reply": "2023-11-01T11:38:51.298696Z"
        },
        "papermill": {
          "duration": 0.022194,
          "end_time": "2023-11-01T11:38:51.302023",
          "exception": false,
          "start_time": "2023-11-01T11:38:51.279829",
          "status": "completed"
        },
        "tags": [],
        "colab": {
          "base_uri": "https://localhost:8080/"
        },
        "id": "6454cb9b",
        "outputId": "45fd37e2-ea5d-4cd4-c7e2-dbeb4cbd4794"
      },
      "outputs": [
        {
          "output_type": "stream",
          "name": "stdout",
          "text": [
            "   Id  SepalLengthCm  SepalWidthCm  PetalLengthCm  PetalWidthCm      Species\n",
            "0   1            5.1           3.5            1.4           0.2  Iris-setosa\n",
            "1   2            4.9           3.0            1.4           0.2  Iris-setosa\n",
            "2   3            4.7           3.2            1.3           0.2  Iris-setosa\n",
            "3   4            4.6           3.1            1.5           0.2  Iris-setosa\n",
            "4   5            5.0           3.6            1.4           0.2  Iris-setosa\n"
          ]
        }
      ],
      "source": [
        "print(data.head())"
      ]
    },
    {
      "cell_type": "markdown",
      "id": "21cea90e",
      "metadata": {
        "papermill": {
          "duration": 0.00722,
          "end_time": "2023-11-01T11:38:51.316828",
          "exception": false,
          "start_time": "2023-11-01T11:38:51.309608",
          "status": "completed"
        },
        "tags": [],
        "id": "21cea90e"
      },
      "source": [
        "### Отобразим информацию о нём"
      ]
    },
    {
      "cell_type": "code",
      "execution_count": 4,
      "id": "1b333ffe",
      "metadata": {
        "execution": {
          "iopub.execute_input": "2023-11-01T11:38:51.333936Z",
          "iopub.status.busy": "2023-11-01T11:38:51.333323Z",
          "iopub.status.idle": "2023-11-01T11:38:51.353111Z",
          "shell.execute_reply": "2023-11-01T11:38:51.351082Z"
        },
        "papermill": {
          "duration": 0.031594,
          "end_time": "2023-11-01T11:38:51.355905",
          "exception": false,
          "start_time": "2023-11-01T11:38:51.324311",
          "status": "completed"
        },
        "tags": [],
        "colab": {
          "base_uri": "https://localhost:8080/"
        },
        "id": "1b333ffe",
        "outputId": "e4ba6988-6478-49fa-8393-48222cdba16f"
      },
      "outputs": [
        {
          "output_type": "stream",
          "name": "stdout",
          "text": [
            "<class 'pandas.core.frame.DataFrame'>\n",
            "RangeIndex: 150 entries, 0 to 149\n",
            "Data columns (total 6 columns):\n",
            " #   Column         Non-Null Count  Dtype  \n",
            "---  ------         --------------  -----  \n",
            " 0   Id             150 non-null    int64  \n",
            " 1   SepalLengthCm  150 non-null    float64\n",
            " 2   SepalWidthCm   150 non-null    float64\n",
            " 3   PetalLengthCm  150 non-null    float64\n",
            " 4   PetalWidthCm   150 non-null    float64\n",
            " 5   Species        150 non-null    object \n",
            "dtypes: float64(4), int64(1), object(1)\n",
            "memory usage: 7.2+ KB\n",
            "None\n"
          ]
        }
      ],
      "source": [
        "print(data.info())"
      ]
    },
    {
      "cell_type": "markdown",
      "id": "db99b8ae",
      "metadata": {
        "papermill": {
          "duration": 0.007516,
          "end_time": "2023-11-01T11:38:51.371205",
          "exception": false,
          "start_time": "2023-11-01T11:38:51.363689",
          "status": "completed"
        },
        "tags": [],
        "id": "db99b8ae"
      },
      "source": [
        "### Отобразим размерность датасета"
      ]
    },
    {
      "cell_type": "code",
      "execution_count": 5,
      "id": "1fc346ce",
      "metadata": {
        "execution": {
          "iopub.execute_input": "2023-11-01T11:38:51.388209Z",
          "iopub.status.busy": "2023-11-01T11:38:51.387808Z",
          "iopub.status.idle": "2023-11-01T11:38:51.393738Z",
          "shell.execute_reply": "2023-11-01T11:38:51.392368Z"
        },
        "papermill": {
          "duration": 0.017033,
          "end_time": "2023-11-01T11:38:51.395932",
          "exception": false,
          "start_time": "2023-11-01T11:38:51.378899",
          "status": "completed"
        },
        "tags": [],
        "colab": {
          "base_uri": "https://localhost:8080/"
        },
        "id": "1fc346ce",
        "outputId": "04240ae8-6ae9-4e13-bcf2-2eae2fab4e4f"
      },
      "outputs": [
        {
          "output_type": "stream",
          "name": "stdout",
          "text": [
            "Размерность =  (150, 6)\n"
          ]
        }
      ],
      "source": [
        "print(\"Размерность = \", data.shape)"
      ]
    },
    {
      "cell_type": "markdown",
      "id": "a0401222",
      "metadata": {
        "papermill": {
          "duration": 0.00731,
          "end_time": "2023-11-01T11:38:51.411112",
          "exception": false,
          "start_time": "2023-11-01T11:38:51.403802",
          "status": "completed"
        },
        "tags": [],
        "id": "a0401222"
      },
      "source": [
        "### Проверка на нулевые и отсутствующие значения."
      ]
    },
    {
      "cell_type": "code",
      "execution_count": 6,
      "id": "a7aebff2",
      "metadata": {
        "execution": {
          "iopub.execute_input": "2023-11-01T11:38:51.428672Z",
          "iopub.status.busy": "2023-11-01T11:38:51.428008Z",
          "iopub.status.idle": "2023-11-01T11:38:51.434884Z",
          "shell.execute_reply": "2023-11-01T11:38:51.433809Z"
        },
        "papermill": {
          "duration": 0.018291,
          "end_time": "2023-11-01T11:38:51.436887",
          "exception": false,
          "start_time": "2023-11-01T11:38:51.418596",
          "status": "completed"
        },
        "tags": [],
        "colab": {
          "base_uri": "https://localhost:8080/"
        },
        "id": "a7aebff2",
        "outputId": "f478a5d5-7f16-4066-f161-f5ab834dff95"
      },
      "outputs": [
        {
          "output_type": "stream",
          "name": "stdout",
          "text": [
            "Id               0\n",
            "SepalLengthCm    0\n",
            "SepalWidthCm     0\n",
            "PetalLengthCm    0\n",
            "PetalWidthCm     0\n",
            "Species          0\n",
            "dtype: int64\n"
          ]
        }
      ],
      "source": [
        "print(data.isna().sum())"
      ]
    },
    {
      "cell_type": "markdown",
      "id": "250e4ae2",
      "metadata": {
        "papermill": {
          "duration": 0.007455,
          "end_time": "2023-11-01T11:38:51.451962",
          "exception": false,
          "start_time": "2023-11-01T11:38:51.444507",
          "status": "completed"
        },
        "tags": [],
        "id": "250e4ae2"
      },
      "source": [
        "### Проверка дубликатов"
      ]
    },
    {
      "cell_type": "code",
      "execution_count": 7,
      "id": "fcb5c642",
      "metadata": {
        "execution": {
          "iopub.execute_input": "2023-11-01T11:38:51.469592Z",
          "iopub.status.busy": "2023-11-01T11:38:51.468968Z",
          "iopub.status.idle": "2023-11-01T11:38:51.484130Z",
          "shell.execute_reply": "2023-11-01T11:38:51.482718Z"
        },
        "papermill": {
          "duration": 0.026756,
          "end_time": "2023-11-01T11:38:51.486619",
          "exception": false,
          "start_time": "2023-11-01T11:38:51.459863",
          "status": "completed"
        },
        "tags": [],
        "colab": {
          "base_uri": "https://localhost:8080/"
        },
        "id": "fcb5c642",
        "outputId": "1bca13f5-bd99-4835-aa7a-27f7823e0a7b"
      },
      "outputs": [
        {
          "output_type": "stream",
          "name": "stdout",
          "text": [
            "False    150\n",
            "dtype: int64\n",
            "Empty DataFrame\n",
            "Columns: [Id, SepalLengthCm, SepalWidthCm, PetalLengthCm, PetalWidthCm, Species]\n",
            "Index: []\n"
          ]
        }
      ],
      "source": [
        "print(data.duplicated(keep = False).value_counts())\n",
        "print(data[data.duplicated(keep = False)])"
      ]
    },
    {
      "cell_type": "markdown",
      "id": "7da2c647",
      "metadata": {
        "papermill": {
          "duration": 0.007387,
          "end_time": "2023-11-01T11:38:51.502064",
          "exception": false,
          "start_time": "2023-11-01T11:38:51.494677",
          "status": "completed"
        },
        "tags": [],
        "id": "7da2c647"
      },
      "source": [
        "### Выбросим дубликаты из датаста и отобразим новую размерность"
      ]
    },
    {
      "cell_type": "code",
      "execution_count": 8,
      "id": "5281cc76",
      "metadata": {
        "execution": {
          "iopub.execute_input": "2023-11-01T11:38:51.519199Z",
          "iopub.status.busy": "2023-11-01T11:38:51.518807Z",
          "iopub.status.idle": "2023-11-01T11:38:51.526863Z",
          "shell.execute_reply": "2023-11-01T11:38:51.525708Z"
        },
        "papermill": {
          "duration": 0.019194,
          "end_time": "2023-11-01T11:38:51.528876",
          "exception": false,
          "start_time": "2023-11-01T11:38:51.509682",
          "status": "completed"
        },
        "tags": [],
        "colab": {
          "base_uri": "https://localhost:8080/"
        },
        "id": "5281cc76",
        "outputId": "01c64f2a-7fce-4718-8d3c-7b3ad4ebac53"
      },
      "outputs": [
        {
          "output_type": "stream",
          "name": "stdout",
          "text": [
            "(150, 6)\n"
          ]
        }
      ],
      "source": [
        "data = data.drop_duplicates(keep = 'first').copy()\n",
        "print(data.shape)"
      ]
    },
    {
      "cell_type": "markdown",
      "id": "bb777925",
      "metadata": {
        "papermill": {
          "duration": 0.007486,
          "end_time": "2023-11-01T11:38:51.544034",
          "exception": false,
          "start_time": "2023-11-01T11:38:51.536548",
          "status": "completed"
        },
        "tags": [],
        "id": "bb777925"
      },
      "source": [
        "### Сброс индекса кадра данных"
      ]
    },
    {
      "cell_type": "code",
      "execution_count": 9,
      "id": "dc53fbe9",
      "metadata": {
        "execution": {
          "iopub.execute_input": "2023-11-01T11:38:51.561136Z",
          "iopub.status.busy": "2023-11-01T11:38:51.560750Z",
          "iopub.status.idle": "2023-11-01T11:38:51.565763Z",
          "shell.execute_reply": "2023-11-01T11:38:51.564696Z"
        },
        "papermill": {
          "duration": 0.016165,
          "end_time": "2023-11-01T11:38:51.567877",
          "exception": false,
          "start_time": "2023-11-01T11:38:51.551712",
          "status": "completed"
        },
        "tags": [],
        "id": "dc53fbe9"
      },
      "outputs": [],
      "source": [
        "data = data.reset_index(drop = True)"
      ]
    },
    {
      "cell_type": "markdown",
      "id": "aad2d21d",
      "metadata": {
        "papermill": {
          "duration": 0.007782,
          "end_time": "2023-11-01T11:38:51.584198",
          "exception": false,
          "start_time": "2023-11-01T11:38:51.576416",
          "status": "completed"
        },
        "tags": [],
        "id": "aad2d21d"
      },
      "source": [
        "### Разделим датасет на независимые переменные (X) и целевую функцию (Y)"
      ]
    },
    {
      "cell_type": "code",
      "execution_count": 10,
      "id": "41e7e6f3",
      "metadata": {
        "execution": {
          "iopub.execute_input": "2023-11-01T11:38:51.601996Z",
          "iopub.status.busy": "2023-11-01T11:38:51.601448Z",
          "iopub.status.idle": "2023-11-01T11:38:51.608441Z",
          "shell.execute_reply": "2023-11-01T11:38:51.607501Z"
        },
        "papermill": {
          "duration": 0.018439,
          "end_time": "2023-11-01T11:38:51.610613",
          "exception": false,
          "start_time": "2023-11-01T11:38:51.592174",
          "status": "completed"
        },
        "tags": [],
        "id": "41e7e6f3"
      },
      "outputs": [],
      "source": [
        "X = data.iloc[:, 1:5].values\n",
        "y = data['Species'].values"
      ]
    },
    {
      "cell_type": "markdown",
      "id": "e323106b",
      "metadata": {
        "papermill": {
          "duration": 0.007849,
          "end_time": "2023-11-01T11:38:51.626718",
          "exception": false,
          "start_time": "2023-11-01T11:38:51.618869",
          "status": "completed"
        },
        "tags": [],
        "id": "e323106b"
      },
      "source": [
        "### Размерности полученных данных"
      ]
    },
    {
      "cell_type": "code",
      "execution_count": 11,
      "id": "fcd23768",
      "metadata": {
        "execution": {
          "iopub.execute_input": "2023-11-01T11:38:51.644267Z",
          "iopub.status.busy": "2023-11-01T11:38:51.643912Z",
          "iopub.status.idle": "2023-11-01T11:38:51.650179Z",
          "shell.execute_reply": "2023-11-01T11:38:51.648476Z"
        },
        "papermill": {
          "duration": 0.01775,
          "end_time": "2023-11-01T11:38:51.652613",
          "exception": false,
          "start_time": "2023-11-01T11:38:51.634863",
          "status": "completed"
        },
        "tags": [],
        "colab": {
          "base_uri": "https://localhost:8080/"
        },
        "id": "fcd23768",
        "outputId": "bcd273a7-ee4e-4ff8-bb2c-d16959d401d2"
      },
      "outputs": [
        {
          "output_type": "stream",
          "name": "stdout",
          "text": [
            "Рамерность Х, строки(общее количество значений), колонны (количество независимых переменных) = (150, 4)\n",
            "Рамерность Y, строки(общее количество значений), колонны (количество зависмых переменных) = (150,)\n"
          ]
        }
      ],
      "source": [
        "print(\"Рамерность Х, строки(общее количество значений), колонны (количество независимых переменных) = \" + str(X.shape))\n",
        "print(\"Рамерность Y, строки(общее количество значений), колонны (количество зависмых переменных) = \" + str(y.shape))"
      ]
    },
    {
      "cell_type": "code",
      "source": [
        "print(\"Значения Х \")\n",
        "print(X)"
      ],
      "metadata": {
        "colab": {
          "base_uri": "https://localhost:8080/"
        },
        "id": "xupRW0h3fGfS",
        "outputId": "1cc118eb-71fa-4da5-93c2-3916d923284e"
      },
      "id": "xupRW0h3fGfS",
      "execution_count": 15,
      "outputs": [
        {
          "output_type": "stream",
          "name": "stdout",
          "text": [
            "Значения Х \n",
            "[[5.1 3.5 1.4 0.2]\n",
            " [4.9 3.  1.4 0.2]\n",
            " [4.7 3.2 1.3 0.2]\n",
            " [4.6 3.1 1.5 0.2]\n",
            " [5.  3.6 1.4 0.2]\n",
            " [5.4 3.9 1.7 0.4]\n",
            " [4.6 3.4 1.4 0.3]\n",
            " [5.  3.4 1.5 0.2]\n",
            " [4.4 2.9 1.4 0.2]\n",
            " [4.9 3.1 1.5 0.1]\n",
            " [5.4 3.7 1.5 0.2]\n",
            " [4.8 3.4 1.6 0.2]\n",
            " [4.8 3.  1.4 0.1]\n",
            " [4.3 3.  1.1 0.1]\n",
            " [5.8 4.  1.2 0.2]\n",
            " [5.7 4.4 1.5 0.4]\n",
            " [5.4 3.9 1.3 0.4]\n",
            " [5.1 3.5 1.4 0.3]\n",
            " [5.7 3.8 1.7 0.3]\n",
            " [5.1 3.8 1.5 0.3]\n",
            " [5.4 3.4 1.7 0.2]\n",
            " [5.1 3.7 1.5 0.4]\n",
            " [4.6 3.6 1.  0.2]\n",
            " [5.1 3.3 1.7 0.5]\n",
            " [4.8 3.4 1.9 0.2]\n",
            " [5.  3.  1.6 0.2]\n",
            " [5.  3.4 1.6 0.4]\n",
            " [5.2 3.5 1.5 0.2]\n",
            " [5.2 3.4 1.4 0.2]\n",
            " [4.7 3.2 1.6 0.2]\n",
            " [4.8 3.1 1.6 0.2]\n",
            " [5.4 3.4 1.5 0.4]\n",
            " [5.2 4.1 1.5 0.1]\n",
            " [5.5 4.2 1.4 0.2]\n",
            " [4.9 3.1 1.5 0.1]\n",
            " [5.  3.2 1.2 0.2]\n",
            " [5.5 3.5 1.3 0.2]\n",
            " [4.9 3.1 1.5 0.1]\n",
            " [4.4 3.  1.3 0.2]\n",
            " [5.1 3.4 1.5 0.2]\n",
            " [5.  3.5 1.3 0.3]\n",
            " [4.5 2.3 1.3 0.3]\n",
            " [4.4 3.2 1.3 0.2]\n",
            " [5.  3.5 1.6 0.6]\n",
            " [5.1 3.8 1.9 0.4]\n",
            " [4.8 3.  1.4 0.3]\n",
            " [5.1 3.8 1.6 0.2]\n",
            " [4.6 3.2 1.4 0.2]\n",
            " [5.3 3.7 1.5 0.2]\n",
            " [5.  3.3 1.4 0.2]\n",
            " [7.  3.2 4.7 1.4]\n",
            " [6.4 3.2 4.5 1.5]\n",
            " [6.9 3.1 4.9 1.5]\n",
            " [5.5 2.3 4.  1.3]\n",
            " [6.5 2.8 4.6 1.5]\n",
            " [5.7 2.8 4.5 1.3]\n",
            " [6.3 3.3 4.7 1.6]\n",
            " [4.9 2.4 3.3 1. ]\n",
            " [6.6 2.9 4.6 1.3]\n",
            " [5.2 2.7 3.9 1.4]\n",
            " [5.  2.  3.5 1. ]\n",
            " [5.9 3.  4.2 1.5]\n",
            " [6.  2.2 4.  1. ]\n",
            " [6.1 2.9 4.7 1.4]\n",
            " [5.6 2.9 3.6 1.3]\n",
            " [6.7 3.1 4.4 1.4]\n",
            " [5.6 3.  4.5 1.5]\n",
            " [5.8 2.7 4.1 1. ]\n",
            " [6.2 2.2 4.5 1.5]\n",
            " [5.6 2.5 3.9 1.1]\n",
            " [5.9 3.2 4.8 1.8]\n",
            " [6.1 2.8 4.  1.3]\n",
            " [6.3 2.5 4.9 1.5]\n",
            " [6.1 2.8 4.7 1.2]\n",
            " [6.4 2.9 4.3 1.3]\n",
            " [6.6 3.  4.4 1.4]\n",
            " [6.8 2.8 4.8 1.4]\n",
            " [6.7 3.  5.  1.7]\n",
            " [6.  2.9 4.5 1.5]\n",
            " [5.7 2.6 3.5 1. ]\n",
            " [5.5 2.4 3.8 1.1]\n",
            " [5.5 2.4 3.7 1. ]\n",
            " [5.8 2.7 3.9 1.2]\n",
            " [6.  2.7 5.1 1.6]\n",
            " [5.4 3.  4.5 1.5]\n",
            " [6.  3.4 4.5 1.6]\n",
            " [6.7 3.1 4.7 1.5]\n",
            " [6.3 2.3 4.4 1.3]\n",
            " [5.6 3.  4.1 1.3]\n",
            " [5.5 2.5 4.  1.3]\n",
            " [5.5 2.6 4.4 1.2]\n",
            " [6.1 3.  4.6 1.4]\n",
            " [5.8 2.6 4.  1.2]\n",
            " [5.  2.3 3.3 1. ]\n",
            " [5.6 2.7 4.2 1.3]\n",
            " [5.7 3.  4.2 1.2]\n",
            " [5.7 2.9 4.2 1.3]\n",
            " [6.2 2.9 4.3 1.3]\n",
            " [5.1 2.5 3.  1.1]\n",
            " [5.7 2.8 4.1 1.3]\n",
            " [6.3 3.3 6.  2.5]\n",
            " [5.8 2.7 5.1 1.9]\n",
            " [7.1 3.  5.9 2.1]\n",
            " [6.3 2.9 5.6 1.8]\n",
            " [6.5 3.  5.8 2.2]\n",
            " [7.6 3.  6.6 2.1]\n",
            " [4.9 2.5 4.5 1.7]\n",
            " [7.3 2.9 6.3 1.8]\n",
            " [6.7 2.5 5.8 1.8]\n",
            " [7.2 3.6 6.1 2.5]\n",
            " [6.5 3.2 5.1 2. ]\n",
            " [6.4 2.7 5.3 1.9]\n",
            " [6.8 3.  5.5 2.1]\n",
            " [5.7 2.5 5.  2. ]\n",
            " [5.8 2.8 5.1 2.4]\n",
            " [6.4 3.2 5.3 2.3]\n",
            " [6.5 3.  5.5 1.8]\n",
            " [7.7 3.8 6.7 2.2]\n",
            " [7.7 2.6 6.9 2.3]\n",
            " [6.  2.2 5.  1.5]\n",
            " [6.9 3.2 5.7 2.3]\n",
            " [5.6 2.8 4.9 2. ]\n",
            " [7.7 2.8 6.7 2. ]\n",
            " [6.3 2.7 4.9 1.8]\n",
            " [6.7 3.3 5.7 2.1]\n",
            " [7.2 3.2 6.  1.8]\n",
            " [6.2 2.8 4.8 1.8]\n",
            " [6.1 3.  4.9 1.8]\n",
            " [6.4 2.8 5.6 2.1]\n",
            " [7.2 3.  5.8 1.6]\n",
            " [7.4 2.8 6.1 1.9]\n",
            " [7.9 3.8 6.4 2. ]\n",
            " [6.4 2.8 5.6 2.2]\n",
            " [6.3 2.8 5.1 1.5]\n",
            " [6.1 2.6 5.6 1.4]\n",
            " [7.7 3.  6.1 2.3]\n",
            " [6.3 3.4 5.6 2.4]\n",
            " [6.4 3.1 5.5 1.8]\n",
            " [6.  3.  4.8 1.8]\n",
            " [6.9 3.1 5.4 2.1]\n",
            " [6.7 3.1 5.6 2.4]\n",
            " [6.9 3.1 5.1 2.3]\n",
            " [5.8 2.7 5.1 1.9]\n",
            " [6.8 3.2 5.9 2.3]\n",
            " [6.7 3.3 5.7 2.5]\n",
            " [6.7 3.  5.2 2.3]\n",
            " [6.3 2.5 5.  1.9]\n",
            " [6.5 3.  5.2 2. ]\n",
            " [6.2 3.4 5.4 2.3]\n",
            " [5.9 3.  5.1 1.8]]\n"
          ]
        }
      ]
    },
    {
      "cell_type": "code",
      "source": [
        "print(\"Значения Y\")\n",
        "print(y)"
      ],
      "metadata": {
        "colab": {
          "base_uri": "https://localhost:8080/"
        },
        "id": "z6VfUGV3fpHa",
        "outputId": "e04b7698-038a-47d3-91f7-9c4ae54b687a"
      },
      "id": "z6VfUGV3fpHa",
      "execution_count": 16,
      "outputs": [
        {
          "output_type": "stream",
          "name": "stdout",
          "text": [
            "Значения Y\n",
            "['Iris-setosa' 'Iris-setosa' 'Iris-setosa' 'Iris-setosa' 'Iris-setosa'\n",
            " 'Iris-setosa' 'Iris-setosa' 'Iris-setosa' 'Iris-setosa' 'Iris-setosa'\n",
            " 'Iris-setosa' 'Iris-setosa' 'Iris-setosa' 'Iris-setosa' 'Iris-setosa'\n",
            " 'Iris-setosa' 'Iris-setosa' 'Iris-setosa' 'Iris-setosa' 'Iris-setosa'\n",
            " 'Iris-setosa' 'Iris-setosa' 'Iris-setosa' 'Iris-setosa' 'Iris-setosa'\n",
            " 'Iris-setosa' 'Iris-setosa' 'Iris-setosa' 'Iris-setosa' 'Iris-setosa'\n",
            " 'Iris-setosa' 'Iris-setosa' 'Iris-setosa' 'Iris-setosa' 'Iris-setosa'\n",
            " 'Iris-setosa' 'Iris-setosa' 'Iris-setosa' 'Iris-setosa' 'Iris-setosa'\n",
            " 'Iris-setosa' 'Iris-setosa' 'Iris-setosa' 'Iris-setosa' 'Iris-setosa'\n",
            " 'Iris-setosa' 'Iris-setosa' 'Iris-setosa' 'Iris-setosa' 'Iris-setosa'\n",
            " 'Iris-versicolor' 'Iris-versicolor' 'Iris-versicolor' 'Iris-versicolor'\n",
            " 'Iris-versicolor' 'Iris-versicolor' 'Iris-versicolor' 'Iris-versicolor'\n",
            " 'Iris-versicolor' 'Iris-versicolor' 'Iris-versicolor' 'Iris-versicolor'\n",
            " 'Iris-versicolor' 'Iris-versicolor' 'Iris-versicolor' 'Iris-versicolor'\n",
            " 'Iris-versicolor' 'Iris-versicolor' 'Iris-versicolor' 'Iris-versicolor'\n",
            " 'Iris-versicolor' 'Iris-versicolor' 'Iris-versicolor' 'Iris-versicolor'\n",
            " 'Iris-versicolor' 'Iris-versicolor' 'Iris-versicolor' 'Iris-versicolor'\n",
            " 'Iris-versicolor' 'Iris-versicolor' 'Iris-versicolor' 'Iris-versicolor'\n",
            " 'Iris-versicolor' 'Iris-versicolor' 'Iris-versicolor' 'Iris-versicolor'\n",
            " 'Iris-versicolor' 'Iris-versicolor' 'Iris-versicolor' 'Iris-versicolor'\n",
            " 'Iris-versicolor' 'Iris-versicolor' 'Iris-versicolor' 'Iris-versicolor'\n",
            " 'Iris-versicolor' 'Iris-versicolor' 'Iris-versicolor' 'Iris-versicolor'\n",
            " 'Iris-versicolor' 'Iris-versicolor' 'Iris-virginica' 'Iris-virginica'\n",
            " 'Iris-virginica' 'Iris-virginica' 'Iris-virginica' 'Iris-virginica'\n",
            " 'Iris-virginica' 'Iris-virginica' 'Iris-virginica' 'Iris-virginica'\n",
            " 'Iris-virginica' 'Iris-virginica' 'Iris-virginica' 'Iris-virginica'\n",
            " 'Iris-virginica' 'Iris-virginica' 'Iris-virginica' 'Iris-virginica'\n",
            " 'Iris-virginica' 'Iris-virginica' 'Iris-virginica' 'Iris-virginica'\n",
            " 'Iris-virginica' 'Iris-virginica' 'Iris-virginica' 'Iris-virginica'\n",
            " 'Iris-virginica' 'Iris-virginica' 'Iris-virginica' 'Iris-virginica'\n",
            " 'Iris-virginica' 'Iris-virginica' 'Iris-virginica' 'Iris-virginica'\n",
            " 'Iris-virginica' 'Iris-virginica' 'Iris-virginica' 'Iris-virginica'\n",
            " 'Iris-virginica' 'Iris-virginica' 'Iris-virginica' 'Iris-virginica'\n",
            " 'Iris-virginica' 'Iris-virginica' 'Iris-virginica' 'Iris-virginica'\n",
            " 'Iris-virginica' 'Iris-virginica' 'Iris-virginica' 'Iris-virginica']\n"
          ]
        }
      ]
    },
    {
      "cell_type": "markdown",
      "id": "888963df",
      "metadata": {
        "papermill": {
          "duration": 0.007506,
          "end_time": "2023-11-01T11:38:51.667948",
          "exception": false,
          "start_time": "2023-11-01T11:38:51.660442",
          "status": "completed"
        },
        "tags": [],
        "id": "888963df"
      },
      "source": [
        "### Нормализация X (перевод значений в диапазон от 0 до 1)\n",
        "\n",
        "Нормализация входных параметров важна для улучшения стабильности и скорости сходимости обучения. Если входные данные не нормализованы, то некоторые параметры могут иметь большой диапазон значений, что может привести к проблемам в обучении нейронной сети. Например, градиенты могут стать слишком большими или маленькими, что приведет к проблемам в оптимизации и ухудшению точности предсказаний.\n",
        "\n",
        "Нормализация также позволяет ускорить процесс обучения, поскольку сходимость алгоритма оптимизации может быть улучшена. Правильно нормализованные данные также могут помочь в избежании проблемы переобучения, что может возникнуть, если входные данные не имеют хорошей репрезентативности.\n",
        "\n",
        "Подробнее https://www.mql5.com/ru/articles/12459#:~:text=%D0%9D%D0%BE%D1%80%D0%BC%D0%B0%D0%BB%D0%B8%D0%B7%D0%B0%D1%86%D0%B8%D1%8F%20%D0%B2%D1%85%D0%BE%D0%B4%D0%BD%D1%8B%D1%85%20%D0%BF%D0%B0%D1%80%D0%B0%D0%BC%D0%B5%D1%82%D1%80%D0%BE%D0%B2%20%D0%B2%D0%B0%D0%B6%D0%BD%D0%B0%20%D0%B4%D0%BB%D1%8F,%D0%BE%D0%BF%D1%82%D0%B8%D0%BC%D0%B8%D0%B7%D0%B0%D1%86%D0%B8%D0%B8%20%D0%B8%20%D1%83%D1%85%D1%83%D0%B4%D1%88%D0%B5%D0%BD%D0%B8%D1%8E%20%D1%82%D0%BE%D1%87%D0%BD%D0%BE%D1%81%D1%82%D0%B8%20%D0%BF%D1%80%D0%B5%D0%B4%D1%81%D0%BA%D0%B0%D0%B7%D0%B0%D0%BD%D0%B8%D0%B9"
      ]
    },
    {
      "cell_type": "code",
      "execution_count": 18,
      "id": "1983d93c",
      "metadata": {
        "execution": {
          "iopub.execute_input": "2023-11-01T11:38:51.685850Z",
          "iopub.status.busy": "2023-11-01T11:38:51.685210Z",
          "iopub.status.idle": "2023-11-01T11:38:51.691484Z",
          "shell.execute_reply": "2023-11-01T11:38:51.690357Z"
        },
        "papermill": {
          "duration": 0.01733,
          "end_time": "2023-11-01T11:38:51.693441",
          "exception": false,
          "start_time": "2023-11-01T11:38:51.676111",
          "status": "completed"
        },
        "tags": [],
        "id": "1983d93c"
      },
      "outputs": [],
      "source": [
        "scaler = MinMaxScaler()\n",
        "scaler.fit(X)\n",
        "X_scaled = scaler.fit_transform(X)"
      ]
    },
    {
      "cell_type": "code",
      "source": [
        "print(\"Нормализованные входные данные\")\n",
        "print(X_scaled)"
      ],
      "metadata": {
        "colab": {
          "base_uri": "https://localhost:8080/"
        },
        "id": "mIgzvVCPfy7I",
        "outputId": "545db053-dd7b-4731-dd3a-1a6b269af8fa"
      },
      "id": "mIgzvVCPfy7I",
      "execution_count": 19,
      "outputs": [
        {
          "output_type": "stream",
          "name": "stdout",
          "text": [
            "Нормализованные входные данные\n",
            "[[0.22222222 0.625      0.06779661 0.04166667]\n",
            " [0.16666667 0.41666667 0.06779661 0.04166667]\n",
            " [0.11111111 0.5        0.05084746 0.04166667]\n",
            " [0.08333333 0.45833333 0.08474576 0.04166667]\n",
            " [0.19444444 0.66666667 0.06779661 0.04166667]\n",
            " [0.30555556 0.79166667 0.11864407 0.125     ]\n",
            " [0.08333333 0.58333333 0.06779661 0.08333333]\n",
            " [0.19444444 0.58333333 0.08474576 0.04166667]\n",
            " [0.02777778 0.375      0.06779661 0.04166667]\n",
            " [0.16666667 0.45833333 0.08474576 0.        ]\n",
            " [0.30555556 0.70833333 0.08474576 0.04166667]\n",
            " [0.13888889 0.58333333 0.10169492 0.04166667]\n",
            " [0.13888889 0.41666667 0.06779661 0.        ]\n",
            " [0.         0.41666667 0.01694915 0.        ]\n",
            " [0.41666667 0.83333333 0.03389831 0.04166667]\n",
            " [0.38888889 1.         0.08474576 0.125     ]\n",
            " [0.30555556 0.79166667 0.05084746 0.125     ]\n",
            " [0.22222222 0.625      0.06779661 0.08333333]\n",
            " [0.38888889 0.75       0.11864407 0.08333333]\n",
            " [0.22222222 0.75       0.08474576 0.08333333]\n",
            " [0.30555556 0.58333333 0.11864407 0.04166667]\n",
            " [0.22222222 0.70833333 0.08474576 0.125     ]\n",
            " [0.08333333 0.66666667 0.         0.04166667]\n",
            " [0.22222222 0.54166667 0.11864407 0.16666667]\n",
            " [0.13888889 0.58333333 0.15254237 0.04166667]\n",
            " [0.19444444 0.41666667 0.10169492 0.04166667]\n",
            " [0.19444444 0.58333333 0.10169492 0.125     ]\n",
            " [0.25       0.625      0.08474576 0.04166667]\n",
            " [0.25       0.58333333 0.06779661 0.04166667]\n",
            " [0.11111111 0.5        0.10169492 0.04166667]\n",
            " [0.13888889 0.45833333 0.10169492 0.04166667]\n",
            " [0.30555556 0.58333333 0.08474576 0.125     ]\n",
            " [0.25       0.875      0.08474576 0.        ]\n",
            " [0.33333333 0.91666667 0.06779661 0.04166667]\n",
            " [0.16666667 0.45833333 0.08474576 0.        ]\n",
            " [0.19444444 0.5        0.03389831 0.04166667]\n",
            " [0.33333333 0.625      0.05084746 0.04166667]\n",
            " [0.16666667 0.45833333 0.08474576 0.        ]\n",
            " [0.02777778 0.41666667 0.05084746 0.04166667]\n",
            " [0.22222222 0.58333333 0.08474576 0.04166667]\n",
            " [0.19444444 0.625      0.05084746 0.08333333]\n",
            " [0.05555556 0.125      0.05084746 0.08333333]\n",
            " [0.02777778 0.5        0.05084746 0.04166667]\n",
            " [0.19444444 0.625      0.10169492 0.20833333]\n",
            " [0.22222222 0.75       0.15254237 0.125     ]\n",
            " [0.13888889 0.41666667 0.06779661 0.08333333]\n",
            " [0.22222222 0.75       0.10169492 0.04166667]\n",
            " [0.08333333 0.5        0.06779661 0.04166667]\n",
            " [0.27777778 0.70833333 0.08474576 0.04166667]\n",
            " [0.19444444 0.54166667 0.06779661 0.04166667]\n",
            " [0.75       0.5        0.62711864 0.54166667]\n",
            " [0.58333333 0.5        0.59322034 0.58333333]\n",
            " [0.72222222 0.45833333 0.66101695 0.58333333]\n",
            " [0.33333333 0.125      0.50847458 0.5       ]\n",
            " [0.61111111 0.33333333 0.61016949 0.58333333]\n",
            " [0.38888889 0.33333333 0.59322034 0.5       ]\n",
            " [0.55555556 0.54166667 0.62711864 0.625     ]\n",
            " [0.16666667 0.16666667 0.38983051 0.375     ]\n",
            " [0.63888889 0.375      0.61016949 0.5       ]\n",
            " [0.25       0.29166667 0.49152542 0.54166667]\n",
            " [0.19444444 0.         0.42372881 0.375     ]\n",
            " [0.44444444 0.41666667 0.54237288 0.58333333]\n",
            " [0.47222222 0.08333333 0.50847458 0.375     ]\n",
            " [0.5        0.375      0.62711864 0.54166667]\n",
            " [0.36111111 0.375      0.44067797 0.5       ]\n",
            " [0.66666667 0.45833333 0.57627119 0.54166667]\n",
            " [0.36111111 0.41666667 0.59322034 0.58333333]\n",
            " [0.41666667 0.29166667 0.52542373 0.375     ]\n",
            " [0.52777778 0.08333333 0.59322034 0.58333333]\n",
            " [0.36111111 0.20833333 0.49152542 0.41666667]\n",
            " [0.44444444 0.5        0.6440678  0.70833333]\n",
            " [0.5        0.33333333 0.50847458 0.5       ]\n",
            " [0.55555556 0.20833333 0.66101695 0.58333333]\n",
            " [0.5        0.33333333 0.62711864 0.45833333]\n",
            " [0.58333333 0.375      0.55932203 0.5       ]\n",
            " [0.63888889 0.41666667 0.57627119 0.54166667]\n",
            " [0.69444444 0.33333333 0.6440678  0.54166667]\n",
            " [0.66666667 0.41666667 0.6779661  0.66666667]\n",
            " [0.47222222 0.375      0.59322034 0.58333333]\n",
            " [0.38888889 0.25       0.42372881 0.375     ]\n",
            " [0.33333333 0.16666667 0.47457627 0.41666667]\n",
            " [0.33333333 0.16666667 0.45762712 0.375     ]\n",
            " [0.41666667 0.29166667 0.49152542 0.45833333]\n",
            " [0.47222222 0.29166667 0.69491525 0.625     ]\n",
            " [0.30555556 0.41666667 0.59322034 0.58333333]\n",
            " [0.47222222 0.58333333 0.59322034 0.625     ]\n",
            " [0.66666667 0.45833333 0.62711864 0.58333333]\n",
            " [0.55555556 0.125      0.57627119 0.5       ]\n",
            " [0.36111111 0.41666667 0.52542373 0.5       ]\n",
            " [0.33333333 0.20833333 0.50847458 0.5       ]\n",
            " [0.33333333 0.25       0.57627119 0.45833333]\n",
            " [0.5        0.41666667 0.61016949 0.54166667]\n",
            " [0.41666667 0.25       0.50847458 0.45833333]\n",
            " [0.19444444 0.125      0.38983051 0.375     ]\n",
            " [0.36111111 0.29166667 0.54237288 0.5       ]\n",
            " [0.38888889 0.41666667 0.54237288 0.45833333]\n",
            " [0.38888889 0.375      0.54237288 0.5       ]\n",
            " [0.52777778 0.375      0.55932203 0.5       ]\n",
            " [0.22222222 0.20833333 0.33898305 0.41666667]\n",
            " [0.38888889 0.33333333 0.52542373 0.5       ]\n",
            " [0.55555556 0.54166667 0.84745763 1.        ]\n",
            " [0.41666667 0.29166667 0.69491525 0.75      ]\n",
            " [0.77777778 0.41666667 0.83050847 0.83333333]\n",
            " [0.55555556 0.375      0.77966102 0.70833333]\n",
            " [0.61111111 0.41666667 0.81355932 0.875     ]\n",
            " [0.91666667 0.41666667 0.94915254 0.83333333]\n",
            " [0.16666667 0.20833333 0.59322034 0.66666667]\n",
            " [0.83333333 0.375      0.89830508 0.70833333]\n",
            " [0.66666667 0.20833333 0.81355932 0.70833333]\n",
            " [0.80555556 0.66666667 0.86440678 1.        ]\n",
            " [0.61111111 0.5        0.69491525 0.79166667]\n",
            " [0.58333333 0.29166667 0.72881356 0.75      ]\n",
            " [0.69444444 0.41666667 0.76271186 0.83333333]\n",
            " [0.38888889 0.20833333 0.6779661  0.79166667]\n",
            " [0.41666667 0.33333333 0.69491525 0.95833333]\n",
            " [0.58333333 0.5        0.72881356 0.91666667]\n",
            " [0.61111111 0.41666667 0.76271186 0.70833333]\n",
            " [0.94444444 0.75       0.96610169 0.875     ]\n",
            " [0.94444444 0.25       1.         0.91666667]\n",
            " [0.47222222 0.08333333 0.6779661  0.58333333]\n",
            " [0.72222222 0.5        0.79661017 0.91666667]\n",
            " [0.36111111 0.33333333 0.66101695 0.79166667]\n",
            " [0.94444444 0.33333333 0.96610169 0.79166667]\n",
            " [0.55555556 0.29166667 0.66101695 0.70833333]\n",
            " [0.66666667 0.54166667 0.79661017 0.83333333]\n",
            " [0.80555556 0.5        0.84745763 0.70833333]\n",
            " [0.52777778 0.33333333 0.6440678  0.70833333]\n",
            " [0.5        0.41666667 0.66101695 0.70833333]\n",
            " [0.58333333 0.33333333 0.77966102 0.83333333]\n",
            " [0.80555556 0.41666667 0.81355932 0.625     ]\n",
            " [0.86111111 0.33333333 0.86440678 0.75      ]\n",
            " [1.         0.75       0.91525424 0.79166667]\n",
            " [0.58333333 0.33333333 0.77966102 0.875     ]\n",
            " [0.55555556 0.33333333 0.69491525 0.58333333]\n",
            " [0.5        0.25       0.77966102 0.54166667]\n",
            " [0.94444444 0.41666667 0.86440678 0.91666667]\n",
            " [0.55555556 0.58333333 0.77966102 0.95833333]\n",
            " [0.58333333 0.45833333 0.76271186 0.70833333]\n",
            " [0.47222222 0.41666667 0.6440678  0.70833333]\n",
            " [0.72222222 0.45833333 0.74576271 0.83333333]\n",
            " [0.66666667 0.45833333 0.77966102 0.95833333]\n",
            " [0.72222222 0.45833333 0.69491525 0.91666667]\n",
            " [0.41666667 0.29166667 0.69491525 0.75      ]\n",
            " [0.69444444 0.5        0.83050847 0.91666667]\n",
            " [0.66666667 0.54166667 0.79661017 1.        ]\n",
            " [0.66666667 0.41666667 0.71186441 0.91666667]\n",
            " [0.55555556 0.20833333 0.6779661  0.75      ]\n",
            " [0.61111111 0.41666667 0.71186441 0.79166667]\n",
            " [0.52777778 0.58333333 0.74576271 0.91666667]\n",
            " [0.44444444 0.41666667 0.69491525 0.70833333]]\n"
          ]
        }
      ]
    },
    {
      "cell_type": "markdown",
      "id": "3fb3c98b",
      "metadata": {
        "papermill": {
          "duration": 0.007451,
          "end_time": "2023-11-01T11:38:51.708793",
          "exception": false,
          "start_time": "2023-11-01T11:38:51.701342",
          "status": "completed"
        },
        "tags": [],
        "id": "3fb3c98b"
      },
      "source": [
        "### Преобразование Y с помощью LabelEncoder (текст переводятся в метки (числа))"
      ]
    },
    {
      "cell_type": "code",
      "execution_count": 20,
      "id": "ca365035",
      "metadata": {
        "execution": {
          "iopub.execute_input": "2023-11-01T11:38:51.725915Z",
          "iopub.status.busy": "2023-11-01T11:38:51.725534Z",
          "iopub.status.idle": "2023-11-01T11:38:51.730653Z",
          "shell.execute_reply": "2023-11-01T11:38:51.729556Z"
        },
        "papermill": {
          "duration": 0.016336,
          "end_time": "2023-11-01T11:38:51.732871",
          "exception": false,
          "start_time": "2023-11-01T11:38:51.716535",
          "status": "completed"
        },
        "tags": [],
        "id": "ca365035"
      },
      "outputs": [],
      "source": [
        "encoder = LabelEncoder()\n",
        "y_encoded = encoder.fit_transform(y)"
      ]
    },
    {
      "cell_type": "code",
      "source": [
        "print(\"Новые метки\")\n",
        "print(y_encoded)"
      ],
      "metadata": {
        "colab": {
          "base_uri": "https://localhost:8080/"
        },
        "id": "F1YfSSmMgJUc",
        "outputId": "1ba3b7d8-c6b9-43ac-f55a-90453f554650"
      },
      "id": "F1YfSSmMgJUc",
      "execution_count": null,
      "outputs": [
        {
          "output_type": "stream",
          "name": "stdout",
          "text": [
            "[0 0 0 0 0 0 0 0 0 0 0 0 0 0 0 0 0 0 0 0 0 0 0 0 0 0 0 0 0 0 0 0 0 0 0 0 0\n",
            " 0 0 0 0 0 0 0 0 0 0 0 0 0 1 1 1 1 1 1 1 1 1 1 1 1 1 1 1 1 1 1 1 1 1 1 1 1\n",
            " 1 1 1 1 1 1 1 1 1 1 1 1 1 1 1 1 1 1 1 1 1 1 1 1 1 1 2 2 2 2 2 2 2 2 2 2 2\n",
            " 2 2 2 2 2 2 2 2 2 2 2 2 2 2 2 2 2 2 2 2 2 2 2 2 2 2 2 2 2 2 2 2 2 2 2 2 2\n",
            " 2 2]\n"
          ]
        }
      ]
    },
    {
      "cell_type": "markdown",
      "id": "dbadc47f",
      "metadata": {
        "papermill": {
          "duration": 0.007488,
          "end_time": "2023-11-01T11:38:51.748347",
          "exception": false,
          "start_time": "2023-11-01T11:38:51.740859",
          "status": "completed"
        },
        "tags": [],
        "id": "dbadc47f"
      },
      "source": [
        "### Категоривание меток(количество категорий = количеству меток полученных ранее - 0,1,2)"
      ]
    },
    {
      "cell_type": "code",
      "execution_count": 21,
      "id": "a31a6224",
      "metadata": {
        "execution": {
          "iopub.execute_input": "2023-11-01T11:38:51.823137Z",
          "iopub.status.busy": "2023-11-01T11:38:51.822335Z",
          "iopub.status.idle": "2023-11-01T11:38:51.826811Z",
          "shell.execute_reply": "2023-11-01T11:38:51.825983Z"
        },
        "papermill": {
          "duration": 0.015534,
          "end_time": "2023-11-01T11:38:51.828759",
          "exception": false,
          "start_time": "2023-11-01T11:38:51.813225",
          "status": "completed"
        },
        "tags": [],
        "id": "a31a6224"
      },
      "outputs": [],
      "source": [
        "num_categories = 3\n",
        "y_onehot = keras.utils.to_categorical(y_encoded, num_categories)"
      ]
    },
    {
      "cell_type": "code",
      "source": [
        "print(\"Новое представление Y\")\n",
        "print(y_onehot)"
      ],
      "metadata": {
        "colab": {
          "base_uri": "https://localhost:8080/"
        },
        "id": "dRuIrs1ni8fC",
        "outputId": "6b958e71-9fbb-4bbb-cbab-0d5edd7f4069"
      },
      "id": "dRuIrs1ni8fC",
      "execution_count": 22,
      "outputs": [
        {
          "output_type": "stream",
          "name": "stdout",
          "text": [
            "Новое представление Y\n",
            "[[1. 0. 0.]\n",
            " [1. 0. 0.]\n",
            " [1. 0. 0.]\n",
            " [1. 0. 0.]\n",
            " [1. 0. 0.]\n",
            " [1. 0. 0.]\n",
            " [1. 0. 0.]\n",
            " [1. 0. 0.]\n",
            " [1. 0. 0.]\n",
            " [1. 0. 0.]\n",
            " [1. 0. 0.]\n",
            " [1. 0. 0.]\n",
            " [1. 0. 0.]\n",
            " [1. 0. 0.]\n",
            " [1. 0. 0.]\n",
            " [1. 0. 0.]\n",
            " [1. 0. 0.]\n",
            " [1. 0. 0.]\n",
            " [1. 0. 0.]\n",
            " [1. 0. 0.]\n",
            " [1. 0. 0.]\n",
            " [1. 0. 0.]\n",
            " [1. 0. 0.]\n",
            " [1. 0. 0.]\n",
            " [1. 0. 0.]\n",
            " [1. 0. 0.]\n",
            " [1. 0. 0.]\n",
            " [1. 0. 0.]\n",
            " [1. 0. 0.]\n",
            " [1. 0. 0.]\n",
            " [1. 0. 0.]\n",
            " [1. 0. 0.]\n",
            " [1. 0. 0.]\n",
            " [1. 0. 0.]\n",
            " [1. 0. 0.]\n",
            " [1. 0. 0.]\n",
            " [1. 0. 0.]\n",
            " [1. 0. 0.]\n",
            " [1. 0. 0.]\n",
            " [1. 0. 0.]\n",
            " [1. 0. 0.]\n",
            " [1. 0. 0.]\n",
            " [1. 0. 0.]\n",
            " [1. 0. 0.]\n",
            " [1. 0. 0.]\n",
            " [1. 0. 0.]\n",
            " [1. 0. 0.]\n",
            " [1. 0. 0.]\n",
            " [1. 0. 0.]\n",
            " [1. 0. 0.]\n",
            " [0. 1. 0.]\n",
            " [0. 1. 0.]\n",
            " [0. 1. 0.]\n",
            " [0. 1. 0.]\n",
            " [0. 1. 0.]\n",
            " [0. 1. 0.]\n",
            " [0. 1. 0.]\n",
            " [0. 1. 0.]\n",
            " [0. 1. 0.]\n",
            " [0. 1. 0.]\n",
            " [0. 1. 0.]\n",
            " [0. 1. 0.]\n",
            " [0. 1. 0.]\n",
            " [0. 1. 0.]\n",
            " [0. 1. 0.]\n",
            " [0. 1. 0.]\n",
            " [0. 1. 0.]\n",
            " [0. 1. 0.]\n",
            " [0. 1. 0.]\n",
            " [0. 1. 0.]\n",
            " [0. 1. 0.]\n",
            " [0. 1. 0.]\n",
            " [0. 1. 0.]\n",
            " [0. 1. 0.]\n",
            " [0. 1. 0.]\n",
            " [0. 1. 0.]\n",
            " [0. 1. 0.]\n",
            " [0. 1. 0.]\n",
            " [0. 1. 0.]\n",
            " [0. 1. 0.]\n",
            " [0. 1. 0.]\n",
            " [0. 1. 0.]\n",
            " [0. 1. 0.]\n",
            " [0. 1. 0.]\n",
            " [0. 1. 0.]\n",
            " [0. 1. 0.]\n",
            " [0. 1. 0.]\n",
            " [0. 1. 0.]\n",
            " [0. 1. 0.]\n",
            " [0. 1. 0.]\n",
            " [0. 1. 0.]\n",
            " [0. 1. 0.]\n",
            " [0. 1. 0.]\n",
            " [0. 1. 0.]\n",
            " [0. 1. 0.]\n",
            " [0. 1. 0.]\n",
            " [0. 1. 0.]\n",
            " [0. 1. 0.]\n",
            " [0. 1. 0.]\n",
            " [0. 1. 0.]\n",
            " [0. 0. 1.]\n",
            " [0. 0. 1.]\n",
            " [0. 0. 1.]\n",
            " [0. 0. 1.]\n",
            " [0. 0. 1.]\n",
            " [0. 0. 1.]\n",
            " [0. 0. 1.]\n",
            " [0. 0. 1.]\n",
            " [0. 0. 1.]\n",
            " [0. 0. 1.]\n",
            " [0. 0. 1.]\n",
            " [0. 0. 1.]\n",
            " [0. 0. 1.]\n",
            " [0. 0. 1.]\n",
            " [0. 0. 1.]\n",
            " [0. 0. 1.]\n",
            " [0. 0. 1.]\n",
            " [0. 0. 1.]\n",
            " [0. 0. 1.]\n",
            " [0. 0. 1.]\n",
            " [0. 0. 1.]\n",
            " [0. 0. 1.]\n",
            " [0. 0. 1.]\n",
            " [0. 0. 1.]\n",
            " [0. 0. 1.]\n",
            " [0. 0. 1.]\n",
            " [0. 0. 1.]\n",
            " [0. 0. 1.]\n",
            " [0. 0. 1.]\n",
            " [0. 0. 1.]\n",
            " [0. 0. 1.]\n",
            " [0. 0. 1.]\n",
            " [0. 0. 1.]\n",
            " [0. 0. 1.]\n",
            " [0. 0. 1.]\n",
            " [0. 0. 1.]\n",
            " [0. 0. 1.]\n",
            " [0. 0. 1.]\n",
            " [0. 0. 1.]\n",
            " [0. 0. 1.]\n",
            " [0. 0. 1.]\n",
            " [0. 0. 1.]\n",
            " [0. 0. 1.]\n",
            " [0. 0. 1.]\n",
            " [0. 0. 1.]\n",
            " [0. 0. 1.]\n",
            " [0. 0. 1.]\n",
            " [0. 0. 1.]\n",
            " [0. 0. 1.]\n",
            " [0. 0. 1.]]\n"
          ]
        }
      ]
    },
    {
      "cell_type": "markdown",
      "id": "2bfdee45",
      "metadata": {
        "papermill": {
          "duration": 0.00766,
          "end_time": "2023-11-01T11:38:51.844355",
          "exception": false,
          "start_time": "2023-11-01T11:38:51.836695",
          "status": "completed"
        },
        "tags": [],
        "id": "2bfdee45"
      },
      "source": [
        "### Преобразование X_scaled и y_onehot в train и valid данные."
      ]
    },
    {
      "cell_type": "code",
      "execution_count": 23,
      "id": "071c526e",
      "metadata": {
        "execution": {
          "iopub.execute_input": "2023-11-01T11:38:51.861645Z",
          "iopub.status.busy": "2023-11-01T11:38:51.861278Z",
          "iopub.status.idle": "2023-11-01T11:38:51.867286Z",
          "shell.execute_reply": "2023-11-01T11:38:51.866242Z"
        },
        "papermill": {
          "duration": 0.017247,
          "end_time": "2023-11-01T11:38:51.869517",
          "exception": false,
          "start_time": "2023-11-01T11:38:51.852270",
          "status": "completed"
        },
        "tags": [],
        "id": "071c526e"
      },
      "outputs": [],
      "source": [
        "X_train, X_valid, y_train, y_valid = train_test_split(X_scaled, y_onehot,\n",
        "                                                     test_size = 0.2,\n",
        "                                                     random_state = 42)"
      ]
    },
    {
      "cell_type": "code",
      "source": [
        "print(\"Тренировочные данные\")\n",
        "print(X_train)"
      ],
      "metadata": {
        "colab": {
          "base_uri": "https://localhost:8080/"
        },
        "id": "CiqJMIxugUzZ",
        "outputId": "2b9b1c73-7514-4f6d-fa49-f03a9d5f28f5"
      },
      "id": "CiqJMIxugUzZ",
      "execution_count": 24,
      "outputs": [
        {
          "output_type": "stream",
          "name": "stdout",
          "text": [
            "Тренировочные данные\n",
            "[[0.08333333 0.66666667 0.         0.04166667]\n",
            " [0.38888889 1.         0.08474576 0.125     ]\n",
            " [0.66666667 0.45833333 0.57627119 0.54166667]\n",
            " [0.13888889 0.58333333 0.10169492 0.04166667]\n",
            " [0.02777778 0.5        0.05084746 0.04166667]\n",
            " [0.55555556 0.20833333 0.6779661  0.75      ]\n",
            " [0.58333333 0.5        0.59322034 0.58333333]\n",
            " [0.25       0.625      0.08474576 0.04166667]\n",
            " [0.19444444 0.66666667 0.06779661 0.04166667]\n",
            " [0.25       0.875      0.08474576 0.        ]\n",
            " [0.41666667 0.29166667 0.69491525 0.75      ]\n",
            " [0.47222222 0.58333333 0.59322034 0.625     ]\n",
            " [0.66666667 0.45833333 0.62711864 0.58333333]\n",
            " [0.30555556 0.79166667 0.05084746 0.125     ]\n",
            " [0.30555556 0.70833333 0.08474576 0.04166667]\n",
            " [0.33333333 0.16666667 0.45762712 0.375     ]\n",
            " [0.55555556 0.33333333 0.69491525 0.58333333]\n",
            " [0.58333333 0.45833333 0.76271186 0.70833333]\n",
            " [0.63888889 0.41666667 0.57627119 0.54166667]\n",
            " [0.80555556 0.66666667 0.86440678 1.        ]\n",
            " [0.38888889 0.375      0.54237288 0.5       ]\n",
            " [0.91666667 0.41666667 0.94915254 0.83333333]\n",
            " [0.36111111 0.41666667 0.59322034 0.58333333]\n",
            " [0.22222222 0.625      0.06779661 0.04166667]\n",
            " [0.94444444 0.33333333 0.96610169 0.79166667]\n",
            " [0.41666667 0.29166667 0.52542373 0.375     ]\n",
            " [0.25       0.58333333 0.06779661 0.04166667]\n",
            " [0.19444444 0.625      0.05084746 0.08333333]\n",
            " [0.22222222 0.75       0.15254237 0.125     ]\n",
            " [0.19444444 0.         0.42372881 0.375     ]\n",
            " [0.55555556 0.29166667 0.66101695 0.70833333]\n",
            " [0.13888889 0.58333333 0.15254237 0.04166667]\n",
            " [0.19444444 0.41666667 0.10169492 0.04166667]\n",
            " [0.22222222 0.54166667 0.11864407 0.16666667]\n",
            " [0.36111111 0.29166667 0.54237288 0.5       ]\n",
            " [0.22222222 0.58333333 0.08474576 0.04166667]\n",
            " [0.38888889 0.41666667 0.54237288 0.45833333]\n",
            " [0.94444444 0.75       0.96610169 0.875     ]\n",
            " [0.08333333 0.5        0.06779661 0.04166667]\n",
            " [0.52777778 0.375      0.55932203 0.5       ]\n",
            " [0.38888889 0.20833333 0.6779661  0.79166667]\n",
            " [0.33333333 0.91666667 0.06779661 0.04166667]\n",
            " [0.47222222 0.41666667 0.6440678  0.70833333]\n",
            " [0.41666667 0.29166667 0.69491525 0.75      ]\n",
            " [0.47222222 0.08333333 0.50847458 0.375     ]\n",
            " [0.30555556 0.41666667 0.59322034 0.58333333]\n",
            " [0.52777778 0.58333333 0.74576271 0.91666667]\n",
            " [0.33333333 0.125      0.50847458 0.5       ]\n",
            " [0.30555556 0.79166667 0.11864407 0.125     ]\n",
            " [0.19444444 0.125      0.38983051 0.375     ]\n",
            " [0.58333333 0.29166667 0.72881356 0.75      ]\n",
            " [0.19444444 0.54166667 0.06779661 0.04166667]\n",
            " [0.19444444 0.5        0.03389831 0.04166667]\n",
            " [0.33333333 0.16666667 0.47457627 0.41666667]\n",
            " [0.66666667 0.41666667 0.6779661  0.66666667]\n",
            " [0.16666667 0.45833333 0.08474576 0.        ]\n",
            " [0.41666667 0.33333333 0.69491525 0.95833333]\n",
            " [0.19444444 0.58333333 0.08474576 0.04166667]\n",
            " [0.19444444 0.625      0.10169492 0.20833333]\n",
            " [0.44444444 0.5        0.6440678  0.70833333]\n",
            " [0.22222222 0.20833333 0.33898305 0.41666667]\n",
            " [0.72222222 0.5        0.79661017 0.91666667]\n",
            " [0.47222222 0.29166667 0.69491525 0.625     ]\n",
            " [0.5        0.25       0.77966102 0.54166667]\n",
            " [0.94444444 0.41666667 0.86440678 0.91666667]\n",
            " [0.33333333 0.20833333 0.50847458 0.5       ]\n",
            " [0.02777778 0.375      0.06779661 0.04166667]\n",
            " [0.         0.41666667 0.01694915 0.        ]\n",
            " [0.47222222 0.08333333 0.6779661  0.58333333]\n",
            " [0.80555556 0.5        0.84745763 0.70833333]\n",
            " [0.08333333 0.45833333 0.08474576 0.04166667]\n",
            " [0.22222222 0.625      0.06779661 0.08333333]\n",
            " [0.02777778 0.41666667 0.05084746 0.04166667]\n",
            " [0.55555556 0.20833333 0.66101695 0.58333333]\n",
            " [0.55555556 0.58333333 0.77966102 0.95833333]\n",
            " [0.08333333 0.58333333 0.06779661 0.08333333]\n",
            " [0.69444444 0.41666667 0.76271186 0.83333333]\n",
            " [0.55555556 0.54166667 0.84745763 1.        ]\n",
            " [0.11111111 0.5        0.05084746 0.04166667]\n",
            " [0.5        0.375      0.62711864 0.54166667]\n",
            " [0.61111111 0.33333333 0.61016949 0.58333333]\n",
            " [0.52777778 0.33333333 0.6440678  0.70833333]\n",
            " [0.75       0.5        0.62711864 0.54166667]\n",
            " [0.58333333 0.5        0.72881356 0.91666667]\n",
            " [0.22222222 0.75       0.10169492 0.04166667]\n",
            " [0.72222222 0.45833333 0.74576271 0.83333333]\n",
            " [0.44444444 0.41666667 0.54237288 0.58333333]\n",
            " [0.61111111 0.41666667 0.71186441 0.79166667]\n",
            " [0.38888889 0.25       0.42372881 0.375     ]\n",
            " [0.25       0.29166667 0.49152542 0.54166667]\n",
            " [0.5        0.41666667 0.61016949 0.54166667]\n",
            " [0.05555556 0.125      0.05084746 0.08333333]\n",
            " [0.63888889 0.375      0.61016949 0.5       ]\n",
            " [0.33333333 0.25       0.57627119 0.45833333]\n",
            " [0.27777778 0.70833333 0.08474576 0.04166667]\n",
            " [0.36111111 0.41666667 0.52542373 0.5       ]\n",
            " [0.83333333 0.375      0.89830508 0.70833333]\n",
            " [0.66666667 0.54166667 0.79661017 0.83333333]\n",
            " [0.22222222 0.70833333 0.08474576 0.125     ]\n",
            " [0.16666667 0.16666667 0.38983051 0.375     ]\n",
            " [0.66666667 0.54166667 0.79661017 1.        ]\n",
            " [0.80555556 0.41666667 0.81355932 0.625     ]\n",
            " [0.16666667 0.45833333 0.08474576 0.        ]\n",
            " [0.66666667 0.45833333 0.77966102 0.95833333]\n",
            " [0.16666667 0.41666667 0.06779661 0.04166667]\n",
            " [0.72222222 0.45833333 0.66101695 0.58333333]\n",
            " [0.86111111 0.33333333 0.86440678 0.75      ]\n",
            " [0.55555556 0.375      0.77966102 0.70833333]\n",
            " [0.38888889 0.33333333 0.52542373 0.5       ]\n",
            " [0.61111111 0.41666667 0.76271186 0.70833333]\n",
            " [0.55555556 0.125      0.57627119 0.5       ]\n",
            " [0.58333333 0.375      0.55932203 0.5       ]\n",
            " [0.36111111 0.33333333 0.66101695 0.79166667]\n",
            " [0.44444444 0.41666667 0.69491525 0.70833333]\n",
            " [0.30555556 0.58333333 0.11864407 0.04166667]\n",
            " [0.5        0.33333333 0.50847458 0.5       ]\n",
            " [0.16666667 0.20833333 0.59322034 0.66666667]\n",
            " [0.41666667 0.83333333 0.03389831 0.04166667]\n",
            " [0.41666667 0.25       0.50847458 0.45833333]\n",
            " [0.77777778 0.41666667 0.83050847 0.83333333]]\n"
          ]
        }
      ]
    },
    {
      "cell_type": "code",
      "source": [
        "print(\"Выходные данные для тренировочных\")\n",
        "print(y_train)"
      ],
      "metadata": {
        "colab": {
          "base_uri": "https://localhost:8080/"
        },
        "id": "_EBUs3P-gapJ",
        "outputId": "315f9332-47d1-44e8-c3c4-468d13a790cf"
      },
      "id": "_EBUs3P-gapJ",
      "execution_count": 25,
      "outputs": [
        {
          "output_type": "stream",
          "name": "stdout",
          "text": [
            "Выходные данные для тренировочных\n",
            "[[1. 0. 0.]\n",
            " [1. 0. 0.]\n",
            " [0. 1. 0.]\n",
            " [1. 0. 0.]\n",
            " [1. 0. 0.]\n",
            " [0. 0. 1.]\n",
            " [0. 1. 0.]\n",
            " [1. 0. 0.]\n",
            " [1. 0. 0.]\n",
            " [1. 0. 0.]\n",
            " [0. 0. 1.]\n",
            " [0. 1. 0.]\n",
            " [0. 1. 0.]\n",
            " [1. 0. 0.]\n",
            " [1. 0. 0.]\n",
            " [0. 1. 0.]\n",
            " [0. 0. 1.]\n",
            " [0. 0. 1.]\n",
            " [0. 1. 0.]\n",
            " [0. 0. 1.]\n",
            " [0. 1. 0.]\n",
            " [0. 0. 1.]\n",
            " [0. 1. 0.]\n",
            " [1. 0. 0.]\n",
            " [0. 0. 1.]\n",
            " [0. 1. 0.]\n",
            " [1. 0. 0.]\n",
            " [1. 0. 0.]\n",
            " [1. 0. 0.]\n",
            " [0. 1. 0.]\n",
            " [0. 0. 1.]\n",
            " [1. 0. 0.]\n",
            " [1. 0. 0.]\n",
            " [1. 0. 0.]\n",
            " [0. 1. 0.]\n",
            " [1. 0. 0.]\n",
            " [0. 1. 0.]\n",
            " [0. 0. 1.]\n",
            " [1. 0. 0.]\n",
            " [0. 1. 0.]\n",
            " [0. 0. 1.]\n",
            " [1. 0. 0.]\n",
            " [0. 0. 1.]\n",
            " [0. 0. 1.]\n",
            " [0. 1. 0.]\n",
            " [0. 1. 0.]\n",
            " [0. 0. 1.]\n",
            " [0. 1. 0.]\n",
            " [1. 0. 0.]\n",
            " [0. 1. 0.]\n",
            " [0. 0. 1.]\n",
            " [1. 0. 0.]\n",
            " [1. 0. 0.]\n",
            " [0. 1. 0.]\n",
            " [0. 1. 0.]\n",
            " [1. 0. 0.]\n",
            " [0. 0. 1.]\n",
            " [1. 0. 0.]\n",
            " [1. 0. 0.]\n",
            " [0. 1. 0.]\n",
            " [0. 1. 0.]\n",
            " [0. 0. 1.]\n",
            " [0. 1. 0.]\n",
            " [0. 0. 1.]\n",
            " [0. 0. 1.]\n",
            " [0. 1. 0.]\n",
            " [1. 0. 0.]\n",
            " [1. 0. 0.]\n",
            " [0. 0. 1.]\n",
            " [0. 0. 1.]\n",
            " [1. 0. 0.]\n",
            " [1. 0. 0.]\n",
            " [1. 0. 0.]\n",
            " [0. 1. 0.]\n",
            " [0. 0. 1.]\n",
            " [1. 0. 0.]\n",
            " [0. 0. 1.]\n",
            " [0. 0. 1.]\n",
            " [1. 0. 0.]\n",
            " [0. 1. 0.]\n",
            " [0. 1. 0.]\n",
            " [0. 0. 1.]\n",
            " [0. 1. 0.]\n",
            " [0. 0. 1.]\n",
            " [1. 0. 0.]\n",
            " [0. 0. 1.]\n",
            " [0. 1. 0.]\n",
            " [0. 0. 1.]\n",
            " [0. 1. 0.]\n",
            " [0. 1. 0.]\n",
            " [0. 1. 0.]\n",
            " [1. 0. 0.]\n",
            " [0. 1. 0.]\n",
            " [0. 1. 0.]\n",
            " [1. 0. 0.]\n",
            " [0. 1. 0.]\n",
            " [0. 0. 1.]\n",
            " [0. 0. 1.]\n",
            " [1. 0. 0.]\n",
            " [0. 1. 0.]\n",
            " [0. 0. 1.]\n",
            " [0. 0. 1.]\n",
            " [1. 0. 0.]\n",
            " [0. 0. 1.]\n",
            " [1. 0. 0.]\n",
            " [0. 1. 0.]\n",
            " [0. 0. 1.]\n",
            " [0. 0. 1.]\n",
            " [0. 1. 0.]\n",
            " [0. 0. 1.]\n",
            " [0. 1. 0.]\n",
            " [0. 1. 0.]\n",
            " [0. 0. 1.]\n",
            " [0. 0. 1.]\n",
            " [1. 0. 0.]\n",
            " [0. 1. 0.]\n",
            " [0. 0. 1.]\n",
            " [1. 0. 0.]\n",
            " [0. 1. 0.]\n",
            " [0. 0. 1.]]\n"
          ]
        }
      ]
    },
    {
      "cell_type": "code",
      "source": [
        "print(\"Данные для валидации (проверки)\")\n",
        "print(X_valid)"
      ],
      "metadata": {
        "colab": {
          "base_uri": "https://localhost:8080/"
        },
        "id": "6grA_YWVkP5a",
        "outputId": "04316830-2bf4-4231-90be-b7612e383c0f"
      },
      "id": "6grA_YWVkP5a",
      "execution_count": 26,
      "outputs": [
        {
          "output_type": "stream",
          "name": "stdout",
          "text": [
            "Данные для валидации (проверки)\n",
            "[[0.5        0.33333333 0.62711864 0.45833333]\n",
            " [0.38888889 0.75       0.11864407 0.08333333]\n",
            " [0.94444444 0.25       1.         0.91666667]\n",
            " [0.47222222 0.375      0.59322034 0.58333333]\n",
            " [0.69444444 0.33333333 0.6440678  0.54166667]\n",
            " [0.30555556 0.58333333 0.08474576 0.125     ]\n",
            " [0.36111111 0.375      0.44067797 0.5       ]\n",
            " [0.72222222 0.45833333 0.69491525 0.91666667]\n",
            " [0.52777778 0.08333333 0.59322034 0.58333333]\n",
            " [0.41666667 0.29166667 0.49152542 0.45833333]\n",
            " [0.61111111 0.5        0.69491525 0.79166667]\n",
            " [0.13888889 0.41666667 0.06779661 0.        ]\n",
            " [0.33333333 0.625      0.05084746 0.04166667]\n",
            " [0.16666667 0.45833333 0.08474576 0.        ]\n",
            " [0.22222222 0.75       0.08474576 0.08333333]\n",
            " [0.55555556 0.54166667 0.62711864 0.625     ]\n",
            " [0.61111111 0.41666667 0.81355932 0.875     ]\n",
            " [0.36111111 0.20833333 0.49152542 0.41666667]\n",
            " [0.38888889 0.33333333 0.59322034 0.5       ]\n",
            " [0.58333333 0.33333333 0.77966102 0.875     ]\n",
            " [0.11111111 0.5        0.10169492 0.04166667]\n",
            " [0.5        0.41666667 0.66101695 0.70833333]\n",
            " [0.19444444 0.58333333 0.10169492 0.125     ]\n",
            " [0.58333333 0.33333333 0.77966102 0.83333333]\n",
            " [1.         0.75       0.91525424 0.79166667]\n",
            " [0.66666667 0.41666667 0.71186441 0.91666667]\n",
            " [0.66666667 0.20833333 0.81355932 0.70833333]\n",
            " [0.69444444 0.5        0.83050847 0.91666667]\n",
            " [0.13888889 0.41666667 0.06779661 0.08333333]\n",
            " [0.13888889 0.45833333 0.10169492 0.04166667]]\n"
          ]
        }
      ]
    },
    {
      "cell_type": "code",
      "source": [
        "print(\"Выходные данные для валидации (проверки)\")\n",
        "print(y_valid)"
      ],
      "metadata": {
        "colab": {
          "base_uri": "https://localhost:8080/"
        },
        "id": "RctN726OkQVS",
        "outputId": "766d8440-3d2d-40b8-da82-e9dac2b59ea6"
      },
      "id": "RctN726OkQVS",
      "execution_count": 27,
      "outputs": [
        {
          "output_type": "stream",
          "name": "stdout",
          "text": [
            "Выходные данные для валидации (проверки)\n",
            "[[0. 1. 0.]\n",
            " [1. 0. 0.]\n",
            " [0. 0. 1.]\n",
            " [0. 1. 0.]\n",
            " [0. 1. 0.]\n",
            " [1. 0. 0.]\n",
            " [0. 1. 0.]\n",
            " [0. 0. 1.]\n",
            " [0. 1. 0.]\n",
            " [0. 1. 0.]\n",
            " [0. 0. 1.]\n",
            " [1. 0. 0.]\n",
            " [1. 0. 0.]\n",
            " [1. 0. 0.]\n",
            " [1. 0. 0.]\n",
            " [0. 1. 0.]\n",
            " [0. 0. 1.]\n",
            " [0. 1. 0.]\n",
            " [0. 1. 0.]\n",
            " [0. 0. 1.]\n",
            " [1. 0. 0.]\n",
            " [0. 0. 1.]\n",
            " [1. 0. 0.]\n",
            " [0. 0. 1.]\n",
            " [0. 0. 1.]\n",
            " [0. 0. 1.]\n",
            " [0. 0. 1.]\n",
            " [0. 0. 1.]\n",
            " [1. 0. 0.]\n",
            " [1. 0. 0.]]\n"
          ]
        }
      ]
    },
    {
      "cell_type": "markdown",
      "source": [
        "# Работа с нейросетью"
      ],
      "metadata": {
        "id": "FKIDtSKjAcNu"
      },
      "id": "FKIDtSKjAcNu"
    },
    {
      "cell_type": "markdown",
      "id": "b309772d",
      "metadata": {
        "papermill": {
          "duration": 0.007648,
          "end_time": "2023-11-01T11:38:51.885312",
          "exception": false,
          "start_time": "2023-11-01T11:38:51.877664",
          "status": "completed"
        },
        "tags": [],
        "id": "b309772d"
      },
      "source": [
        "### Определение модели нейронной сети"
      ]
    },
    {
      "cell_type": "code",
      "execution_count": 28,
      "id": "0dec1de6",
      "metadata": {
        "execution": {
          "iopub.execute_input": "2023-11-01T11:38:51.902791Z",
          "iopub.status.busy": "2023-11-01T11:38:51.902402Z",
          "iopub.status.idle": "2023-11-01T11:38:52.103023Z",
          "shell.execute_reply": "2023-11-01T11:38:52.101923Z"
        },
        "papermill": {
          "duration": 0.212503,
          "end_time": "2023-11-01T11:38:52.105675",
          "exception": false,
          "start_time": "2023-11-01T11:38:51.893172",
          "status": "completed"
        },
        "tags": [],
        "id": "0dec1de6"
      },
      "outputs": [],
      "source": [
        "model = Sequential()\n",
        "model.add(Dense(units = 512, activation = 'relu', input_shape = (4,)))\n",
        "model.add(Dense(units = 512, activation = 'relu'))\n",
        "model.add(Dense(units = 512, activation = 'relu'))\n",
        "model.add(Dropout(0.2))\n",
        "model.add(Dense(units = num_categories, activation = 'softmax'))"
      ]
    },
    {
      "cell_type": "markdown",
      "id": "b6d8eaad",
      "metadata": {
        "papermill": {
          "duration": 0.00774,
          "end_time": "2023-11-01T11:38:52.121697",
          "exception": false,
          "start_time": "2023-11-01T11:38:52.113957",
          "status": "completed"
        },
        "tags": [],
        "id": "b6d8eaad"
      },
      "source": [
        "### Резюме"
      ]
    },
    {
      "cell_type": "code",
      "execution_count": 29,
      "id": "bda37d2a",
      "metadata": {
        "execution": {
          "iopub.execute_input": "2023-11-01T11:38:52.139860Z",
          "iopub.status.busy": "2023-11-01T11:38:52.138718Z",
          "iopub.status.idle": "2023-11-01T11:38:52.160603Z",
          "shell.execute_reply": "2023-11-01T11:38:52.159537Z"
        },
        "papermill": {
          "duration": 0.03489,
          "end_time": "2023-11-01T11:38:52.164605",
          "exception": false,
          "start_time": "2023-11-01T11:38:52.129715",
          "status": "completed"
        },
        "tags": [],
        "colab": {
          "base_uri": "https://localhost:8080/"
        },
        "id": "bda37d2a",
        "outputId": "2d8e3c4c-7211-4839-906e-ab6ea7f19621"
      },
      "outputs": [
        {
          "output_type": "stream",
          "name": "stdout",
          "text": [
            "Model: \"sequential\"\n",
            "_________________________________________________________________\n",
            " Layer (type)                Output Shape              Param #   \n",
            "=================================================================\n",
            " dense (Dense)               (None, 512)               2560      \n",
            "                                                                 \n",
            " dense_1 (Dense)             (None, 512)               262656    \n",
            "                                                                 \n",
            " dense_2 (Dense)             (None, 512)               262656    \n",
            "                                                                 \n",
            " dropout (Dropout)           (None, 512)               0         \n",
            "                                                                 \n",
            " dense_3 (Dense)             (None, 3)                 1539      \n",
            "                                                                 \n",
            "=================================================================\n",
            "Total params: 529411 (2.02 MB)\n",
            "Trainable params: 529411 (2.02 MB)\n",
            "Non-trainable params: 0 (0.00 Byte)\n",
            "_________________________________________________________________\n"
          ]
        }
      ],
      "source": [
        "model.summary()"
      ]
    },
    {
      "cell_type": "markdown",
      "id": "ad000730",
      "metadata": {
        "papermill": {
          "duration": 0.008829,
          "end_time": "2023-11-01T11:38:52.182650",
          "exception": false,
          "start_time": "2023-11-01T11:38:52.173821",
          "status": "completed"
        },
        "tags": [],
        "id": "ad000730"
      },
      "source": [
        "### Компиляция модели"
      ]
    },
    {
      "cell_type": "code",
      "execution_count": 30,
      "id": "7cbf2f3a",
      "metadata": {
        "execution": {
          "iopub.execute_input": "2023-11-01T11:38:52.203954Z",
          "iopub.status.busy": "2023-11-01T11:38:52.203507Z",
          "iopub.status.idle": "2023-11-01T11:38:52.221256Z",
          "shell.execute_reply": "2023-11-01T11:38:52.220146Z"
        },
        "papermill": {
          "duration": 0.031741,
          "end_time": "2023-11-01T11:38:52.223769",
          "exception": false,
          "start_time": "2023-11-01T11:38:52.192028",
          "status": "completed"
        },
        "tags": [],
        "id": "7cbf2f3a"
      },
      "outputs": [],
      "source": [
        "model.compile(loss = 'categorical_crossentropy', metrics = ['accuracy'])"
      ]
    },
    {
      "cell_type": "markdown",
      "id": "2f3a3a8d",
      "metadata": {
        "papermill": {
          "duration": 0.008791,
          "end_time": "2023-11-01T11:38:52.242019",
          "exception": false,
          "start_time": "2023-11-01T11:38:52.233228",
          "status": "completed"
        },
        "tags": [],
        "id": "2f3a3a8d"
      },
      "source": [
        "### Обучение модели"
      ]
    },
    {
      "cell_type": "code",
      "execution_count": 31,
      "id": "f30c0374",
      "metadata": {
        "execution": {
          "iopub.execute_input": "2023-11-01T11:38:52.261767Z",
          "iopub.status.busy": "2023-11-01T11:38:52.261344Z",
          "iopub.status.idle": "2023-11-01T11:38:54.873439Z",
          "shell.execute_reply": "2023-11-01T11:38:54.872352Z"
        },
        "papermill": {
          "duration": 2.624712,
          "end_time": "2023-11-01T11:38:54.875889",
          "exception": false,
          "start_time": "2023-11-01T11:38:52.251177",
          "status": "completed"
        },
        "tags": [],
        "colab": {
          "base_uri": "https://localhost:8080/"
        },
        "id": "f30c0374",
        "outputId": "e30d86ae-7d68-4ef8-bdae-440adb6c86b4"
      },
      "outputs": [
        {
          "output_type": "stream",
          "name": "stdout",
          "text": [
            "Epoch 1/20\n",
            "4/4 [==============================] - 1s 85ms/step - loss: 0.9876 - accuracy: 0.5833 - val_loss: 0.7622 - val_accuracy: 0.8667\n",
            "Epoch 2/20\n",
            "4/4 [==============================] - 0s 18ms/step - loss: 0.6777 - accuracy: 0.6333 - val_loss: 0.6742 - val_accuracy: 0.6333\n",
            "Epoch 3/20\n",
            "4/4 [==============================] - 0s 18ms/step - loss: 0.5435 - accuracy: 0.6750 - val_loss: 0.5241 - val_accuracy: 0.6333\n",
            "Epoch 4/20\n",
            "4/4 [==============================] - 0s 18ms/step - loss: 0.5054 - accuracy: 0.7500 - val_loss: 0.4209 - val_accuracy: 0.9000\n",
            "Epoch 5/20\n",
            "4/4 [==============================] - 0s 20ms/step - loss: 0.4227 - accuracy: 0.8333 - val_loss: 0.5350 - val_accuracy: 0.6667\n",
            "Epoch 6/20\n",
            "4/4 [==============================] - 0s 22ms/step - loss: 0.4552 - accuracy: 0.7667 - val_loss: 0.3487 - val_accuracy: 0.9000\n",
            "Epoch 7/20\n",
            "4/4 [==============================] - 0s 18ms/step - loss: 0.3476 - accuracy: 0.8750 - val_loss: 0.3512 - val_accuracy: 0.8667\n",
            "Epoch 8/20\n",
            "4/4 [==============================] - 0s 20ms/step - loss: 0.4257 - accuracy: 0.7917 - val_loss: 0.3877 - val_accuracy: 0.7333\n",
            "Epoch 9/20\n",
            "4/4 [==============================] - 0s 18ms/step - loss: 0.3143 - accuracy: 0.8500 - val_loss: 0.3084 - val_accuracy: 0.8667\n",
            "Epoch 10/20\n",
            "4/4 [==============================] - 0s 20ms/step - loss: 0.3085 - accuracy: 0.8667 - val_loss: 0.5670 - val_accuracy: 0.7000\n",
            "Epoch 11/20\n",
            "4/4 [==============================] - 0s 19ms/step - loss: 0.3473 - accuracy: 0.8500 - val_loss: 0.2689 - val_accuracy: 0.8667\n",
            "Epoch 12/20\n",
            "4/4 [==============================] - 0s 18ms/step - loss: 0.3899 - accuracy: 0.7917 - val_loss: 0.2592 - val_accuracy: 0.8667\n",
            "Epoch 13/20\n",
            "4/4 [==============================] - 0s 23ms/step - loss: 0.2545 - accuracy: 0.9083 - val_loss: 0.2558 - val_accuracy: 0.8667\n",
            "Epoch 14/20\n",
            "4/4 [==============================] - 0s 18ms/step - loss: 0.2247 - accuracy: 0.9167 - val_loss: 0.2847 - val_accuracy: 0.8667\n",
            "Epoch 15/20\n",
            "4/4 [==============================] - 0s 17ms/step - loss: 0.4170 - accuracy: 0.7583 - val_loss: 0.2224 - val_accuracy: 0.9333\n",
            "Epoch 16/20\n",
            "4/4 [==============================] - 0s 18ms/step - loss: 0.2252 - accuracy: 0.9250 - val_loss: 0.2644 - val_accuracy: 0.8667\n",
            "Epoch 17/20\n",
            "4/4 [==============================] - 0s 20ms/step - loss: 0.2319 - accuracy: 0.9083 - val_loss: 0.2947 - val_accuracy: 0.8667\n",
            "Epoch 18/20\n",
            "4/4 [==============================] - 0s 19ms/step - loss: 0.2130 - accuracy: 0.9083 - val_loss: 0.2038 - val_accuracy: 0.9333\n",
            "Epoch 19/20\n",
            "4/4 [==============================] - 0s 21ms/step - loss: 0.2501 - accuracy: 0.8833 - val_loss: 0.1792 - val_accuracy: 0.9333\n",
            "Epoch 20/20\n",
            "4/4 [==============================] - 0s 19ms/step - loss: 0.1447 - accuracy: 0.9583 - val_loss: 0.3150 - val_accuracy: 0.8667\n"
          ]
        }
      ],
      "source": [
        "history = model.fit(X_train, y_train,\n",
        "          epochs = 20,\n",
        "          verbose = 1,\n",
        "          validation_data = (X_valid, y_valid))"
      ]
    },
    {
      "cell_type": "markdown",
      "source": [
        "### Графики процесса обучения"
      ],
      "metadata": {
        "id": "ly5ksuoYAlFs"
      },
      "id": "ly5ksuoYAlFs"
    },
    {
      "cell_type": "code",
      "source": [
        "plt.figure()\n",
        "\n",
        "# обобщение истории для точности\n",
        "plt.subplot(211)\n",
        "plt.plot(history.history['accuracy'])\n",
        "plt.plot(history.history['val_accuracy'])\n",
        "plt.title('model accuracy')\n",
        "plt.ylabel('accuracy')\n",
        "plt.xlabel('epoch')\n",
        "plt.legend(['train', 'test'], loc='upper left')\n",
        "\n",
        " # обобщение истории для потерь\n",
        "plt.subplot(212)\n",
        "plt.plot(history.history['loss'])\n",
        "plt.plot(history.history['val_loss'])\n",
        "plt.title('model loss')\n",
        "plt.ylabel('loss')\n",
        "plt.xlabel('epoch')\n",
        "plt.legend(['train', 'test'], loc='upper left')\n",
        "plt.show()"
      ],
      "metadata": {
        "colab": {
          "base_uri": "https://localhost:8080/",
          "height": 472
        },
        "id": "CE26g4DQgsY6",
        "outputId": "81bd1826-df16-4625-de90-4f1ae50b4483"
      },
      "id": "CE26g4DQgsY6",
      "execution_count": 33,
      "outputs": [
        {
          "output_type": "display_data",
          "data": {
            "text/plain": [
              "<Figure size 640x480 with 2 Axes>"
            ],
            "image/png": "[encoded data removed]"
          },
          "metadata": {}
        }
      ]
    },
    {
      "cell_type": "markdown",
      "id": "6131e87f",
      "metadata": {
        "papermill": {
          "duration": 0.012677,
          "end_time": "2023-11-01T11:38:54.902261",
          "exception": false,
          "start_time": "2023-11-01T11:38:54.889584",
          "status": "completed"
        },
        "tags": [],
        "id": "6131e87f"
      },
      "source": [
        "### Выведем фактическое и прогнозируемое значение"
      ]
    },
    {
      "cell_type": "code",
      "execution_count": 35,
      "id": "551c1da0",
      "metadata": {
        "execution": {
          "iopub.execute_input": "2023-11-01T11:38:54.930417Z",
          "iopub.status.busy": "2023-11-01T11:38:54.930030Z",
          "iopub.status.idle": "2023-11-01T11:38:55.084236Z",
          "shell.execute_reply": "2023-11-01T11:38:55.083084Z"
        },
        "papermill": {
          "duration": 0.170546,
          "end_time": "2023-11-01T11:38:55.086298",
          "exception": false,
          "start_time": "2023-11-01T11:38:54.915752",
          "status": "completed"
        },
        "tags": [],
        "colab": {
          "base_uri": "https://localhost:8080/"
        },
        "id": "551c1da0",
        "outputId": "787b8b61-c8af-4125-e255-ba6e264106e7"
      },
      "outputs": [
        {
          "output_type": "stream",
          "name": "stdout",
          "text": [
            "1/1 [==============================] - 0s 22ms/step\n",
            "Фактическое:    [1 0 2 1 1 0 1 2 1 1 2 0 0 0 0 1 2 1 1 2 0 2 0 2 2 2 2 2 0 0]\n",
            "Предсказанное: [1 0 2 1 1 0 1 2 2 1 1 0 0 0 0 1 2 1 1 2 0 1 0 2 1 2 2 2 0 0]\n"
          ]
        }
      ],
      "source": [
        "y_pred = model.predict(X_valid)\n",
        "\n",
        "actual = np.argmax(y_valid, axis = 1)\n",
        "predicted = np.argmax(y_pred, axis = 1)\n",
        "\n",
        "print(f\"Фактическое:    {actual}\")\n",
        "print(f\"Предсказанное: {predicted}\")"
      ]
    }
  ],
  "metadata": {
    "kernelspec": {
      "display_name": "Python 3",
      "language": "python",
      "name": "python3"
    },
    "language_info": {
      "codemirror_mode": {
        "name": "ipython",
        "version": 3
      },
      "file_extension": ".py",
      "mimetype": "text/x-python",
      "name": "python",
      "nbconvert_exporter": "python",
      "pygments_lexer": "ipython3",
      "version": "3.10.12"
    },
    "papermill": {
      "default_parameters": {},
      "duration": 19.283487,
      "end_time": "2023-11-01T11:38:57.581498",
      "environment_variables": {},
      "exception": null,
      "input_path": "__notebook__.ipynb",
      "output_path": "__notebook__.ipynb",
      "parameters": {},
      "start_time": "2023-11-01T11:38:38.298011",
      "version": "2.4.0"
    },
    "colab": {
      "provenance": [],
      "toc_visible": true
    }
  },
  "nbformat": 4,
  "nbformat_minor": 5
}