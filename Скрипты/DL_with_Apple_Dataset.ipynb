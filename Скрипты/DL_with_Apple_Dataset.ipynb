{
  "cells": [
    {
      "cell_type": "markdown",
      "id": "f61fc24a",
      "metadata": {
        "papermill": {
          "duration": 0.00774,
          "end_time": "2023-11-01T11:38:41.431045",
          "exception": false,
          "start_time": "2023-11-01T11:38:41.423305",
          "status": "completed"
        },
        "tags": [],
        "id": "f61fc24a"
      },
      "source": [
        "# Библиотеки"
      ]
    },
    {
      "cell_type": "code",
      "execution_count": 65,
      "id": "a4285c70",
      "metadata": {
        "execution": {
          "iopub.execute_input": "2023-11-01T11:38:41.447709Z",
          "iopub.status.busy": "2023-11-01T11:38:41.447061Z",
          "iopub.status.idle": "2023-11-01T11:38:51.189931Z",
          "shell.execute_reply": "2023-11-01T11:38:51.189102Z"
        },
        "papermill": {
          "duration": 9.753849,
          "end_time": "2023-11-01T11:38:51.192359",
          "exception": false,
          "start_time": "2023-11-01T11:38:41.438510",
          "status": "completed"
        },
        "tags": [],
        "id": "a4285c70"
      },
      "outputs": [],
      "source": [
        "import pandas as pd\n",
        "import numpy as np\n",
        "from sklearn.preprocessing import LabelEncoder, MinMaxScaler\n",
        "from sklearn.model_selection import train_test_split\n",
        "import tensorflow.keras as keras\n",
        "from tensorflow.keras.models import Sequential\n",
        "from tensorflow.keras.layers import Dense, Dropout\n",
        "import matplotlib.pyplot as plt"
      ]
    },
    {
      "cell_type": "markdown",
      "source": [
        "# Работа с датасетом"
      ],
      "metadata": {
        "id": "jmbCbWu935Ad"
      },
      "id": "jmbCbWu935Ad"
    },
    {
      "cell_type": "markdown",
      "id": "ed214852",
      "metadata": {
        "papermill": {
          "duration": 0.006898,
          "end_time": "2023-11-01T11:38:51.206873",
          "exception": false,
          "start_time": "2023-11-01T11:38:51.199975",
          "status": "completed"
        },
        "tags": [],
        "id": "ed214852"
      },
      "source": [
        "### Загрузим датасет"
      ]
    },
    {
      "cell_type": "code",
      "execution_count": 122,
      "id": "1a9bee15",
      "metadata": {
        "execution": {
          "iopub.execute_input": "2023-11-01T11:38:51.223006Z",
          "iopub.status.busy": "2023-11-01T11:38:51.222354Z",
          "iopub.status.idle": "2023-11-01T11:38:51.255616Z",
          "shell.execute_reply": "2023-11-01T11:38:51.254852Z"
        },
        "papermill": {
          "duration": 0.043822,
          "end_time": "2023-11-01T11:38:51.257845",
          "exception": false,
          "start_time": "2023-11-01T11:38:51.214023",
          "status": "completed"
        },
        "tags": [],
        "id": "1a9bee15"
      },
      "outputs": [],
      "source": [
        "data = pd.read_csv('https://raw.githubusercontent.com/AnLiMan/Machine-Learning-Course/main/Datasets/apple_quality.csv')"
      ]
    },
    {
      "cell_type": "markdown",
      "id": "72b6dd80",
      "metadata": {
        "papermill": {
          "duration": 0.007065,
          "end_time": "2023-11-01T11:38:51.272490",
          "exception": false,
          "start_time": "2023-11-01T11:38:51.265425",
          "status": "completed"
        },
        "tags": [],
        "id": "72b6dd80"
      },
      "source": [
        "### Отобразим первые 5 элементов"
      ]
    },
    {
      "cell_type": "code",
      "execution_count": 123,
      "id": "6454cb9b",
      "metadata": {
        "execution": {
          "iopub.execute_input": "2023-11-01T11:38:51.289083Z",
          "iopub.status.busy": "2023-11-01T11:38:51.288468Z",
          "iopub.status.idle": "2023-11-01T11:38:51.299900Z",
          "shell.execute_reply": "2023-11-01T11:38:51.298696Z"
        },
        "papermill": {
          "duration": 0.022194,
          "end_time": "2023-11-01T11:38:51.302023",
          "exception": false,
          "start_time": "2023-11-01T11:38:51.279829",
          "status": "completed"
        },
        "tags": [],
        "colab": {
          "base_uri": "https://localhost:8080/"
        },
        "id": "6454cb9b",
        "outputId": "95843b5f-f140-47f5-ee5b-4080b70ef8e1"
      },
      "outputs": [
        {
          "output_type": "stream",
          "name": "stdout",
          "text": [
            "   A_id      Size    Weight  Sweetness  Crunchiness  Juiciness  Ripeness  \\\n",
            "0     0 -3.970049 -2.512336   5.346330    -1.012009   1.844900  0.329840   \n",
            "1     1 -1.195217 -2.839257   3.664059     1.588232   0.853286  0.867530   \n",
            "2     2 -0.292024 -1.351282  -1.738429    -0.342616   2.838636 -0.038033   \n",
            "3     3 -0.657196 -2.271627   1.324874    -0.097875   3.637970 -3.413761   \n",
            "4     4  1.364217 -1.296612  -0.384658    -0.553006   3.030874 -1.303849   \n",
            "\n",
            "    Acidity Quality  \n",
            "0 -0.491590    good  \n",
            "1 -0.722809    good  \n",
            "2  2.621636     bad  \n",
            "3  0.790723    good  \n",
            "4  0.501984    good  \n"
          ]
        }
      ],
      "source": [
        "print(data.head())"
      ]
    },
    {
      "cell_type": "markdown",
      "id": "21cea90e",
      "metadata": {
        "papermill": {
          "duration": 0.00722,
          "end_time": "2023-11-01T11:38:51.316828",
          "exception": false,
          "start_time": "2023-11-01T11:38:51.309608",
          "status": "completed"
        },
        "tags": [],
        "id": "21cea90e"
      },
      "source": [
        "### Отобразим информацию о нём"
      ]
    },
    {
      "cell_type": "code",
      "execution_count": 124,
      "id": "1b333ffe",
      "metadata": {
        "execution": {
          "iopub.execute_input": "2023-11-01T11:38:51.333936Z",
          "iopub.status.busy": "2023-11-01T11:38:51.333323Z",
          "iopub.status.idle": "2023-11-01T11:38:51.353111Z",
          "shell.execute_reply": "2023-11-01T11:38:51.351082Z"
        },
        "papermill": {
          "duration": 0.031594,
          "end_time": "2023-11-01T11:38:51.355905",
          "exception": false,
          "start_time": "2023-11-01T11:38:51.324311",
          "status": "completed"
        },
        "tags": [],
        "colab": {
          "base_uri": "https://localhost:8080/"
        },
        "id": "1b333ffe",
        "outputId": "56636e3d-cf5f-4397-d5d6-d4f3c1fde1d5"
      },
      "outputs": [
        {
          "output_type": "stream",
          "name": "stdout",
          "text": [
            "<class 'pandas.core.frame.DataFrame'>\n",
            "RangeIndex: 4000 entries, 0 to 3999\n",
            "Data columns (total 9 columns):\n",
            " #   Column       Non-Null Count  Dtype  \n",
            "---  ------       --------------  -----  \n",
            " 0   A_id         4000 non-null   int64  \n",
            " 1   Size         4000 non-null   float64\n",
            " 2   Weight       4000 non-null   float64\n",
            " 3   Sweetness    4000 non-null   float64\n",
            " 4   Crunchiness  4000 non-null   float64\n",
            " 5   Juiciness    4000 non-null   float64\n",
            " 6   Ripeness     4000 non-null   float64\n",
            " 7   Acidity      4000 non-null   float64\n",
            " 8   Quality      4000 non-null   object \n",
            "dtypes: float64(7), int64(1), object(1)\n",
            "memory usage: 281.4+ KB\n",
            "None\n"
          ]
        }
      ],
      "source": [
        "print(data.info())"
      ]
    },
    {
      "cell_type": "markdown",
      "id": "db99b8ae",
      "metadata": {
        "papermill": {
          "duration": 0.007516,
          "end_time": "2023-11-01T11:38:51.371205",
          "exception": false,
          "start_time": "2023-11-01T11:38:51.363689",
          "status": "completed"
        },
        "tags": [],
        "id": "db99b8ae"
      },
      "source": [
        "### Отобразим размерность датасета"
      ]
    },
    {
      "cell_type": "code",
      "execution_count": 125,
      "id": "1fc346ce",
      "metadata": {
        "execution": {
          "iopub.execute_input": "2023-11-01T11:38:51.388209Z",
          "iopub.status.busy": "2023-11-01T11:38:51.387808Z",
          "iopub.status.idle": "2023-11-01T11:38:51.393738Z",
          "shell.execute_reply": "2023-11-01T11:38:51.392368Z"
        },
        "papermill": {
          "duration": 0.017033,
          "end_time": "2023-11-01T11:38:51.395932",
          "exception": false,
          "start_time": "2023-11-01T11:38:51.378899",
          "status": "completed"
        },
        "tags": [],
        "colab": {
          "base_uri": "https://localhost:8080/"
        },
        "id": "1fc346ce",
        "outputId": "582ac315-c8bf-4031-ca1a-ac779e55163b"
      },
      "outputs": [
        {
          "output_type": "stream",
          "name": "stdout",
          "text": [
            "Размерность =  (4000, 9)\n"
          ]
        }
      ],
      "source": [
        "print(\"Размерность = \", data.shape)"
      ]
    },
    {
      "cell_type": "markdown",
      "id": "a0401222",
      "metadata": {
        "papermill": {
          "duration": 0.00731,
          "end_time": "2023-11-01T11:38:51.411112",
          "exception": false,
          "start_time": "2023-11-01T11:38:51.403802",
          "status": "completed"
        },
        "tags": [],
        "id": "a0401222"
      },
      "source": [
        "### Проверка на нулевые и отсутствующие значения."
      ]
    },
    {
      "cell_type": "code",
      "execution_count": 126,
      "id": "a7aebff2",
      "metadata": {
        "execution": {
          "iopub.execute_input": "2023-11-01T11:38:51.428672Z",
          "iopub.status.busy": "2023-11-01T11:38:51.428008Z",
          "iopub.status.idle": "2023-11-01T11:38:51.434884Z",
          "shell.execute_reply": "2023-11-01T11:38:51.433809Z"
        },
        "papermill": {
          "duration": 0.018291,
          "end_time": "2023-11-01T11:38:51.436887",
          "exception": false,
          "start_time": "2023-11-01T11:38:51.418596",
          "status": "completed"
        },
        "tags": [],
        "colab": {
          "base_uri": "https://localhost:8080/"
        },
        "id": "a7aebff2",
        "outputId": "8a1eaf09-83d4-48fa-8098-713b0cb28b4a"
      },
      "outputs": [
        {
          "output_type": "stream",
          "name": "stdout",
          "text": [
            "A_id           0\n",
            "Size           0\n",
            "Weight         0\n",
            "Sweetness      0\n",
            "Crunchiness    0\n",
            "Juiciness      0\n",
            "Ripeness       0\n",
            "Acidity        0\n",
            "Quality        0\n",
            "dtype: int64\n"
          ]
        }
      ],
      "source": [
        "print(data.isna().sum())"
      ]
    },
    {
      "cell_type": "markdown",
      "id": "250e4ae2",
      "metadata": {
        "papermill": {
          "duration": 0.007455,
          "end_time": "2023-11-01T11:38:51.451962",
          "exception": false,
          "start_time": "2023-11-01T11:38:51.444507",
          "status": "completed"
        },
        "tags": [],
        "id": "250e4ae2"
      },
      "source": [
        "### Проверка дубликатов"
      ]
    },
    {
      "cell_type": "code",
      "execution_count": 127,
      "id": "fcb5c642",
      "metadata": {
        "execution": {
          "iopub.execute_input": "2023-11-01T11:38:51.469592Z",
          "iopub.status.busy": "2023-11-01T11:38:51.468968Z",
          "iopub.status.idle": "2023-11-01T11:38:51.484130Z",
          "shell.execute_reply": "2023-11-01T11:38:51.482718Z"
        },
        "papermill": {
          "duration": 0.026756,
          "end_time": "2023-11-01T11:38:51.486619",
          "exception": false,
          "start_time": "2023-11-01T11:38:51.459863",
          "status": "completed"
        },
        "tags": [],
        "colab": {
          "base_uri": "https://localhost:8080/"
        },
        "id": "fcb5c642",
        "outputId": "454aa168-125a-4cd7-c578-c55ceac803ac"
      },
      "outputs": [
        {
          "output_type": "stream",
          "name": "stdout",
          "text": [
            "False    4000\n",
            "dtype: int64\n",
            "Empty DataFrame\n",
            "Columns: [A_id, Size, Weight, Sweetness, Crunchiness, Juiciness, Ripeness, Acidity, Quality]\n",
            "Index: []\n"
          ]
        }
      ],
      "source": [
        "print(data.duplicated(keep = False).value_counts())\n",
        "print(data[data.duplicated(keep = False)])"
      ]
    },
    {
      "cell_type": "markdown",
      "id": "7da2c647",
      "metadata": {
        "papermill": {
          "duration": 0.007387,
          "end_time": "2023-11-01T11:38:51.502064",
          "exception": false,
          "start_time": "2023-11-01T11:38:51.494677",
          "status": "completed"
        },
        "tags": [],
        "id": "7da2c647"
      },
      "source": [
        "### Выбросим дубликаты из датаста и отобразим новую размерность"
      ]
    },
    {
      "cell_type": "code",
      "execution_count": 128,
      "id": "5281cc76",
      "metadata": {
        "execution": {
          "iopub.execute_input": "2023-11-01T11:38:51.519199Z",
          "iopub.status.busy": "2023-11-01T11:38:51.518807Z",
          "iopub.status.idle": "2023-11-01T11:38:51.526863Z",
          "shell.execute_reply": "2023-11-01T11:38:51.525708Z"
        },
        "papermill": {
          "duration": 0.019194,
          "end_time": "2023-11-01T11:38:51.528876",
          "exception": false,
          "start_time": "2023-11-01T11:38:51.509682",
          "status": "completed"
        },
        "tags": [],
        "colab": {
          "base_uri": "https://localhost:8080/"
        },
        "id": "5281cc76",
        "outputId": "50002fbb-5f32-43ed-fe52-f0210c142184"
      },
      "outputs": [
        {
          "output_type": "stream",
          "name": "stdout",
          "text": [
            "(4000, 9)\n"
          ]
        }
      ],
      "source": [
        "data = data.drop_duplicates(keep = 'first').copy()\n",
        "print(data.shape)"
      ]
    },
    {
      "cell_type": "markdown",
      "id": "bb777925",
      "metadata": {
        "papermill": {
          "duration": 0.007486,
          "end_time": "2023-11-01T11:38:51.544034",
          "exception": false,
          "start_time": "2023-11-01T11:38:51.536548",
          "status": "completed"
        },
        "tags": [],
        "id": "bb777925"
      },
      "source": [
        "### Сброс индекса кадра данных"
      ]
    },
    {
      "cell_type": "code",
      "execution_count": 129,
      "id": "dc53fbe9",
      "metadata": {
        "execution": {
          "iopub.execute_input": "2023-11-01T11:38:51.561136Z",
          "iopub.status.busy": "2023-11-01T11:38:51.560750Z",
          "iopub.status.idle": "2023-11-01T11:38:51.565763Z",
          "shell.execute_reply": "2023-11-01T11:38:51.564696Z"
        },
        "papermill": {
          "duration": 0.016165,
          "end_time": "2023-11-01T11:38:51.567877",
          "exception": false,
          "start_time": "2023-11-01T11:38:51.551712",
          "status": "completed"
        },
        "tags": [],
        "id": "dc53fbe9"
      },
      "outputs": [],
      "source": [
        "data = data.reset_index(drop = True)"
      ]
    },
    {
      "cell_type": "markdown",
      "id": "aad2d21d",
      "metadata": {
        "papermill": {
          "duration": 0.007782,
          "end_time": "2023-11-01T11:38:51.584198",
          "exception": false,
          "start_time": "2023-11-01T11:38:51.576416",
          "status": "completed"
        },
        "tags": [],
        "id": "aad2d21d"
      },
      "source": [
        "### Разделим датасет на независимые переменные (X) и целевую функцию (Y)"
      ]
    },
    {
      "cell_type": "code",
      "execution_count": 130,
      "id": "41e7e6f3",
      "metadata": {
        "execution": {
          "iopub.execute_input": "2023-11-01T11:38:51.601996Z",
          "iopub.status.busy": "2023-11-01T11:38:51.601448Z",
          "iopub.status.idle": "2023-11-01T11:38:51.608441Z",
          "shell.execute_reply": "2023-11-01T11:38:51.607501Z"
        },
        "papermill": {
          "duration": 0.018439,
          "end_time": "2023-11-01T11:38:51.610613",
          "exception": false,
          "start_time": "2023-11-01T11:38:51.592174",
          "status": "completed"
        },
        "tags": [],
        "id": "41e7e6f3"
      },
      "outputs": [],
      "source": [
        "X = data.iloc[:, 1:8].values\n",
        "y = data['Quality'].values"
      ]
    },
    {
      "cell_type": "markdown",
      "id": "e323106b",
      "metadata": {
        "papermill": {
          "duration": 0.007849,
          "end_time": "2023-11-01T11:38:51.626718",
          "exception": false,
          "start_time": "2023-11-01T11:38:51.618869",
          "status": "completed"
        },
        "tags": [],
        "id": "e323106b"
      },
      "source": [
        "### Размерности полученных данных"
      ]
    },
    {
      "cell_type": "code",
      "execution_count": 131,
      "id": "fcd23768",
      "metadata": {
        "execution": {
          "iopub.execute_input": "2023-11-01T11:38:51.644267Z",
          "iopub.status.busy": "2023-11-01T11:38:51.643912Z",
          "iopub.status.idle": "2023-11-01T11:38:51.650179Z",
          "shell.execute_reply": "2023-11-01T11:38:51.648476Z"
        },
        "papermill": {
          "duration": 0.01775,
          "end_time": "2023-11-01T11:38:51.652613",
          "exception": false,
          "start_time": "2023-11-01T11:38:51.634863",
          "status": "completed"
        },
        "tags": [],
        "colab": {
          "base_uri": "https://localhost:8080/"
        },
        "id": "fcd23768",
        "outputId": "8a18fbf6-39ab-4b57-a7b0-8b7bb775af43"
      },
      "outputs": [
        {
          "output_type": "stream",
          "name": "stdout",
          "text": [
            "Рамерность Х, строки(общее количество значений), колонны (количество независимых переменных) = (4000, 7)\n",
            "Рамерность Y, строки(общее количество значений), колонны (количество зависмых переменных) = (4000,)\n"
          ]
        }
      ],
      "source": [
        "print(\"Рамерность Х, строки(общее количество значений), колонны (количество независимых переменных) = \" + str(X.shape))\n",
        "print(\"Рамерность Y, строки(общее количество значений), колонны (количество зависмых переменных) = \" + str(y.shape))"
      ]
    },
    {
      "cell_type": "code",
      "source": [
        "print(\"Значения Х \")\n",
        "print(X)"
      ],
      "metadata": {
        "colab": {
          "base_uri": "https://localhost:8080/"
        },
        "id": "xupRW0h3fGfS",
        "outputId": "095db08f-22bf-4df3-b38e-f4a9153350d4"
      },
      "id": "xupRW0h3fGfS",
      "execution_count": 132,
      "outputs": [
        {
          "output_type": "stream",
          "name": "stdout",
          "text": [
            "Значения Х \n",
            "[[-3.97004852 -2.51233638  5.34632961 ...  1.84490036  0.3298398\n",
            "  -0.49159048]\n",
            " [-1.19521719 -2.83925653  3.66405876 ...  0.8532858   0.86753008\n",
            "  -0.72280937]\n",
            " [-0.29202386 -1.35128199 -1.73842916 ...  2.83863551 -0.03803333\n",
            "   2.62163647]\n",
            " ...\n",
            " [-2.6345153  -2.13824672 -2.44046129 ...  2.19970859  4.76385918\n",
            "  -1.33461139]\n",
            " [-4.00800374 -1.77933711  2.36639697 ...  2.16143512  0.21448838\n",
            "  -2.22971981]\n",
            " [ 0.27853965 -1.71550503  0.12121725 ...  1.2666774  -0.77657147\n",
            "   1.59979646]]\n"
          ]
        }
      ]
    },
    {
      "cell_type": "code",
      "source": [
        "print(\"Значения Y\")\n",
        "print(y)"
      ],
      "metadata": {
        "colab": {
          "base_uri": "https://localhost:8080/"
        },
        "id": "z6VfUGV3fpHa",
        "outputId": "2586bdd4-ff3d-4924-b569-6603c7196022"
      },
      "id": "z6VfUGV3fpHa",
      "execution_count": 133,
      "outputs": [
        {
          "output_type": "stream",
          "name": "stdout",
          "text": [
            "Значения Y\n",
            "['good' 'good' 'bad' ... 'bad' 'good' 'good']\n"
          ]
        }
      ]
    },
    {
      "cell_type": "markdown",
      "id": "888963df",
      "metadata": {
        "papermill": {
          "duration": 0.007506,
          "end_time": "2023-11-01T11:38:51.667948",
          "exception": false,
          "start_time": "2023-11-01T11:38:51.660442",
          "status": "completed"
        },
        "tags": [],
        "id": "888963df"
      },
      "source": [
        "### Нормализация X (перевод значений в диапазон от 0 до 1)\n",
        "\n",
        "Нормализация входных параметров важна для улучшения стабильности и скорости сходимости обучения. Если входные данные не нормализованы, то некоторые параметры могут иметь большой диапазон значений, что может привести к проблемам в обучении нейронной сети. Например, градиенты могут стать слишком большими или маленькими, что приведет к проблемам в оптимизации и ухудшению точности предсказаний.\n",
        "\n",
        "Нормализация также позволяет ускорить процесс обучения, поскольку сходимость алгоритма оптимизации может быть улучшена. Правильно нормализованные данные также могут помочь в избежании проблемы переобучения, что может возникнуть, если входные данные не имеют хорошей репрезентативности.\n",
        "\n",
        "Подробнее https://www.mql5.com/ru/articles/12459#:~:text=%D0%9D%D0%BE%D1%80%D0%BC%D0%B0%D0%BB%D0%B8%D0%B7%D0%B0%D1%86%D0%B8%D1%8F%20%D0%B2%D1%85%D0%BE%D0%B4%D0%BD%D1%8B%D1%85%20%D0%BF%D0%B0%D1%80%D0%B0%D0%BC%D0%B5%D1%82%D1%80%D0%BE%D0%B2%20%D0%B2%D0%B0%D0%B6%D0%BD%D0%B0%20%D0%B4%D0%BB%D1%8F,%D0%BE%D0%BF%D1%82%D0%B8%D0%BC%D0%B8%D0%B7%D0%B0%D1%86%D0%B8%D0%B8%20%D0%B8%20%D1%83%D1%85%D1%83%D0%B4%D1%88%D0%B5%D0%BD%D0%B8%D1%8E%20%D1%82%D0%BE%D1%87%D0%BD%D0%BE%D1%81%D1%82%D0%B8%20%D0%BF%D1%80%D0%B5%D0%B4%D1%81%D0%BA%D0%B0%D0%B7%D0%B0%D0%BD%D0%B8%D0%B9"
      ]
    },
    {
      "cell_type": "code",
      "execution_count": 134,
      "id": "1983d93c",
      "metadata": {
        "execution": {
          "iopub.execute_input": "2023-11-01T11:38:51.685850Z",
          "iopub.status.busy": "2023-11-01T11:38:51.685210Z",
          "iopub.status.idle": "2023-11-01T11:38:51.691484Z",
          "shell.execute_reply": "2023-11-01T11:38:51.690357Z"
        },
        "papermill": {
          "duration": 0.01733,
          "end_time": "2023-11-01T11:38:51.693441",
          "exception": false,
          "start_time": "2023-11-01T11:38:51.676111",
          "status": "completed"
        },
        "tags": [],
        "id": "1983d93c"
      },
      "outputs": [],
      "source": [
        "scaler = MinMaxScaler()\n",
        "scaler.fit(X)\n",
        "X_scaled = scaler.fit_transform(X)"
      ]
    },
    {
      "cell_type": "code",
      "source": [
        "print(\"Нормализованные входные данные\")\n",
        "print(X_scaled)"
      ],
      "metadata": {
        "colab": {
          "base_uri": "https://localhost:8080/"
        },
        "id": "mIgzvVCPfy7I",
        "outputId": "80b56701-5e0f-4425-8932-0ce1b23b4199"
      },
      "id": "mIgzvVCPfy7I",
      "execution_count": 135,
      "outputs": [
        {
          "output_type": "stream",
          "name": "stdout",
          "text": [
            "Нормализованные входные данные\n",
            "[[0.23466869 0.35837018 0.92248438 ... 0.58581883 0.47277002 0.45222503]\n",
            " [0.4393314  0.33310697 0.79570617 ... 0.51140848 0.51380745 0.43618517]\n",
            " [0.50594806 0.44809229 0.38856738 ... 0.6603883  0.44469332 0.66819226]\n",
            " ...\n",
            " [0.33317336 0.38727848 0.33566129 ... 0.61244349 0.81118186 0.39374394]\n",
            " [0.23186924 0.41501373 0.69791262 ... 0.60957147 0.4639662  0.3316495 ]\n",
            " [0.54803101 0.41994644 0.52871284 ... 0.54242922 0.38832684 0.59730634]]\n"
          ]
        }
      ]
    },
    {
      "cell_type": "markdown",
      "id": "3fb3c98b",
      "metadata": {
        "papermill": {
          "duration": 0.007451,
          "end_time": "2023-11-01T11:38:51.708793",
          "exception": false,
          "start_time": "2023-11-01T11:38:51.701342",
          "status": "completed"
        },
        "tags": [],
        "id": "3fb3c98b"
      },
      "source": [
        "### Преобразование Y с помощью LabelEncoder (текст переводятся в метки (числа))"
      ]
    },
    {
      "cell_type": "code",
      "execution_count": 136,
      "id": "ca365035",
      "metadata": {
        "execution": {
          "iopub.execute_input": "2023-11-01T11:38:51.725915Z",
          "iopub.status.busy": "2023-11-01T11:38:51.725534Z",
          "iopub.status.idle": "2023-11-01T11:38:51.730653Z",
          "shell.execute_reply": "2023-11-01T11:38:51.729556Z"
        },
        "papermill": {
          "duration": 0.016336,
          "end_time": "2023-11-01T11:38:51.732871",
          "exception": false,
          "start_time": "2023-11-01T11:38:51.716535",
          "status": "completed"
        },
        "tags": [],
        "id": "ca365035"
      },
      "outputs": [],
      "source": [
        "encoder = LabelEncoder()\n",
        "y_encoded = encoder.fit_transform(y)"
      ]
    },
    {
      "cell_type": "code",
      "source": [
        "print(\"Новые метки\")\n",
        "print(y_encoded)"
      ],
      "metadata": {
        "colab": {
          "base_uri": "https://localhost:8080/"
        },
        "id": "F1YfSSmMgJUc",
        "outputId": "9e7478bd-ae8c-434f-bb1e-c6ccabbc1fa7"
      },
      "id": "F1YfSSmMgJUc",
      "execution_count": 137,
      "outputs": [
        {
          "output_type": "stream",
          "name": "stdout",
          "text": [
            "Новые метки\n",
            "[1 1 0 ... 0 1 1]\n"
          ]
        }
      ]
    },
    {
      "cell_type": "markdown",
      "id": "dbadc47f",
      "metadata": {
        "papermill": {
          "duration": 0.007488,
          "end_time": "2023-11-01T11:38:51.748347",
          "exception": false,
          "start_time": "2023-11-01T11:38:51.740859",
          "status": "completed"
        },
        "tags": [],
        "id": "dbadc47f"
      },
      "source": [
        "### Категоривание меток(количество категорий = количеству меток полученных ранее - 0,1,2)"
      ]
    },
    {
      "cell_type": "code",
      "execution_count": 138,
      "id": "a31a6224",
      "metadata": {
        "execution": {
          "iopub.execute_input": "2023-11-01T11:38:51.823137Z",
          "iopub.status.busy": "2023-11-01T11:38:51.822335Z",
          "iopub.status.idle": "2023-11-01T11:38:51.826811Z",
          "shell.execute_reply": "2023-11-01T11:38:51.825983Z"
        },
        "papermill": {
          "duration": 0.015534,
          "end_time": "2023-11-01T11:38:51.828759",
          "exception": false,
          "start_time": "2023-11-01T11:38:51.813225",
          "status": "completed"
        },
        "tags": [],
        "id": "a31a6224"
      },
      "outputs": [],
      "source": [
        "num_categories = 2\n",
        "y_onehot = keras.utils.to_categorical(y_encoded, num_categories)"
      ]
    },
    {
      "cell_type": "code",
      "source": [
        "print(\"Новое представление Y\")\n",
        "print(y_onehot)"
      ],
      "metadata": {
        "colab": {
          "base_uri": "https://localhost:8080/"
        },
        "id": "dRuIrs1ni8fC",
        "outputId": "ef8f63aa-0e29-4e97-af6a-c6f1201bc8c9"
      },
      "id": "dRuIrs1ni8fC",
      "execution_count": 139,
      "outputs": [
        {
          "output_type": "stream",
          "name": "stdout",
          "text": [
            "Новое представление Y\n",
            "[[0. 1.]\n",
            " [0. 1.]\n",
            " [1. 0.]\n",
            " ...\n",
            " [1. 0.]\n",
            " [0. 1.]\n",
            " [0. 1.]]\n"
          ]
        }
      ]
    },
    {
      "cell_type": "markdown",
      "id": "2bfdee45",
      "metadata": {
        "papermill": {
          "duration": 0.00766,
          "end_time": "2023-11-01T11:38:51.844355",
          "exception": false,
          "start_time": "2023-11-01T11:38:51.836695",
          "status": "completed"
        },
        "tags": [],
        "id": "2bfdee45"
      },
      "source": [
        "### Преобразование X_scaled и y_onehot в train и valid данные."
      ]
    },
    {
      "cell_type": "code",
      "execution_count": 140,
      "id": "071c526e",
      "metadata": {
        "execution": {
          "iopub.execute_input": "2023-11-01T11:38:51.861645Z",
          "iopub.status.busy": "2023-11-01T11:38:51.861278Z",
          "iopub.status.idle": "2023-11-01T11:38:51.867286Z",
          "shell.execute_reply": "2023-11-01T11:38:51.866242Z"
        },
        "papermill": {
          "duration": 0.017247,
          "end_time": "2023-11-01T11:38:51.869517",
          "exception": false,
          "start_time": "2023-11-01T11:38:51.852270",
          "status": "completed"
        },
        "tags": [],
        "id": "071c526e"
      },
      "outputs": [],
      "source": [
        "X_train, X_valid, y_train, y_valid = train_test_split(X_scaled, y_onehot,\n",
        "                                                     test_size = 0.2,\n",
        "                                                     random_state = 42)"
      ]
    },
    {
      "cell_type": "code",
      "source": [
        "print(\"Тренировочные данные\")\n",
        "print(X_train)"
      ],
      "metadata": {
        "colab": {
          "base_uri": "https://localhost:8080/"
        },
        "id": "CiqJMIxugUzZ",
        "outputId": "af0cc06f-ac24-41dd-c2a8-0df91a6cd1f5"
      },
      "id": "CiqJMIxugUzZ",
      "execution_count": 141,
      "outputs": [
        {
          "output_type": "stream",
          "name": "stdout",
          "text": [
            "Тренировочные данные\n",
            "[[0.63683187 0.35305009 0.49645027 ... 0.52664718 0.64304288 0.40105263]\n",
            " [0.51523605 0.58231483 0.43646357 ... 0.47180237 0.52263894 0.33565786]\n",
            " [0.34243895 0.33278396 0.45564396 ... 0.44022423 0.83767975 0.36108855]\n",
            " ...\n",
            " [0.70922945 0.42323525 0.4992148  ... 0.34479115 0.7904105  0.57028597]\n",
            " [0.40352345 0.4617363  0.64086922 ... 0.47425851 0.48540017 0.4341779 ]\n",
            " [0.40057452 0.65367316 0.54047832 ... 0.57304986 0.34877712 0.38533421]]\n"
          ]
        }
      ]
    },
    {
      "cell_type": "code",
      "source": [
        "print(\"Выходные данные для тренировочных\")\n",
        "print(y_train)"
      ],
      "metadata": {
        "colab": {
          "base_uri": "https://localhost:8080/"
        },
        "id": "_EBUs3P-gapJ",
        "outputId": "6857f985-5de3-4ea1-94d9-be936efeda28"
      },
      "id": "_EBUs3P-gapJ",
      "execution_count": 142,
      "outputs": [
        {
          "output_type": "stream",
          "name": "stdout",
          "text": [
            "Выходные данные для тренировочных\n",
            "[[0. 1.]\n",
            " [0. 1.]\n",
            " [1. 0.]\n",
            " ...\n",
            " [0. 1.]\n",
            " [0. 1.]\n",
            " [0. 1.]]\n"
          ]
        }
      ]
    },
    {
      "cell_type": "code",
      "source": [
        "print(\"Данные для валидации (проверки)\")\n",
        "print(X_valid)"
      ],
      "metadata": {
        "colab": {
          "base_uri": "https://localhost:8080/"
        },
        "id": "6grA_YWVkP5a",
        "outputId": "e2c949ae-c227-4a62-ae43-5f39d5dc145f"
      },
      "id": "6grA_YWVkP5a",
      "execution_count": 143,
      "outputs": [
        {
          "output_type": "stream",
          "name": "stdout",
          "text": [
            "Данные для валидации (проверки)\n",
            "[[0.75608945 0.42179677 0.2422959  ... 0.48775725 0.57429767 0.44853653]\n",
            " [0.63368095 0.53520642 0.5149469  ... 0.5138364  0.2803134  0.62179288]\n",
            " [0.61649552 0.51318241 0.65042065 ... 0.40564511 0.34593166 0.55633307]\n",
            " ...\n",
            " [0.46363668 0.21505889 0.71550599 ... 0.68628639 0.55388261 0.4158614 ]\n",
            " [0.45784404 0.53978142 0.55627892 ... 0.44407299 0.55905147 0.34020947]\n",
            " [0.56349826 0.42070965 0.48195066 ... 0.6857207  0.47263582 0.35549331]]\n"
          ]
        }
      ]
    },
    {
      "cell_type": "code",
      "source": [
        "print(\"Выходные данные для валидации (проверки)\")\n",
        "print(y_valid)"
      ],
      "metadata": {
        "colab": {
          "base_uri": "https://localhost:8080/"
        },
        "id": "RctN726OkQVS",
        "outputId": "0253658f-bb66-4fc8-dbfa-a7c4cd8219a6"
      },
      "id": "RctN726OkQVS",
      "execution_count": 144,
      "outputs": [
        {
          "output_type": "stream",
          "name": "stdout",
          "text": [
            "Выходные данные для валидации (проверки)\n",
            "[[0. 1.]\n",
            " [1. 0.]\n",
            " [1. 0.]\n",
            " ...\n",
            " [0. 1.]\n",
            " [0. 1.]\n",
            " [0. 1.]]\n"
          ]
        }
      ]
    },
    {
      "cell_type": "markdown",
      "source": [
        "# Работа с нейросетью"
      ],
      "metadata": {
        "id": "FKIDtSKjAcNu"
      },
      "id": "FKIDtSKjAcNu"
    },
    {
      "cell_type": "markdown",
      "id": "b309772d",
      "metadata": {
        "papermill": {
          "duration": 0.007648,
          "end_time": "2023-11-01T11:38:51.885312",
          "exception": false,
          "start_time": "2023-11-01T11:38:51.877664",
          "status": "completed"
        },
        "tags": [],
        "id": "b309772d"
      },
      "source": [
        "### Определение модели нейронной сети"
      ]
    },
    {
      "cell_type": "code",
      "execution_count": 145,
      "id": "0dec1de6",
      "metadata": {
        "execution": {
          "iopub.execute_input": "2023-11-01T11:38:51.902791Z",
          "iopub.status.busy": "2023-11-01T11:38:51.902402Z",
          "iopub.status.idle": "2023-11-01T11:38:52.103023Z",
          "shell.execute_reply": "2023-11-01T11:38:52.101923Z"
        },
        "papermill": {
          "duration": 0.212503,
          "end_time": "2023-11-01T11:38:52.105675",
          "exception": false,
          "start_time": "2023-11-01T11:38:51.893172",
          "status": "completed"
        },
        "tags": [],
        "id": "0dec1de6"
      },
      "outputs": [],
      "source": [
        "model = Sequential()\n",
        "model.add(Dense(units = 512, activation = 'relu', input_shape = (7,)))\n",
        "model.add(Dense(units = 512, activation = 'relu'))\n",
        "model.add(Dense(units = 512, activation = 'relu'))\n",
        "model.add(Dropout(0.2))\n",
        "model.add(Dense(units = num_categories, activation = 'softmax'))"
      ]
    },
    {
      "cell_type": "markdown",
      "id": "b6d8eaad",
      "metadata": {
        "papermill": {
          "duration": 0.00774,
          "end_time": "2023-11-01T11:38:52.121697",
          "exception": false,
          "start_time": "2023-11-01T11:38:52.113957",
          "status": "completed"
        },
        "tags": [],
        "id": "b6d8eaad"
      },
      "source": [
        "### Резюме"
      ]
    },
    {
      "cell_type": "code",
      "execution_count": 146,
      "id": "bda37d2a",
      "metadata": {
        "execution": {
          "iopub.execute_input": "2023-11-01T11:38:52.139860Z",
          "iopub.status.busy": "2023-11-01T11:38:52.138718Z",
          "iopub.status.idle": "2023-11-01T11:38:52.160603Z",
          "shell.execute_reply": "2023-11-01T11:38:52.159537Z"
        },
        "papermill": {
          "duration": 0.03489,
          "end_time": "2023-11-01T11:38:52.164605",
          "exception": false,
          "start_time": "2023-11-01T11:38:52.129715",
          "status": "completed"
        },
        "tags": [],
        "colab": {
          "base_uri": "https://localhost:8080/"
        },
        "id": "bda37d2a",
        "outputId": "c388ee74-37e9-4820-8e1b-473da70812ce"
      },
      "outputs": [
        {
          "output_type": "stream",
          "name": "stdout",
          "text": [
            "Model: \"sequential_12\"\n",
            "_________________________________________________________________\n",
            " Layer (type)                Output Shape              Param #   \n",
            "=================================================================\n",
            " dense_48 (Dense)            (None, 512)               4096      \n",
            "                                                                 \n",
            " dense_49 (Dense)            (None, 512)               262656    \n",
            "                                                                 \n",
            " dense_50 (Dense)            (None, 512)               262656    \n",
            "                                                                 \n",
            " dropout_12 (Dropout)        (None, 512)               0         \n",
            "                                                                 \n",
            " dense_51 (Dense)            (None, 2)                 1026      \n",
            "                                                                 \n",
            "=================================================================\n",
            "Total params: 530434 (2.02 MB)\n",
            "Trainable params: 530434 (2.02 MB)\n",
            "Non-trainable params: 0 (0.00 Byte)\n",
            "_________________________________________________________________\n"
          ]
        }
      ],
      "source": [
        "model.summary()"
      ]
    },
    {
      "cell_type": "markdown",
      "id": "ad000730",
      "metadata": {
        "papermill": {
          "duration": 0.008829,
          "end_time": "2023-11-01T11:38:52.182650",
          "exception": false,
          "start_time": "2023-11-01T11:38:52.173821",
          "status": "completed"
        },
        "tags": [],
        "id": "ad000730"
      },
      "source": [
        "### Компиляция модели"
      ]
    },
    {
      "cell_type": "code",
      "execution_count": 147,
      "id": "7cbf2f3a",
      "metadata": {
        "execution": {
          "iopub.execute_input": "2023-11-01T11:38:52.203954Z",
          "iopub.status.busy": "2023-11-01T11:38:52.203507Z",
          "iopub.status.idle": "2023-11-01T11:38:52.221256Z",
          "shell.execute_reply": "2023-11-01T11:38:52.220146Z"
        },
        "papermill": {
          "duration": 0.031741,
          "end_time": "2023-11-01T11:38:52.223769",
          "exception": false,
          "start_time": "2023-11-01T11:38:52.192028",
          "status": "completed"
        },
        "tags": [],
        "id": "7cbf2f3a"
      },
      "outputs": [],
      "source": [
        "model.compile(loss = 'categorical_crossentropy', metrics = ['accuracy'])"
      ]
    },
    {
      "cell_type": "markdown",
      "id": "2f3a3a8d",
      "metadata": {
        "papermill": {
          "duration": 0.008791,
          "end_time": "2023-11-01T11:38:52.242019",
          "exception": false,
          "start_time": "2023-11-01T11:38:52.233228",
          "status": "completed"
        },
        "tags": [],
        "id": "2f3a3a8d"
      },
      "source": [
        "### Обучение модели"
      ]
    },
    {
      "cell_type": "code",
      "execution_count": 149,
      "id": "f30c0374",
      "metadata": {
        "execution": {
          "iopub.execute_input": "2023-11-01T11:38:52.261767Z",
          "iopub.status.busy": "2023-11-01T11:38:52.261344Z",
          "iopub.status.idle": "2023-11-01T11:38:54.873439Z",
          "shell.execute_reply": "2023-11-01T11:38:54.872352Z"
        },
        "papermill": {
          "duration": 2.624712,
          "end_time": "2023-11-01T11:38:54.875889",
          "exception": false,
          "start_time": "2023-11-01T11:38:52.251177",
          "status": "completed"
        },
        "tags": [],
        "colab": {
          "base_uri": "https://localhost:8080/"
        },
        "id": "f30c0374",
        "outputId": "ed38a5c9-657b-4d51-c7e8-ae6cd6953a16"
      },
      "outputs": [
        {
          "output_type": "stream",
          "name": "stdout",
          "text": [
            "Epoch 1/20\n",
            "320/320 [==============================] - 2s 5ms/step - loss: 0.3079 - accuracy: 0.8653 - val_loss: 0.3105 - val_accuracy: 0.8650\n",
            "Epoch 2/20\n",
            "320/320 [==============================] - 1s 5ms/step - loss: 0.3094 - accuracy: 0.8572 - val_loss: 0.3231 - val_accuracy: 0.8637\n",
            "Epoch 3/20\n",
            "320/320 [==============================] - 1s 4ms/step - loss: 0.3088 - accuracy: 0.8641 - val_loss: 0.2827 - val_accuracy: 0.8975\n",
            "Epoch 4/20\n",
            "320/320 [==============================] - 1s 4ms/step - loss: 0.3033 - accuracy: 0.8675 - val_loss: 0.4212 - val_accuracy: 0.8000\n",
            "Epoch 5/20\n",
            "320/320 [==============================] - 1s 4ms/step - loss: 0.3007 - accuracy: 0.8644 - val_loss: 0.3151 - val_accuracy: 0.8600\n",
            "Epoch 6/20\n",
            "320/320 [==============================] - 1s 4ms/step - loss: 0.2899 - accuracy: 0.8766 - val_loss: 0.2805 - val_accuracy: 0.8863\n",
            "Epoch 7/20\n",
            "320/320 [==============================] - 2s 6ms/step - loss: 0.2883 - accuracy: 0.8684 - val_loss: 0.3079 - val_accuracy: 0.8850\n",
            "Epoch 8/20\n",
            "320/320 [==============================] - 2s 5ms/step - loss: 0.2848 - accuracy: 0.8737 - val_loss: 0.3016 - val_accuracy: 0.8775\n",
            "Epoch 9/20\n",
            "320/320 [==============================] - 1s 5ms/step - loss: 0.2844 - accuracy: 0.8819 - val_loss: 0.3092 - val_accuracy: 0.8763\n",
            "Epoch 10/20\n",
            "320/320 [==============================] - 1s 4ms/step - loss: 0.2839 - accuracy: 0.8772 - val_loss: 0.3003 - val_accuracy: 0.8813\n",
            "Epoch 11/20\n",
            "320/320 [==============================] - 1s 4ms/step - loss: 0.2692 - accuracy: 0.8844 - val_loss: 0.3147 - val_accuracy: 0.8850\n",
            "Epoch 12/20\n",
            "320/320 [==============================] - 1s 5ms/step - loss: 0.2682 - accuracy: 0.8872 - val_loss: 0.2755 - val_accuracy: 0.9062\n",
            "Epoch 13/20\n",
            "320/320 [==============================] - 1s 4ms/step - loss: 0.2690 - accuracy: 0.8875 - val_loss: 0.2632 - val_accuracy: 0.9025\n",
            "Epoch 14/20\n",
            "320/320 [==============================] - 1s 4ms/step - loss: 0.2712 - accuracy: 0.8947 - val_loss: 0.2558 - val_accuracy: 0.9200\n",
            "Epoch 15/20\n",
            "320/320 [==============================] - 2s 6ms/step - loss: 0.2706 - accuracy: 0.8953 - val_loss: 0.2477 - val_accuracy: 0.9000\n",
            "Epoch 16/20\n",
            "320/320 [==============================] - 1s 4ms/step - loss: 0.2559 - accuracy: 0.8997 - val_loss: 0.4821 - val_accuracy: 0.8313\n",
            "Epoch 17/20\n",
            "320/320 [==============================] - 1s 4ms/step - loss: 0.2618 - accuracy: 0.8950 - val_loss: 0.2493 - val_accuracy: 0.9013\n",
            "Epoch 18/20\n",
            "320/320 [==============================] - 1s 4ms/step - loss: 0.2561 - accuracy: 0.9003 - val_loss: 0.3288 - val_accuracy: 0.8913\n",
            "Epoch 19/20\n",
            "320/320 [==============================] - 1s 4ms/step - loss: 0.2597 - accuracy: 0.8981 - val_loss: 0.2493 - val_accuracy: 0.8988\n",
            "Epoch 20/20\n",
            "320/320 [==============================] - 1s 4ms/step - loss: 0.2626 - accuracy: 0.9062 - val_loss: 0.2383 - val_accuracy: 0.9287\n"
          ]
        }
      ],
      "source": [
        "history = model.fit(X_train, y_train,\n",
        "          batch_size = 10,\n",
        "          epochs = 20,\n",
        "          verbose = 1,\n",
        "          validation_data = (X_valid, y_valid))"
      ]
    },
    {
      "cell_type": "markdown",
      "source": [
        "### Графики процесса обучения"
      ],
      "metadata": {
        "id": "ly5ksuoYAlFs"
      },
      "id": "ly5ksuoYAlFs"
    },
    {
      "cell_type": "code",
      "source": [
        "plt.figure()\n",
        "\n",
        "# обобщение истории для точности\n",
        "plt.subplot(211)\n",
        "plt.plot(history.history['accuracy'])\n",
        "plt.plot(history.history['val_accuracy'])\n",
        "plt.title('model accuracy')\n",
        "plt.ylabel('accuracy')\n",
        "plt.xlabel('epoch')\n",
        "plt.grid()\n",
        "plt.legend(['train', 'test'], loc='upper left')\n",
        "\n",
        "# обобщение истории для потерь\n",
        "plt.subplot(2, 1, 2)\n",
        "plt.plot(history.history['loss'])\n",
        "plt.plot(history.history['val_loss'])\n",
        "plt.title('model loss')\n",
        "plt.ylabel('loss')\n",
        "plt.grid()\n",
        "plt.xlabel('epoch')\n",
        "plt.legend(['train', 'test'], loc='upper left')\n",
        "plt.show()"
      ],
      "metadata": {
        "colab": {
          "base_uri": "https://localhost:8080/",
          "height": 472
        },
        "id": "CE26g4DQgsY6",
        "outputId": "27dd9528-a71f-444d-9586-edce81e14c15"
      },
      "id": "CE26g4DQgsY6",
      "execution_count": 168,
      "outputs": [
        {
          "output_type": "display_data",
          "data": {
            "text/plain": [
              "<Figure size 640x480 with 2 Axes>"
            ],
            "image/png": "[encoded data removed]"
          },
          "metadata": {}
        }
      ]
    },
    {
      "cell_type": "markdown",
      "id": "6131e87f",
      "metadata": {
        "papermill": {
          "duration": 0.012677,
          "end_time": "2023-11-01T11:38:54.902261",
          "exception": false,
          "start_time": "2023-11-01T11:38:54.889584",
          "status": "completed"
        },
        "tags": [],
        "id": "6131e87f"
      },
      "source": [
        "### Выведем фактическое и прогнозируемое значение"
      ]
    },
    {
      "cell_type": "code",
      "execution_count": 175,
      "id": "551c1da0",
      "metadata": {
        "execution": {
          "iopub.execute_input": "2023-11-01T11:38:54.930417Z",
          "iopub.status.busy": "2023-11-01T11:38:54.930030Z",
          "iopub.status.idle": "2023-11-01T11:38:55.084236Z",
          "shell.execute_reply": "2023-11-01T11:38:55.083084Z"
        },
        "papermill": {
          "duration": 0.170546,
          "end_time": "2023-11-01T11:38:55.086298",
          "exception": false,
          "start_time": "2023-11-01T11:38:54.915752",
          "status": "completed"
        },
        "tags": [],
        "id": "551c1da0",
        "colab": {
          "base_uri": "https://localhost:8080/"
        },
        "outputId": "5790ec1c-c9f8-47ff-c3be-224fe383cbf8"
      },
      "outputs": [
        {
          "output_type": "stream",
          "name": "stdout",
          "text": [
            "25/25 [==============================] - 0s 1ms/step\n",
            "Фактическое:    [1 0 0 1 0 0 0 0 1 1 1 1 0 1 1 0 0 0 0 0 0 0 1 1 1 0 0 1 1 0 1 0 0 0 0 1 0\n",
            " 1 1 1 0 1 0 1 0 1 1 1 0 0 1 1 0 0 1 0 0 0 1 0 0 1 1 1 0 1 1 1 0 1 1 0 1 0\n",
            " 1 1 1 0 0 1 0 1 0 1 1 0 0 1 1 0 0 0 0 1 1 1 0 0 1 1 1 1 0 0 1 0 0 0 0 0 1\n",
            " 1 0 0 0 0 0 0 0 1 0 0 1 0 0 1 1 0 0 1 0 1 1 1 1 0 0 0 1 0 1 0 1 0 1 0 1 1\n",
            " 0 1 0 1 1 1 1 0 0 1 0 0 0 1 0 1 1 0 0 1 0 1 0 1 1 1 0 0 1 0 1 1 0 1 0 0 0\n",
            " 1 1 0 0 0 1 0 0 0 0 1 0 1 0 1 0 1 1 0 0 1 0 0 0 0 1 1 1 0 1 1 1 0 0 1 0 1\n",
            " 1 0 0 0 1 0 0 1 1 0 1 1 1 1 1 1 1 0 0 0 1 0 0 1 1 0 0 0 1 1 0 1 0 1 0 1 0\n",
            " 0 0 0 1 0 1 0 0 1 0 0 0 1 0 0 0 1 0 1 0 0 1 1 0 0 1 0 1 0 0 0 0 1 1 0 0 1\n",
            " 0 1 1 1 0 1 1 1 0 1 0 1 0 1 1 1 1 0 0 0 1 1 1 1 1 0 1 0 1 1 0 0 0 0 0 0 0\n",
            " 0 0 1 1 0 0 0 0 1 1 0 0 1 1 0 1 1 1 0 0 0 1 1 0 1 0 0 1 1 1 1 1 0 0 0 1 1\n",
            " 1 0 1 1 1 0 1 1 0 0 1 1 1 1 1 0 0 0 1 1 0 0 0 0 1 0 1 0 1 1 0 0 0 0 1 0 1\n",
            " 1 0 1 0 1 0 1 1 0 0 1 1 1 0 0 0 1 1 0 1 1 0 1 0 0 0 1 1 0 0 1 1 1 1 0 1 1\n",
            " 0 1 1 1 0 0 0 1 1 0 1 0 1 1 0 0 0 1 1 1 0 0 1 0 1 1 0 0 1 1 1 1 0 1 0 1 0\n",
            " 0 1 0 0 1 0 1 1 1 1 0 1 0 0 1 0 1 0 0 1 0 1 0 0 1 1 1 1 0 1 0 1 1 0 0 0 1\n",
            " 1 1 1 0 1 0 1 0 0 1 1 1 1 0 0 1 1 0 1 1 0 0 1 0 0 1 0 0 1 1 1 0 1 1 1 0 1\n",
            " 0 0 0 0 0 1 0 0 1 0 1 0 1 1 1 0 1 1 0 1 0 1 0 1 0 0 0 1 0 1 1 0 0 1 1 1 0\n",
            " 1 0 1 0 0 1 1 1 1 0 1 0 0 0 1 0 0 1 0 0 1 1 1 1 0 0 1 1 0 0 0 0 1 1 0 0 1\n",
            " 0 1 1 0 0 0 0 1 0 1 1 1 1 1 1 1 0 1 1 1 1 0 0 0 1 1 0 0 0 0 1 1 1 1 0 1 0\n",
            " 0 0 0 1 0 0 0 1 0 0 0 1 0 0 0 1 1 0 0 1 0 1 0 1 0 1 0 0 0 0 1 1 0 0 0 1 1\n",
            " 0 1 1 1 1 0 0 0 0 1 1 1 0 1 1 1 1 0 1 0 1 0 0 1 0 0 1 1 1 0 0 0 1 1 0 0 1\n",
            " 1 1 0 1 1 1 1 0 0 1 0 1 0 1 1 0 0 1 1 1 0 0 1 1 1 1 0 1 0 0 1 1 0 1 1 0 0\n",
            " 1 0 0 1 1 1 0 0 0 0 0 0 1 1 0 1 0 0 0 1 1 1 1]\n",
            "Предсказанное: [1 1 0 1 0 1 0 0 1 0 1 1 0 1 1 0 0 0 0 0 0 0 1 1 1 0 0 1 1 0 1 1 0 0 1 0 0\n",
            " 1 1 1 0 1 0 1 0 1 1 1 0 0 1 1 0 1 1 0 0 0 1 0 0 1 1 1 0 1 1 1 0 1 1 0 1 0\n",
            " 1 1 1 0 0 1 0 1 0 1 1 0 0 1 1 0 0 0 0 1 0 1 0 0 1 1 1 1 0 0 0 0 0 0 0 0 1\n",
            " 1 0 0 0 0 0 0 0 1 0 0 1 0 0 1 0 0 0 1 0 1 1 1 1 0 0 0 1 0 1 0 1 0 1 0 1 1\n",
            " 0 1 0 1 1 1 1 0 0 1 0 0 0 1 0 1 1 0 0 1 1 1 0 1 1 1 1 0 1 0 1 1 1 1 0 0 0\n",
            " 1 1 0 0 0 1 0 0 0 0 1 0 1 0 1 0 1 1 0 0 1 0 0 0 0 1 1 1 0 1 1 1 0 1 1 0 1\n",
            " 1 0 0 1 1 0 0 1 1 0 1 1 1 1 1 0 1 0 0 0 1 0 0 1 1 0 0 0 1 1 0 1 0 1 0 1 0\n",
            " 0 0 0 1 0 0 0 1 1 0 0 0 1 0 0 0 1 0 1 0 0 1 1 0 0 1 0 1 0 0 0 0 0 1 0 0 1\n",
            " 0 1 0 1 0 1 1 1 0 1 1 1 0 1 1 1 1 0 0 0 1 1 1 1 1 0 1 0 1 1 0 0 0 0 0 0 0\n",
            " 0 1 1 1 0 0 0 0 1 1 0 0 1 1 0 1 1 1 0 0 0 1 0 1 1 0 0 1 1 0 1 1 0 0 0 1 1\n",
            " 1 0 1 1 1 0 1 1 0 0 1 1 1 0 1 0 0 0 1 1 0 0 0 0 1 0 1 0 1 1 0 0 0 0 1 0 1\n",
            " 1 0 1 0 1 0 1 1 0 0 0 1 1 1 0 0 1 1 0 1 1 0 1 0 0 0 1 1 0 0 1 1 1 1 0 1 1\n",
            " 1 1 1 1 0 0 0 1 1 0 1 0 1 1 0 0 0 1 1 0 0 0 1 1 1 1 0 0 1 1 1 1 0 1 0 1 0\n",
            " 0 1 0 0 1 0 1 1 1 1 0 1 0 0 1 0 1 0 0 1 0 1 1 0 1 1 1 1 0 1 0 1 1 0 0 1 1\n",
            " 1 1 1 0 1 0 1 0 0 1 1 1 1 0 1 1 1 0 1 1 0 0 1 0 0 1 0 0 1 1 1 0 0 1 1 0 1\n",
            " 0 0 0 0 0 1 0 0 1 1 1 0 1 0 1 0 1 1 0 1 0 1 0 1 0 0 1 1 0 1 1 0 0 0 1 1 0\n",
            " 1 0 1 0 1 1 1 1 1 0 1 0 0 0 1 0 0 1 0 0 0 1 1 1 0 0 1 1 0 0 1 0 1 0 0 0 1\n",
            " 0 1 1 0 0 0 0 1 0 1 1 1 1 1 1 1 0 0 1 1 0 0 0 1 1 1 0 0 0 0 1 1 1 1 0 1 0\n",
            " 0 0 0 1 0 0 0 1 0 0 0 1 0 0 0 1 1 1 0 1 0 0 0 1 0 1 0 1 0 0 1 1 0 0 0 1 1\n",
            " 0 1 1 1 1 0 0 0 1 1 1 1 0 1 1 0 1 0 1 0 1 0 0 1 0 0 1 1 0 0 0 0 1 1 0 1 0\n",
            " 1 1 0 1 1 1 1 1 0 1 0 1 0 1 1 0 0 1 1 1 0 0 1 1 1 1 0 0 0 0 1 1 0 1 1 0 0\n",
            " 1 0 0 1 1 1 0 0 0 0 0 1 1 1 0 1 0 0 0 1 1 1 1]\n"
          ]
        }
      ],
      "source": [
        "y_pred = model.predict(X_valid)\n",
        "\n",
        "actual = np.argmax(y_valid, axis = 1)\n",
        "predicted = np.argmax(y_pred, axis = 1)\n",
        "\n",
        "print(f\"Фактическое:    {actual}\")\n",
        "print(f\"Предсказанное: {predicted}\")"
      ]
    }
  ],
  "metadata": {
    "kernelspec": {
      "display_name": "Python 3",
      "language": "python",
      "name": "python3"
    },
    "language_info": {
      "codemirror_mode": {
        "name": "ipython",
        "version": 3
      },
      "file_extension": ".py",
      "mimetype": "text/x-python",
      "name": "python",
      "nbconvert_exporter": "python",
      "pygments_lexer": "ipython3",
      "version": "3.10.12"
    },
    "papermill": {
      "default_parameters": {},
      "duration": 19.283487,
      "end_time": "2023-11-01T11:38:57.581498",
      "environment_variables": {},
      "exception": null,
      "input_path": "__notebook__.ipynb",
      "output_path": "__notebook__.ipynb",
      "parameters": {},
      "start_time": "2023-11-01T11:38:38.298011",
      "version": "2.4.0"
    },
    "colab": {
      "provenance": []
    }
  },
  "nbformat": 4,
  "nbformat_minor": 5
}